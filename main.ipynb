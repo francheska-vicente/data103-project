{
 "cells": [
  {
   "cell_type": "markdown",
   "metadata": {
    "id": "xQpzOBMe7UKh"
   },
   "source": [
    "# **Insert Title Here**\n",
    "**DATA103 S11 Group 4**\n",
    "- GOZON, Jean Pauline D.\n",
    "- JAMIAS, Gillian Nicole A.\n",
    "- MARCELO Andrea Jean C. \n",
    "- REYES, Anton Gabriel G.\n",
    "- VICENTE, Francheska Josefa"
   ]
  },
  {
   "cell_type": "markdown",
   "metadata": {
    "id": "_iaqOqa27AJa"
   },
   "source": [
    "## **Introduction**"
   ]
  },
  {
   "cell_type": "markdown",
   "metadata": {
    "id": "MX7Oyiuw7u76"
   },
   "source": [
    "### **Requirements and Imports**"
   ]
  },
  {
   "cell_type": "markdown",
   "metadata": {
    "id": "vLhPdUtW7zkB"
   },
   "source": [
    "#### Imports"
   ]
  },
  {
   "cell_type": "markdown",
   "metadata": {
    "id": "McPgWjwsglQw"
   },
   "source": [
    "**Basic Libraries**\n",
    "\n",
    "* `numpy` contains a large collection of mathematical functions\n",
    "* `pandas` contains functions that are designed for data manipulation and data analysis\n",
    "\n"
   ]
  },
  {
   "cell_type": "code",
   "execution_count": 1,
   "metadata": {
    "id": "82rNPPaTpyfe"
   },
   "outputs": [],
   "source": [
    "import numpy as np\n",
    "import pandas as pd"
   ]
  },
  {
   "cell_type": "markdown",
   "metadata": {
    "id": "HjRvGoC9g_25"
   },
   "source": [
    "**Visualization Libraries**\n",
    "\n",
    "* `matplotlib.pyplot` contains functions to create interactive plots\n",
    "* `seaborn` is a library based on matplotlib that allows for data visualization\n",
    "* `spacy` is a Python-based open-source library used in processing text data. \n",
    "* `wordcloud` contains functions for generating wordclouds from text data "
   ]
  },
  {
   "cell_type": "code",
   "execution_count": 2,
   "metadata": {
    "id": "5YGgFzaZp1MO"
   },
   "outputs": [],
   "source": [
    "import matplotlib.pyplot as plt\n",
    "import seaborn as sns\n",
    "import spacy\n",
    "from wordcloud import WordCloud\n",
    "from wordcloud import ImageColorGenerator\n",
    "from wordcloud import WordCloud, STOPWORDS"
   ]
  },
  {
   "cell_type": "markdown",
   "metadata": {
    "id": "mUGR_tXwiDhV"
   },
   "source": [
    "**Natural Language Processing Libraries**\n",
    "* `re` is a module that allows the use of regular expressions\n",
    "* `nltk` provides functions for processing text data\n",
    "* `stopwords` is a corpus from NLTK, which includes a compiled list of stopwords\n",
    "* `Counter` is from Python's collections module, which is helpful for tokenization\n",
    "* `string` contains functions for string operations\n",
    "* `TFidfVectorizer` converts the given text documents into a matrix, which has TF-IDF features\n",
    "* `CountVectorizer` converts the given text documents into a matrix, which has the counts of the tokens"
   ]
  },
  {
   "cell_type": "code",
   "execution_count": 3,
   "metadata": {
    "colab": {
     "base_uri": "https://localhost:8080/"
    },
    "id": "Ka0AZNlQp_xU",
    "outputId": "50dc49c4-e664-4b42-b7e6-0ece77f9a357"
   },
   "outputs": [
    {
     "name": "stderr",
     "output_type": "stream",
     "text": [
      "[nltk_data] Downloading package stopwords to\n",
      "[nltk_data]     C:\\Users\\admin\\AppData\\Roaming\\nltk_data...\n",
      "[nltk_data]   Package stopwords is already up-to-date!\n",
      "[nltk_data] Downloading package punkt to\n",
      "[nltk_data]     C:\\Users\\admin\\AppData\\Roaming\\nltk_data...\n",
      "[nltk_data]   Package punkt is already up-to-date!\n",
      "[nltk_data] Downloading package wordnet to\n",
      "[nltk_data]     C:\\Users\\admin\\AppData\\Roaming\\nltk_data...\n",
      "[nltk_data]   Package wordnet is already up-to-date!\n",
      "[nltk_data] Downloading package omw-1.4 to\n",
      "[nltk_data]     C:\\Users\\admin\\AppData\\Roaming\\nltk_data...\n",
      "[nltk_data]   Package omw-1.4 is already up-to-date!\n",
      "[nltk_data] Downloading package vader_lexicon to\n",
      "[nltk_data]     C:\\Users\\admin\\AppData\\Roaming\\nltk_data...\n",
      "[nltk_data]   Package vader_lexicon is already up-to-date!\n"
     ]
    }
   ],
   "source": [
    "import re\n",
    "import nltk\n",
    "from nltk.corpus import stopwords\n",
    "from nltk.stem import WordNetLemmatizer\n",
    "from nltk.tokenize import RegexpTokenizer\n",
    "from nltk.probability import FreqDist\n",
    "from nltk.stem import WordNetLemmatizer\n",
    "from nltk.sentiment import SentimentIntensityAnalyzer\n",
    "from nltk.tokenize import word_tokenize\n",
    "from nltk import ngrams\n",
    "\n",
    "nltk.download('stopwords')\n",
    "nltk.download('punkt')\n",
    "nltk.download('wordnet')\n",
    "nltk.download('omw-1.4')\n",
    "nltk.download('vader_lexicon')\n",
    "\n",
    "from collections import Counter\n",
    "import string\n",
    "\n",
    "from sklearn.feature_extraction.text import TfidfVectorizer\n",
    "from sklearn.feature_extraction.text import CountVectorizer"
   ]
  },
  {
   "cell_type": "markdown",
   "metadata": {
    "id": "D_M-Pj_A4Ona"
   },
   "source": [
    "**Machine Learning Libraries**\n",
    "\n",
    "* `torch` this is an open source ML library for deep neural network creation\n",
    "* `transformers` contains pre-trained models\n"
   ]
  },
  {
   "cell_type": "code",
   "execution_count": 4,
   "metadata": {
    "id": "yIVc5EA6GNZC"
   },
   "outputs": [],
   "source": [
    "#!pip install transformers"
   ]
  },
  {
   "cell_type": "code",
   "execution_count": 5,
   "metadata": {
    "id": "vS_U_vK24OEf"
   },
   "outputs": [],
   "source": [
    "import torch\n",
    "from transformers import BertTokenizer, BertTokenizerFast, BertModel \n",
    "from transformers import AutoTokenizer"
   ]
  },
  {
   "cell_type": "markdown",
   "metadata": {
    "id": "riB5SpFCpWPj"
   },
   "source": [
    "**Google Drive**\n",
    "* `google.colab` a library that allows the colab notebook to mount the google drive"
   ]
  },
  {
   "cell_type": "raw",
   "metadata": {
    "colab": {
     "base_uri": "https://localhost:8080/"
    },
    "id": "ISceA7sdpasq",
    "outputId": "cf693468-3103-4748-dc33-48ac1304e12c"
   },
   "source": [
    "from google.colab import drive\n",
    "drive.mount('/content/drive')"
   ]
  },
  {
   "cell_type": "markdown",
   "metadata": {
    "id": "8zBoR7vo738e"
   },
   "source": [
    "#### Datasets and Files"
   ]
  },
  {
   "cell_type": "markdown",
   "metadata": {
    "id": "BKKTacy6lVth"
   },
   "source": [
    "The following `.csv` files were used in this project:\n",
    "* `Suicide_Detection.csv` contains the text itself and the two classes namely suicide and non-suicide. Retrieved from the \"Suicide and Depression Detection\" in Kaggle\n",
    "* `twitter-suicidal-intention-dataset.csv` similar to `Suicide_Detection.csv` but intention is numbered. For the intention column, 1 means tweet is suicidal and 0 means it is not. Retrieved from github.\n",
    "* `500_anonymized_Reddit_users_posts_labels.csv` contains text from a post and the label of intention. (4 labels available)\n",
    "* `suicide notes.csv` contains text of suicide notes but it does not have a column labelling the notes as suicidal"
   ]
  },
  {
   "cell_type": "markdown",
   "metadata": {
    "id": "q-XfJf6p7-Pc"
   },
   "source": [
    "## **Data Collection**\n",
    "\n",
    "```\n",
    "# This is formatted as code\n",
    "```\n",
    "\n"
   ]
  },
  {
   "cell_type": "code",
   "execution_count": 6,
   "metadata": {
    "colab": {
     "base_uri": "https://localhost:8080/"
    },
    "id": "k68uY6RKpMVE",
    "outputId": "b22aa29f-da4a-43b9-9d6d-d7acde1b97e3"
   },
   "outputs": [
    {
     "data": {
      "text/html": [
       "<div>\n",
       "<style scoped>\n",
       "    .dataframe tbody tr th:only-of-type {\n",
       "        vertical-align: middle;\n",
       "    }\n",
       "\n",
       "    .dataframe tbody tr th {\n",
       "        vertical-align: top;\n",
       "    }\n",
       "\n",
       "    .dataframe thead th {\n",
       "        text-align: right;\n",
       "    }\n",
       "</style>\n",
       "<table border=\"1\" class=\"dataframe\">\n",
       "  <thead>\n",
       "    <tr style=\"text-align: right;\">\n",
       "      <th></th>\n",
       "      <th>Unnamed: 0</th>\n",
       "      <th>text</th>\n",
       "      <th>class</th>\n",
       "    </tr>\n",
       "  </thead>\n",
       "  <tbody>\n",
       "    <tr>\n",
       "      <th>0</th>\n",
       "      <td>2</td>\n",
       "      <td>Ex Wife Threatening SuicideRecently I left my ...</td>\n",
       "      <td>suicide</td>\n",
       "    </tr>\n",
       "    <tr>\n",
       "      <th>1</th>\n",
       "      <td>3</td>\n",
       "      <td>Am I weird I don't get affected by compliments...</td>\n",
       "      <td>non-suicide</td>\n",
       "    </tr>\n",
       "    <tr>\n",
       "      <th>2</th>\n",
       "      <td>4</td>\n",
       "      <td>Finally 2020 is almost over... So I can never ...</td>\n",
       "      <td>non-suicide</td>\n",
       "    </tr>\n",
       "    <tr>\n",
       "      <th>3</th>\n",
       "      <td>8</td>\n",
       "      <td>i need helpjust help me im crying so hard</td>\n",
       "      <td>suicide</td>\n",
       "    </tr>\n",
       "    <tr>\n",
       "      <th>4</th>\n",
       "      <td>9</td>\n",
       "      <td>I’m so lostHello, my name is Adam (16) and I’v...</td>\n",
       "      <td>suicide</td>\n",
       "    </tr>\n",
       "  </tbody>\n",
       "</table>\n",
       "</div>"
      ],
      "text/plain": [
       "   Unnamed: 0                                               text        class\n",
       "0           2  Ex Wife Threatening SuicideRecently I left my ...      suicide\n",
       "1           3  Am I weird I don't get affected by compliments...  non-suicide\n",
       "2           4  Finally 2020 is almost over... So I can never ...  non-suicide\n",
       "3           8          i need helpjust help me im crying so hard      suicide\n",
       "4           9  I’m so lostHello, my name is Adam (16) and I’v...      suicide"
      ]
     },
     "execution_count": 6,
     "metadata": {},
     "output_type": "execute_result"
    }
   ],
   "source": [
    "#importing the .csv file from kaggle\n",
    "watch_df = pd.read_csv('data/Suicide_Detection.csv')\n",
    "watch_df.head()"
   ]
  },
  {
   "cell_type": "code",
   "execution_count": 7,
   "metadata": {
    "colab": {
     "base_uri": "https://localhost:8080/"
    },
    "id": "z5wQ0AK5tuDx",
    "outputId": "d5d9d128-c85b-4ef3-e185-7e012a40185e"
   },
   "outputs": [
    {
     "name": "stdout",
     "output_type": "stream",
     "text": [
      "['suicide' 'non-suicide']\n"
     ]
    }
   ],
   "source": [
    "print(watch_df[\"class\"].unique())"
   ]
  },
  {
   "cell_type": "code",
   "execution_count": 8,
   "metadata": {
    "colab": {
     "base_uri": "https://localhost:8080/"
    },
    "id": "34i0ZI6Epa44",
    "outputId": "1c334fb2-8e07-4577-e684-24cbcac1b196"
   },
   "outputs": [
    {
     "data": {
      "text/html": [
       "<div>\n",
       "<style scoped>\n",
       "    .dataframe tbody tr th:only-of-type {\n",
       "        vertical-align: middle;\n",
       "    }\n",
       "\n",
       "    .dataframe tbody tr th {\n",
       "        vertical-align: top;\n",
       "    }\n",
       "\n",
       "    .dataframe thead th {\n",
       "        text-align: right;\n",
       "    }\n",
       "</style>\n",
       "<table border=\"1\" class=\"dataframe\">\n",
       "  <thead>\n",
       "    <tr style=\"text-align: right;\">\n",
       "      <th></th>\n",
       "      <th>tweet</th>\n",
       "      <th>intention</th>\n",
       "    </tr>\n",
       "  </thead>\n",
       "  <tbody>\n",
       "    <tr>\n",
       "      <th>0</th>\n",
       "      <td>my life is meaningless i just want to end my l...</td>\n",
       "      <td>1</td>\n",
       "    </tr>\n",
       "    <tr>\n",
       "      <th>1</th>\n",
       "      <td>muttering i wanna die to myself daily for a fe...</td>\n",
       "      <td>1</td>\n",
       "    </tr>\n",
       "    <tr>\n",
       "      <th>2</th>\n",
       "      <td>work slave i really feel like my only purpose ...</td>\n",
       "      <td>1</td>\n",
       "    </tr>\n",
       "    <tr>\n",
       "      <th>3</th>\n",
       "      <td>i did something on the 2 of october i overdose...</td>\n",
       "      <td>1</td>\n",
       "    </tr>\n",
       "    <tr>\n",
       "      <th>4</th>\n",
       "      <td>i feel like no one cares i just want to die ma...</td>\n",
       "      <td>1</td>\n",
       "    </tr>\n",
       "  </tbody>\n",
       "</table>\n",
       "</div>"
      ],
      "text/plain": [
       "                                               tweet  intention\n",
       "0  my life is meaningless i just want to end my l...          1\n",
       "1  muttering i wanna die to myself daily for a fe...          1\n",
       "2  work slave i really feel like my only purpose ...          1\n",
       "3  i did something on the 2 of october i overdose...          1\n",
       "4  i feel like no one cares i just want to die ma...          1"
      ]
     },
     "execution_count": 8,
     "metadata": {},
     "output_type": "execute_result"
    }
   ],
   "source": [
    "# importing the twitter dataset\n",
    "url = \"https://raw.githubusercontent.com/laxmimerit/twitter-suicidal-intention-dataset/master/twitter-suicidal_data.csv\"\n",
    "twit_df = pd.read_csv(url)\n",
    "twit_df.head()"
   ]
  },
  {
   "cell_type": "code",
   "execution_count": 9,
   "metadata": {
    "colab": {
     "base_uri": "https://localhost:8080/"
    },
    "id": "ifyiMD6Ltyak",
    "outputId": "60a51cba-e000-4964-94ab-fec9f1bdc7b1"
   },
   "outputs": [
    {
     "name": "stdout",
     "output_type": "stream",
     "text": [
      "[1 0]\n"
     ]
    }
   ],
   "source": [
    "print(twit_df[\"intention\"].unique())"
   ]
  },
  {
   "cell_type": "code",
   "execution_count": 10,
   "metadata": {
    "colab": {
     "base_uri": "https://localhost:8080/"
    },
    "id": "IlYQI6R9xBN_",
    "outputId": "f08f2ec5-5d8c-4c74-f5f0-75c6310caea6"
   },
   "outputs": [
    {
     "data": {
      "text/html": [
       "<div>\n",
       "<style scoped>\n",
       "    .dataframe tbody tr th:only-of-type {\n",
       "        vertical-align: middle;\n",
       "    }\n",
       "\n",
       "    .dataframe tbody tr th {\n",
       "        vertical-align: top;\n",
       "    }\n",
       "\n",
       "    .dataframe thead th {\n",
       "        text-align: right;\n",
       "    }\n",
       "</style>\n",
       "<table border=\"1\" class=\"dataframe\">\n",
       "  <thead>\n",
       "    <tr style=\"text-align: right;\">\n",
       "      <th></th>\n",
       "      <th>User</th>\n",
       "      <th>Post</th>\n",
       "      <th>Label</th>\n",
       "    </tr>\n",
       "  </thead>\n",
       "  <tbody>\n",
       "    <tr>\n",
       "      <th>0</th>\n",
       "      <td>user-0</td>\n",
       "      <td>['Its not a viable option, and youll be leavin...</td>\n",
       "      <td>Supportive</td>\n",
       "    </tr>\n",
       "    <tr>\n",
       "      <th>1</th>\n",
       "      <td>user-1</td>\n",
       "      <td>['It can be hard to appreciate the notion that...</td>\n",
       "      <td>Ideation</td>\n",
       "    </tr>\n",
       "    <tr>\n",
       "      <th>2</th>\n",
       "      <td>user-2</td>\n",
       "      <td>['Hi, so last night i was sitting on the ledge...</td>\n",
       "      <td>Behavior</td>\n",
       "    </tr>\n",
       "    <tr>\n",
       "      <th>3</th>\n",
       "      <td>user-3</td>\n",
       "      <td>['I tried to kill my self once and failed badl...</td>\n",
       "      <td>Attempt</td>\n",
       "    </tr>\n",
       "    <tr>\n",
       "      <th>4</th>\n",
       "      <td>user-4</td>\n",
       "      <td>['Hi NEM3030. What sorts of things do you enjo...</td>\n",
       "      <td>Ideation</td>\n",
       "    </tr>\n",
       "  </tbody>\n",
       "</table>\n",
       "</div>"
      ],
      "text/plain": [
       "     User                                               Post       Label\n",
       "0  user-0  ['Its not a viable option, and youll be leavin...  Supportive\n",
       "1  user-1  ['It can be hard to appreciate the notion that...    Ideation\n",
       "2  user-2  ['Hi, so last night i was sitting on the ledge...    Behavior\n",
       "3  user-3  ['I tried to kill my self once and failed badl...     Attempt\n",
       "4  user-4  ['Hi NEM3030. What sorts of things do you enjo...    Ideation"
      ]
     },
     "execution_count": 10,
     "metadata": {},
     "output_type": "execute_result"
    }
   ],
   "source": [
    "anon_df = pd.read_csv(\"data/500_anonymized_Reddit_posts.csv\")\n",
    "anon_df.head()"
   ]
  },
  {
   "cell_type": "code",
   "execution_count": 11,
   "metadata": {
    "colab": {
     "base_uri": "https://localhost:8080/"
    },
    "id": "48-weQ2ltI1E",
    "outputId": "92742ead-41d8-4cc2-c8ef-74630b8cd62e"
   },
   "outputs": [
    {
     "name": "stdout",
     "output_type": "stream",
     "text": [
      "['Supportive' 'Ideation' 'Behavior' 'Attempt' 'Indicator']\n"
     ]
    }
   ],
   "source": [
    "print(anon_df[\"Label\"].unique())"
   ]
  },
  {
   "cell_type": "code",
   "execution_count": 12,
   "metadata": {
    "colab": {
     "base_uri": "https://localhost:8080/"
    },
    "id": "6huuvsTLxdUU",
    "outputId": "edf0467f-3be3-4bf8-cb48-66b455f50e2e"
   },
   "outputs": [
    {
     "data": {
      "text/html": [
       "<div>\n",
       "<style scoped>\n",
       "    .dataframe tbody tr th:only-of-type {\n",
       "        vertical-align: middle;\n",
       "    }\n",
       "\n",
       "    .dataframe tbody tr th {\n",
       "        vertical-align: top;\n",
       "    }\n",
       "\n",
       "    .dataframe thead th {\n",
       "        text-align: right;\n",
       "    }\n",
       "</style>\n",
       "<table border=\"1\" class=\"dataframe\">\n",
       "  <thead>\n",
       "    <tr style=\"text-align: right;\">\n",
       "      <th></th>\n",
       "      <th>id</th>\n",
       "      <th>text</th>\n",
       "    </tr>\n",
       "  </thead>\n",
       "  <tbody>\n",
       "    <tr>\n",
       "      <th>0</th>\n",
       "      <td>1</td>\n",
       "      <td>I have to put this in writing somehow so I sti...</td>\n",
       "    </tr>\n",
       "    <tr>\n",
       "      <th>1</th>\n",
       "      <td>2</td>\n",
       "      <td>I've made my peace with the fact that I'm goin...</td>\n",
       "    </tr>\n",
       "    <tr>\n",
       "      <th>2</th>\n",
       "      <td>3</td>\n",
       "      <td>I really want help now i just cant so this any...</td>\n",
       "    </tr>\n",
       "    <tr>\n",
       "      <th>3</th>\n",
       "      <td>4</td>\n",
       "      <td>I can't think of any reason to stay. I have no...</td>\n",
       "    </tr>\n",
       "    <tr>\n",
       "      <th>4</th>\n",
       "      <td>5</td>\n",
       "      <td>NaN</td>\n",
       "    </tr>\n",
       "  </tbody>\n",
       "</table>\n",
       "</div>"
      ],
      "text/plain": [
       "   id                                               text\n",
       "0   1  I have to put this in writing somehow so I sti...\n",
       "1   2  I've made my peace with the fact that I'm goin...\n",
       "2   3  I really want help now i just cant so this any...\n",
       "3   4  I can't think of any reason to stay. I have no...\n",
       "4   5                                                NaN"
      ]
     },
     "execution_count": 12,
     "metadata": {},
     "output_type": "execute_result"
    }
   ],
   "source": [
    "notes_df = pd.read_csv(\"data/suicide notes.csv\")\n",
    "notes_df.head()"
   ]
  },
  {
   "cell_type": "markdown",
   "metadata": {
    "id": "8zYEi6d5ooAV"
   },
   "source": [
    "## **Description of the Dataset**"
   ]
  },
  {
   "cell_type": "code",
   "execution_count": 13,
   "metadata": {
    "colab": {
     "base_uri": "https://localhost:8080/"
    },
    "id": "9oC3Sfrtrjse",
    "outputId": "6c4d14b1-8d31-46f6-9638-e29ade0a179a"
   },
   "outputs": [
    {
     "data": {
      "text/plain": [
       "(232074, 3)"
      ]
     },
     "metadata": {},
     "output_type": "display_data"
    },
    {
     "data": {
      "text/plain": [
       "(9119, 2)"
      ]
     },
     "metadata": {},
     "output_type": "display_data"
    },
    {
     "data": {
      "text/plain": [
       "(500, 3)"
      ]
     },
     "metadata": {},
     "output_type": "display_data"
    },
    {
     "data": {
      "text/plain": [
       "(498, 2)"
      ]
     },
     "metadata": {},
     "output_type": "display_data"
    }
   ],
   "source": [
    "#getting the shape of the four datasets\n",
    "display(watch_df.shape, twit_df.shape, anon_df.shape, notes_df.shape)"
   ]
  },
  {
   "cell_type": "code",
   "execution_count": 14,
   "metadata": {
    "colab": {
     "base_uri": "https://localhost:8080/"
    },
    "id": "spPo2VPAvQW5",
    "outputId": "3ed17013-b363-41ae-f1b8-e5ee6cde9766"
   },
   "outputs": [
    {
     "name": "stdout",
     "output_type": "stream",
     "text": [
      "<class 'pandas.core.frame.DataFrame'>\n",
      "RangeIndex: 232074 entries, 0 to 232073\n",
      "Data columns (total 3 columns):\n",
      " #   Column      Non-Null Count   Dtype \n",
      "---  ------      --------------   ----- \n",
      " 0   Unnamed: 0  232074 non-null  int64 \n",
      " 1   text        232074 non-null  object\n",
      " 2   class       232074 non-null  object\n",
      "dtypes: int64(1), object(2)\n",
      "memory usage: 5.3+ MB\n",
      "<class 'pandas.core.frame.DataFrame'>\n",
      "RangeIndex: 9119 entries, 0 to 9118\n",
      "Data columns (total 2 columns):\n",
      " #   Column     Non-Null Count  Dtype \n",
      "---  ------     --------------  ----- \n",
      " 0   tweet      9119 non-null   object\n",
      " 1   intention  9119 non-null   int64 \n",
      "dtypes: int64(1), object(1)\n",
      "memory usage: 142.6+ KB\n",
      "<class 'pandas.core.frame.DataFrame'>\n",
      "RangeIndex: 500 entries, 0 to 499\n",
      "Data columns (total 3 columns):\n",
      " #   Column  Non-Null Count  Dtype \n",
      "---  ------  --------------  ----- \n",
      " 0   User    500 non-null    object\n",
      " 1   Post    500 non-null    object\n",
      " 2   Label   500 non-null    object\n",
      "dtypes: object(3)\n",
      "memory usage: 11.8+ KB\n",
      "<class 'pandas.core.frame.DataFrame'>\n",
      "RangeIndex: 498 entries, 0 to 497\n",
      "Data columns (total 2 columns):\n",
      " #   Column  Non-Null Count  Dtype \n",
      "---  ------  --------------  ----- \n",
      " 0   id      498 non-null    int64 \n",
      " 1   text    467 non-null    object\n",
      "dtypes: int64(1), object(1)\n",
      "memory usage: 7.9+ KB\n",
      "None None None None\n"
     ]
    }
   ],
   "source": [
    "print(watch_df.info(), twit_df.info(), anon_df.info(), notes_df.info())"
   ]
  },
  {
   "cell_type": "markdown",
   "metadata": {
    "id": "nZcBY0G80dQe"
   },
   "source": [
    "After seeing the number of features in each column per dataset, dataframes `watch_df`, `twit_df`, and `anon_df` are complete. However, dataframe `notes_df` contains null values. "
   ]
  },
  {
   "cell_type": "markdown",
   "metadata": {
    "id": "hcjZ3AyQ8NzR"
   },
   "source": [
    "## **Data Preprocessing**"
   ]
  },
  {
   "cell_type": "markdown",
   "metadata": {
    "id": "y4PGobu8vBNU"
   },
   "source": [
    "### **Pre-Processing**"
   ]
  },
  {
   "cell_type": "markdown",
   "metadata": {
    "id": "3SqgyWNIRGXe"
   },
   "source": [
    "#### DataFrames"
   ]
  },
  {
   "cell_type": "markdown",
   "metadata": {
    "id": "wXMEc7FMlauJ"
   },
   "source": [
    "Since the dataframe `notes_df` has null values, we will get rid of those rows using panda's dropna() function. Setting the axis to 0 allows us to drop rows which contain missing values. Additionally, the how parameter set to any causes that row to be removed if there is at least 1 null value present in that row. Having inplace equal to true modifies the exisiting Dataframe."
   ]
  },
  {
   "cell_type": "code",
   "execution_count": 15,
   "metadata": {
    "id": "8oxrNve17WhB"
   },
   "outputs": [],
   "source": [
    "notes_df.dropna(axis = 0, how = \"any\", inplace=True)"
   ]
  },
  {
   "cell_type": "markdown",
   "metadata": {
    "id": "BANqANG6mD81"
   },
   "source": [
    "After checking the total number of null values  in the whole `notes_df` we can see it is equal to zero."
   ]
  },
  {
   "cell_type": "code",
   "execution_count": 16,
   "metadata": {
    "colab": {
     "base_uri": "https://localhost:8080/"
    },
    "id": "D1DpVQ46mEq2",
    "outputId": "e2a9219f-1628-4040-c3ca-1c3041c66b69"
   },
   "outputs": [
    {
     "data": {
      "text/plain": [
       "0"
      ]
     },
     "execution_count": 16,
     "metadata": {},
     "output_type": "execute_result"
    }
   ],
   "source": [
    "notes_df.isnull().sum().sum()"
   ]
  },
  {
   "cell_type": "markdown",
   "metadata": {
    "id": "H0BbdXYD2YE8"
   },
   "source": [
    "For some of the dataframes, the `user`, `id`, and `unnamed column` would not be needed and therefore would be dropped."
   ]
  },
  {
   "cell_type": "code",
   "execution_count": 17,
   "metadata": {
    "id": "MlLQibBwvEoP"
   },
   "outputs": [],
   "source": [
    "anon_df = anon_df.drop(\"User\", axis = 1)\n",
    "notes_df = notes_df.drop(\"id\", axis = 1)\n",
    "watch_df = watch_df.drop(\"Unnamed: 0\", axis = 1)"
   ]
  },
  {
   "cell_type": "code",
   "execution_count": 18,
   "metadata": {
    "colab": {
     "base_uri": "https://localhost:8080/"
    },
    "id": "6AoHzbmi3Sth",
    "outputId": "69dc9729-bb64-49d4-8d20-681259cd4590"
   },
   "outputs": [
    {
     "data": {
      "text/plain": [
       "'anon_df'"
      ]
     },
     "metadata": {},
     "output_type": "display_data"
    },
    {
     "data": {
      "text/plain": [
       "Index(['Post', 'Label'], dtype='object')"
      ]
     },
     "metadata": {},
     "output_type": "display_data"
    },
    {
     "data": {
      "text/plain": [
       "'notes_df'"
      ]
     },
     "metadata": {},
     "output_type": "display_data"
    },
    {
     "data": {
      "text/plain": [
       "Index(['text'], dtype='object')"
      ]
     },
     "metadata": {},
     "output_type": "display_data"
    },
    {
     "data": {
      "text/plain": [
       "'watch_df'"
      ]
     },
     "metadata": {},
     "output_type": "display_data"
    },
    {
     "data": {
      "text/plain": [
       "Index(['text', 'class'], dtype='object')"
      ]
     },
     "metadata": {},
     "output_type": "display_data"
    }
   ],
   "source": [
    "display(\"anon_df\",anon_df.columns, \"notes_df\", notes_df.columns, \"watch_df\", watch_df.columns)"
   ]
  },
  {
   "cell_type": "code",
   "execution_count": 19,
   "metadata": {
    "colab": {
     "base_uri": "https://localhost:8080/"
    },
    "id": "vUExBkes3Vyy",
    "outputId": "b6b03afd-36c1-4677-e4ac-7f2e248d6cb5"
   },
   "outputs": [
    {
     "data": {
      "text/plain": [
       "'anon_df'"
      ]
     },
     "metadata": {},
     "output_type": "display_data"
    },
    {
     "data": {
      "text/html": [
       "<div>\n",
       "<style scoped>\n",
       "    .dataframe tbody tr th:only-of-type {\n",
       "        vertical-align: middle;\n",
       "    }\n",
       "\n",
       "    .dataframe tbody tr th {\n",
       "        vertical-align: top;\n",
       "    }\n",
       "\n",
       "    .dataframe thead th {\n",
       "        text-align: right;\n",
       "    }\n",
       "</style>\n",
       "<table border=\"1\" class=\"dataframe\">\n",
       "  <thead>\n",
       "    <tr style=\"text-align: right;\">\n",
       "      <th></th>\n",
       "      <th>Post</th>\n",
       "      <th>Label</th>\n",
       "    </tr>\n",
       "  </thead>\n",
       "  <tbody>\n",
       "    <tr>\n",
       "      <th>0</th>\n",
       "      <td>['Its not a viable option, and youll be leavin...</td>\n",
       "      <td>Supportive</td>\n",
       "    </tr>\n",
       "    <tr>\n",
       "      <th>1</th>\n",
       "      <td>['It can be hard to appreciate the notion that...</td>\n",
       "      <td>Ideation</td>\n",
       "    </tr>\n",
       "    <tr>\n",
       "      <th>2</th>\n",
       "      <td>['Hi, so last night i was sitting on the ledge...</td>\n",
       "      <td>Behavior</td>\n",
       "    </tr>\n",
       "    <tr>\n",
       "      <th>3</th>\n",
       "      <td>['I tried to kill my self once and failed badl...</td>\n",
       "      <td>Attempt</td>\n",
       "    </tr>\n",
       "    <tr>\n",
       "      <th>4</th>\n",
       "      <td>['Hi NEM3030. What sorts of things do you enjo...</td>\n",
       "      <td>Ideation</td>\n",
       "    </tr>\n",
       "  </tbody>\n",
       "</table>\n",
       "</div>"
      ],
      "text/plain": [
       "                                                Post       Label\n",
       "0  ['Its not a viable option, and youll be leavin...  Supportive\n",
       "1  ['It can be hard to appreciate the notion that...    Ideation\n",
       "2  ['Hi, so last night i was sitting on the ledge...    Behavior\n",
       "3  ['I tried to kill my self once and failed badl...     Attempt\n",
       "4  ['Hi NEM3030. What sorts of things do you enjo...    Ideation"
      ]
     },
     "metadata": {},
     "output_type": "display_data"
    },
    {
     "data": {
      "text/plain": [
       "'notes_df'"
      ]
     },
     "metadata": {},
     "output_type": "display_data"
    },
    {
     "data": {
      "text/html": [
       "<div>\n",
       "<style scoped>\n",
       "    .dataframe tbody tr th:only-of-type {\n",
       "        vertical-align: middle;\n",
       "    }\n",
       "\n",
       "    .dataframe tbody tr th {\n",
       "        vertical-align: top;\n",
       "    }\n",
       "\n",
       "    .dataframe thead th {\n",
       "        text-align: right;\n",
       "    }\n",
       "</style>\n",
       "<table border=\"1\" class=\"dataframe\">\n",
       "  <thead>\n",
       "    <tr style=\"text-align: right;\">\n",
       "      <th></th>\n",
       "      <th>text</th>\n",
       "    </tr>\n",
       "  </thead>\n",
       "  <tbody>\n",
       "    <tr>\n",
       "      <th>0</th>\n",
       "      <td>I have to put this in writing somehow so I sti...</td>\n",
       "    </tr>\n",
       "    <tr>\n",
       "      <th>1</th>\n",
       "      <td>I've made my peace with the fact that I'm goin...</td>\n",
       "    </tr>\n",
       "    <tr>\n",
       "      <th>2</th>\n",
       "      <td>I really want help now i just cant so this any...</td>\n",
       "    </tr>\n",
       "    <tr>\n",
       "      <th>3</th>\n",
       "      <td>I can't think of any reason to stay. I have no...</td>\n",
       "    </tr>\n",
       "    <tr>\n",
       "      <th>5</th>\n",
       "      <td>Hi, it's my first post here, I'm new in this c...</td>\n",
       "    </tr>\n",
       "  </tbody>\n",
       "</table>\n",
       "</div>"
      ],
      "text/plain": [
       "                                                text\n",
       "0  I have to put this in writing somehow so I sti...\n",
       "1  I've made my peace with the fact that I'm goin...\n",
       "2  I really want help now i just cant so this any...\n",
       "3  I can't think of any reason to stay. I have no...\n",
       "5  Hi, it's my first post here, I'm new in this c..."
      ]
     },
     "metadata": {},
     "output_type": "display_data"
    },
    {
     "data": {
      "text/plain": [
       "'twit_df'"
      ]
     },
     "metadata": {},
     "output_type": "display_data"
    },
    {
     "data": {
      "text/html": [
       "<div>\n",
       "<style scoped>\n",
       "    .dataframe tbody tr th:only-of-type {\n",
       "        vertical-align: middle;\n",
       "    }\n",
       "\n",
       "    .dataframe tbody tr th {\n",
       "        vertical-align: top;\n",
       "    }\n",
       "\n",
       "    .dataframe thead th {\n",
       "        text-align: right;\n",
       "    }\n",
       "</style>\n",
       "<table border=\"1\" class=\"dataframe\">\n",
       "  <thead>\n",
       "    <tr style=\"text-align: right;\">\n",
       "      <th></th>\n",
       "      <th>tweet</th>\n",
       "      <th>intention</th>\n",
       "    </tr>\n",
       "  </thead>\n",
       "  <tbody>\n",
       "    <tr>\n",
       "      <th>0</th>\n",
       "      <td>my life is meaningless i just want to end my l...</td>\n",
       "      <td>1</td>\n",
       "    </tr>\n",
       "    <tr>\n",
       "      <th>1</th>\n",
       "      <td>muttering i wanna die to myself daily for a fe...</td>\n",
       "      <td>1</td>\n",
       "    </tr>\n",
       "    <tr>\n",
       "      <th>2</th>\n",
       "      <td>work slave i really feel like my only purpose ...</td>\n",
       "      <td>1</td>\n",
       "    </tr>\n",
       "    <tr>\n",
       "      <th>3</th>\n",
       "      <td>i did something on the 2 of october i overdose...</td>\n",
       "      <td>1</td>\n",
       "    </tr>\n",
       "    <tr>\n",
       "      <th>4</th>\n",
       "      <td>i feel like no one cares i just want to die ma...</td>\n",
       "      <td>1</td>\n",
       "    </tr>\n",
       "  </tbody>\n",
       "</table>\n",
       "</div>"
      ],
      "text/plain": [
       "                                               tweet  intention\n",
       "0  my life is meaningless i just want to end my l...          1\n",
       "1  muttering i wanna die to myself daily for a fe...          1\n",
       "2  work slave i really feel like my only purpose ...          1\n",
       "3  i did something on the 2 of october i overdose...          1\n",
       "4  i feel like no one cares i just want to die ma...          1"
      ]
     },
     "metadata": {},
     "output_type": "display_data"
    },
    {
     "data": {
      "text/plain": [
       "'watch_df'"
      ]
     },
     "metadata": {},
     "output_type": "display_data"
    },
    {
     "data": {
      "text/html": [
       "<div>\n",
       "<style scoped>\n",
       "    .dataframe tbody tr th:only-of-type {\n",
       "        vertical-align: middle;\n",
       "    }\n",
       "\n",
       "    .dataframe tbody tr th {\n",
       "        vertical-align: top;\n",
       "    }\n",
       "\n",
       "    .dataframe thead th {\n",
       "        text-align: right;\n",
       "    }\n",
       "</style>\n",
       "<table border=\"1\" class=\"dataframe\">\n",
       "  <thead>\n",
       "    <tr style=\"text-align: right;\">\n",
       "      <th></th>\n",
       "      <th>text</th>\n",
       "      <th>class</th>\n",
       "    </tr>\n",
       "  </thead>\n",
       "  <tbody>\n",
       "    <tr>\n",
       "      <th>0</th>\n",
       "      <td>Ex Wife Threatening SuicideRecently I left my ...</td>\n",
       "      <td>suicide</td>\n",
       "    </tr>\n",
       "    <tr>\n",
       "      <th>1</th>\n",
       "      <td>Am I weird I don't get affected by compliments...</td>\n",
       "      <td>non-suicide</td>\n",
       "    </tr>\n",
       "    <tr>\n",
       "      <th>2</th>\n",
       "      <td>Finally 2020 is almost over... So I can never ...</td>\n",
       "      <td>non-suicide</td>\n",
       "    </tr>\n",
       "    <tr>\n",
       "      <th>3</th>\n",
       "      <td>i need helpjust help me im crying so hard</td>\n",
       "      <td>suicide</td>\n",
       "    </tr>\n",
       "    <tr>\n",
       "      <th>4</th>\n",
       "      <td>I’m so lostHello, my name is Adam (16) and I’v...</td>\n",
       "      <td>suicide</td>\n",
       "    </tr>\n",
       "  </tbody>\n",
       "</table>\n",
       "</div>"
      ],
      "text/plain": [
       "                                                text        class\n",
       "0  Ex Wife Threatening SuicideRecently I left my ...      suicide\n",
       "1  Am I weird I don't get affected by compliments...  non-suicide\n",
       "2  Finally 2020 is almost over... So I can never ...  non-suicide\n",
       "3          i need helpjust help me im crying so hard      suicide\n",
       "4  I’m so lostHello, my name is Adam (16) and I’v...      suicide"
      ]
     },
     "metadata": {},
     "output_type": "display_data"
    }
   ],
   "source": [
    "display(\"anon_df\",anon_df.head(), \n",
    "        \"notes_df\", notes_df.head(), \n",
    "        \"twit_df\", twit_df.head(), \n",
    "        \"watch_df\", watch_df.head())"
   ]
  },
  {
   "cell_type": "markdown",
   "metadata": {
    "id": "xEteXaw5575a"
   },
   "source": [
    "After dropping the unecessary columns, it was then time to convert the values for the labeling columns so that once the dataframes are joined, there wouldn't be any further complications. "
   ]
  },
  {
   "cell_type": "markdown",
   "metadata": {
    "id": "Vz6XTH0Sxv-v"
   },
   "source": [
    "Reviewing the columns of all the datasets we imported"
   ]
  },
  {
   "cell_type": "code",
   "execution_count": 20,
   "metadata": {
    "colab": {
     "base_uri": "https://localhost:8080/"
    },
    "id": "24nVPlF7pkte",
    "outputId": "da508950-e40d-418e-ed0b-1250c4ceb42d"
   },
   "outputs": [
    {
     "data": {
      "text/plain": [
       "'anon_df columns'"
      ]
     },
     "metadata": {},
     "output_type": "display_data"
    },
    {
     "data": {
      "text/plain": [
       "['Post', 'Label']"
      ]
     },
     "metadata": {},
     "output_type": "display_data"
    },
    {
     "data": {
      "text/plain": [
       "'notes_df columns'"
      ]
     },
     "metadata": {},
     "output_type": "display_data"
    },
    {
     "data": {
      "text/plain": [
       "['text']"
      ]
     },
     "metadata": {},
     "output_type": "display_data"
    },
    {
     "data": {
      "text/plain": [
       "'twit_df columns'"
      ]
     },
     "metadata": {},
     "output_type": "display_data"
    },
    {
     "data": {
      "text/plain": [
       "['tweet', 'intention']"
      ]
     },
     "metadata": {},
     "output_type": "display_data"
    },
    {
     "data": {
      "text/plain": [
       "'watch_df columns'"
      ]
     },
     "metadata": {},
     "output_type": "display_data"
    },
    {
     "data": {
      "text/plain": [
       "['text', 'class']"
      ]
     },
     "metadata": {},
     "output_type": "display_data"
    }
   ],
   "source": [
    "display(\"anon_df columns\", list(anon_df.columns),\"notes_df columns\", list(notes_df.columns),\n",
    "        \"twit_df columns\", list(twit_df.columns), \"watch_df columns\", list(watch_df.columns))"
   ]
  },
  {
   "cell_type": "markdown",
   "metadata": {
    "id": "Vk9bQq_Mx2R_"
   },
   "source": [
    "Creating a copy of watch_df before modifying the values to match twit_df (1 means text is suicidal and 0 means it is not)"
   ]
  },
  {
   "cell_type": "code",
   "execution_count": 21,
   "metadata": {
    "id": "TjNn_mhru_Qo"
   },
   "outputs": [],
   "source": [
    "integerwatch_df = watch_df.copy(deep=True)"
   ]
  },
  {
   "cell_type": "markdown",
   "metadata": {
    "id": "strshyWRyG7w"
   },
   "source": [
    "Using pandas replace() function to change multiple values with multiple new values for an individual DataFrame column"
   ]
  },
  {
   "cell_type": "code",
   "execution_count": 22,
   "metadata": {
    "id": "pz6Xni0VwPgm"
   },
   "outputs": [],
   "source": [
    "integerwatch_df['class'] = integerwatch_df['class'].replace(['suicide', 'non-suicide'], ['1', '0'])"
   ]
  },
  {
   "cell_type": "code",
   "execution_count": 23,
   "metadata": {
    "colab": {
     "base_uri": "https://localhost:8080/"
    },
    "id": "s9h_52AmxpGP",
    "outputId": "f93fe024-cc84-4c7c-df77-8c70897114ab"
   },
   "outputs": [
    {
     "data": {
      "text/html": [
       "<div>\n",
       "<style scoped>\n",
       "    .dataframe tbody tr th:only-of-type {\n",
       "        vertical-align: middle;\n",
       "    }\n",
       "\n",
       "    .dataframe tbody tr th {\n",
       "        vertical-align: top;\n",
       "    }\n",
       "\n",
       "    .dataframe thead th {\n",
       "        text-align: right;\n",
       "    }\n",
       "</style>\n",
       "<table border=\"1\" class=\"dataframe\">\n",
       "  <thead>\n",
       "    <tr style=\"text-align: right;\">\n",
       "      <th></th>\n",
       "      <th>text</th>\n",
       "      <th>class</th>\n",
       "    </tr>\n",
       "  </thead>\n",
       "  <tbody>\n",
       "    <tr>\n",
       "      <th>0</th>\n",
       "      <td>Ex Wife Threatening SuicideRecently I left my ...</td>\n",
       "      <td>1</td>\n",
       "    </tr>\n",
       "    <tr>\n",
       "      <th>1</th>\n",
       "      <td>Am I weird I don't get affected by compliments...</td>\n",
       "      <td>0</td>\n",
       "    </tr>\n",
       "    <tr>\n",
       "      <th>2</th>\n",
       "      <td>Finally 2020 is almost over... So I can never ...</td>\n",
       "      <td>0</td>\n",
       "    </tr>\n",
       "    <tr>\n",
       "      <th>3</th>\n",
       "      <td>i need helpjust help me im crying so hard</td>\n",
       "      <td>1</td>\n",
       "    </tr>\n",
       "    <tr>\n",
       "      <th>4</th>\n",
       "      <td>I’m so lostHello, my name is Adam (16) and I’v...</td>\n",
       "      <td>1</td>\n",
       "    </tr>\n",
       "  </tbody>\n",
       "</table>\n",
       "</div>"
      ],
      "text/plain": [
       "                                                text class\n",
       "0  Ex Wife Threatening SuicideRecently I left my ...     1\n",
       "1  Am I weird I don't get affected by compliments...     0\n",
       "2  Finally 2020 is almost over... So I can never ...     0\n",
       "3          i need helpjust help me im crying so hard     1\n",
       "4  I’m so lostHello, my name is Adam (16) and I’v...     1"
      ]
     },
     "execution_count": 23,
     "metadata": {},
     "output_type": "execute_result"
    }
   ],
   "source": [
    " integerwatch_df.head() #checking if the replace function reflected"
   ]
  },
  {
   "cell_type": "markdown",
   "metadata": {
    "id": "L4PvgNbANuNa"
   },
   "source": [
    "Using .info() to check the datatypes of the dataframe intgerwatch_df"
   ]
  },
  {
   "cell_type": "code",
   "execution_count": 24,
   "metadata": {
    "colab": {
     "base_uri": "https://localhost:8080/"
    },
    "id": "jgfC9cVZNgwH",
    "outputId": "618c22a3-6540-4efe-ea03-88dbce53f0bf"
   },
   "outputs": [
    {
     "name": "stdout",
     "output_type": "stream",
     "text": [
      "<class 'pandas.core.frame.DataFrame'>\n",
      "RangeIndex: 232074 entries, 0 to 232073\n",
      "Data columns (total 2 columns):\n",
      " #   Column  Non-Null Count   Dtype \n",
      "---  ------  --------------   ----- \n",
      " 0   text    232074 non-null  object\n",
      " 1   class   232074 non-null  object\n",
      "dtypes: object(2)\n",
      "memory usage: 3.5+ MB\n"
     ]
    }
   ],
   "source": [
    " integerwatch_df.info()"
   ]
  },
  {
   "cell_type": "markdown",
   "metadata": {
    "id": "xA5UEOJRM6AN"
   },
   "source": [
    "Using panads astype() function allows us to convert the obj data type in the class column to integer for uniformity with other dataframes"
   ]
  },
  {
   "cell_type": "code",
   "execution_count": 25,
   "metadata": {
    "id": "nefy2j7xMl7O"
   },
   "outputs": [],
   "source": [
    "integerwatch_df['class'] = integerwatch_df['class'].astype('int')"
   ]
  },
  {
   "cell_type": "markdown",
   "metadata": {
    "id": "DNXLdiPb0By5"
   },
   "source": [
    "Creating a copy of notes_df before modifying the values to match twit_df (1 means text is suicidal and 0 means it is not)"
   ]
  },
  {
   "cell_type": "code",
   "execution_count": 26,
   "metadata": {
    "colab": {
     "base_uri": "https://localhost:8080/"
    },
    "id": "z-fob8XGN6iA",
    "outputId": "b7847b1f-78fb-4a9b-ea68-34f07d0e6387"
   },
   "outputs": [
    {
     "name": "stdout",
     "output_type": "stream",
     "text": [
      "<class 'pandas.core.frame.DataFrame'>\n",
      "RangeIndex: 232074 entries, 0 to 232073\n",
      "Data columns (total 2 columns):\n",
      " #   Column  Non-Null Count   Dtype \n",
      "---  ------  --------------   ----- \n",
      " 0   text    232074 non-null  object\n",
      " 1   class   232074 non-null  int32 \n",
      "dtypes: int32(1), object(1)\n",
      "memory usage: 2.7+ MB\n"
     ]
    }
   ],
   "source": [
    " integerwatch_df.info()"
   ]
  },
  {
   "cell_type": "code",
   "execution_count": 27,
   "metadata": {
    "id": "lgN7pqi_yXQw"
   },
   "outputs": [],
   "source": [
    "integernotes_df = notes_df.copy(deep=True)"
   ]
  },
  {
   "cell_type": "markdown",
   "metadata": {
    "id": "Lwj0k6XC0QWM"
   },
   "source": [
    "Creating a new column named class and setting it to have a constant value of 1 since all texts are posted by users with  suicidal thoughts"
   ]
  },
  {
   "cell_type": "code",
   "execution_count": 28,
   "metadata": {
    "id": "D0tKdd5Vz2pZ"
   },
   "outputs": [],
   "source": [
    "integernotes_df['class'] = 1"
   ]
  },
  {
   "cell_type": "code",
   "execution_count": 29,
   "metadata": {
    "colab": {
     "base_uri": "https://localhost:8080/"
    },
    "id": "ZtTBxop2zhR2",
    "outputId": "bd05802b-a4d5-4f40-e303-0e05265144ef"
   },
   "outputs": [
    {
     "data": {
      "text/html": [
       "<div>\n",
       "<style scoped>\n",
       "    .dataframe tbody tr th:only-of-type {\n",
       "        vertical-align: middle;\n",
       "    }\n",
       "\n",
       "    .dataframe tbody tr th {\n",
       "        vertical-align: top;\n",
       "    }\n",
       "\n",
       "    .dataframe thead th {\n",
       "        text-align: right;\n",
       "    }\n",
       "</style>\n",
       "<table border=\"1\" class=\"dataframe\">\n",
       "  <thead>\n",
       "    <tr style=\"text-align: right;\">\n",
       "      <th></th>\n",
       "      <th>text</th>\n",
       "      <th>class</th>\n",
       "    </tr>\n",
       "  </thead>\n",
       "  <tbody>\n",
       "    <tr>\n",
       "      <th>0</th>\n",
       "      <td>I have to put this in writing somehow so I sti...</td>\n",
       "      <td>1</td>\n",
       "    </tr>\n",
       "    <tr>\n",
       "      <th>1</th>\n",
       "      <td>I've made my peace with the fact that I'm goin...</td>\n",
       "      <td>1</td>\n",
       "    </tr>\n",
       "    <tr>\n",
       "      <th>2</th>\n",
       "      <td>I really want help now i just cant so this any...</td>\n",
       "      <td>1</td>\n",
       "    </tr>\n",
       "    <tr>\n",
       "      <th>3</th>\n",
       "      <td>I can't think of any reason to stay. I have no...</td>\n",
       "      <td>1</td>\n",
       "    </tr>\n",
       "    <tr>\n",
       "      <th>5</th>\n",
       "      <td>Hi, it's my first post here, I'm new in this c...</td>\n",
       "      <td>1</td>\n",
       "    </tr>\n",
       "  </tbody>\n",
       "</table>\n",
       "</div>"
      ],
      "text/plain": [
       "                                                text  class\n",
       "0  I have to put this in writing somehow so I sti...      1\n",
       "1  I've made my peace with the fact that I'm goin...      1\n",
       "2  I really want help now i just cant so this any...      1\n",
       "3  I can't think of any reason to stay. I have no...      1\n",
       "5  Hi, it's my first post here, I'm new in this c...      1"
      ]
     },
     "execution_count": 29,
     "metadata": {},
     "output_type": "execute_result"
    }
   ],
   "source": [
    "integernotes_df.head() #checking if the new class column was addded"
   ]
  },
  {
   "cell_type": "markdown",
   "metadata": {
    "id": "XFGd439I07ab"
   },
   "source": [
    "Creating a copy of twit_df before modifying the column names to match integerwatch_df and integernotes_df"
   ]
  },
  {
   "cell_type": "code",
   "execution_count": 30,
   "metadata": {
    "id": "i5Jdx3Yy0r7Y"
   },
   "outputs": [],
   "source": [
    "new_twit = twit_df.copy(deep=True)"
   ]
  },
  {
   "cell_type": "markdown",
   "metadata": {
    "id": "DRqBHPkJ154a"
   },
   "source": [
    "Renaming using pandas rename() function using a dictionary of new and old column names. Inplace set to true modified the existing Dataframe"
   ]
  },
  {
   "cell_type": "code",
   "execution_count": 31,
   "metadata": {
    "id": "2lgrNL_H1etD"
   },
   "outputs": [],
   "source": [
    "new_twit.rename(columns={\"tweet\": \"text\", \"intention\": \"class\"}, inplace=True)"
   ]
  },
  {
   "cell_type": "code",
   "execution_count": 32,
   "metadata": {
    "colab": {
     "base_uri": "https://localhost:8080/"
    },
    "id": "9PqaVotI1GFW",
    "outputId": "4280e4e4-aaff-43e1-e190-2f16b9c01eec"
   },
   "outputs": [
    {
     "data": {
      "text/html": [
       "<div>\n",
       "<style scoped>\n",
       "    .dataframe tbody tr th:only-of-type {\n",
       "        vertical-align: middle;\n",
       "    }\n",
       "\n",
       "    .dataframe tbody tr th {\n",
       "        vertical-align: top;\n",
       "    }\n",
       "\n",
       "    .dataframe thead th {\n",
       "        text-align: right;\n",
       "    }\n",
       "</style>\n",
       "<table border=\"1\" class=\"dataframe\">\n",
       "  <thead>\n",
       "    <tr style=\"text-align: right;\">\n",
       "      <th></th>\n",
       "      <th>text</th>\n",
       "      <th>class</th>\n",
       "    </tr>\n",
       "  </thead>\n",
       "  <tbody>\n",
       "    <tr>\n",
       "      <th>0</th>\n",
       "      <td>my life is meaningless i just want to end my l...</td>\n",
       "      <td>1</td>\n",
       "    </tr>\n",
       "    <tr>\n",
       "      <th>1</th>\n",
       "      <td>muttering i wanna die to myself daily for a fe...</td>\n",
       "      <td>1</td>\n",
       "    </tr>\n",
       "    <tr>\n",
       "      <th>2</th>\n",
       "      <td>work slave i really feel like my only purpose ...</td>\n",
       "      <td>1</td>\n",
       "    </tr>\n",
       "    <tr>\n",
       "      <th>3</th>\n",
       "      <td>i did something on the 2 of october i overdose...</td>\n",
       "      <td>1</td>\n",
       "    </tr>\n",
       "    <tr>\n",
       "      <th>4</th>\n",
       "      <td>i feel like no one cares i just want to die ma...</td>\n",
       "      <td>1</td>\n",
       "    </tr>\n",
       "  </tbody>\n",
       "</table>\n",
       "</div>"
      ],
      "text/plain": [
       "                                                text  class\n",
       "0  my life is meaningless i just want to end my l...      1\n",
       "1  muttering i wanna die to myself daily for a fe...      1\n",
       "2  work slave i really feel like my only purpose ...      1\n",
       "3  i did something on the 2 of october i overdose...      1\n",
       "4  i feel like no one cares i just want to die ma...      1"
      ]
     },
     "execution_count": 32,
     "metadata": {},
     "output_type": "execute_result"
    }
   ],
   "source": [
    "new_twit.head() #checking if column names are renamed"
   ]
  },
  {
   "cell_type": "markdown",
   "metadata": {
    "id": "u55d_8IqI3Vz"
   },
   "source": [
    "For `anon_df`, there are five unique values with their respective counts:"
   ]
  },
  {
   "cell_type": "code",
   "execution_count": 33,
   "metadata": {
    "colab": {
     "base_uri": "https://localhost:8080/"
    },
    "id": "PFvIJx-EIiEH",
    "outputId": "2ba2da4a-fb5a-4f80-a159-1fd86ad641b8"
   },
   "outputs": [
    {
     "data": {
      "text/plain": [
       "Ideation      171\n",
       "Supportive    108\n",
       "Indicator      99\n",
       "Behavior       77\n",
       "Attempt        45\n",
       "Name: Label, dtype: int64"
      ]
     },
     "execution_count": 33,
     "metadata": {},
     "output_type": "execute_result"
    }
   ],
   "source": [
    "anon_df.Label.value_counts()"
   ]
  },
  {
   "cell_type": "markdown",
   "metadata": {
    "id": "9DlavMLJTe0R"
   },
   "source": [
    "Columns for `anon_df` were renamed for consistency with the other dataframes."
   ]
  },
  {
   "cell_type": "code",
   "execution_count": 34,
   "metadata": {
    "id": "0VjftZc6MbUG"
   },
   "outputs": [],
   "source": [
    "anon_df.rename(columns={\"Post\": \"text\", \"Label\": \"class\"}, inplace=True)"
   ]
  },
  {
   "cell_type": "markdown",
   "metadata": {
    "id": "Wj4NkFZjTq_U"
   },
   "source": [
    "Copying `anon_df` before modifying other values."
   ]
  },
  {
   "cell_type": "code",
   "execution_count": 35,
   "metadata": {
    "id": "yKLm371oM1Qj"
   },
   "outputs": [],
   "source": [
    "intanon_df = anon_df.copy(deep =  True)"
   ]
  },
  {
   "cell_type": "markdown",
   "metadata": {
    "id": "Pccnf7P_TrpW"
   },
   "source": [
    "Using pandas `replace()` function to change multiple values with multiple new values for an individual DataFrame column. For `intanon_df` the 5 values were replaced with a corrosponding `1` or `0` value."
   ]
  },
  {
   "cell_type": "code",
   "execution_count": 36,
   "metadata": {
    "id": "7VV_rBqZJFKW"
   },
   "outputs": [],
   "source": [
    "intanon_df['class'] = intanon_df['class'].replace(['Ideation', 'Indicator','Behavior','Attempt','Supportive'], ['1','1','1','1','0'])"
   ]
  },
  {
   "cell_type": "markdown",
   "metadata": {
    "id": "C2boS4R1TvFW"
   },
   "source": [
    "Using the `.astype()` function to convert the `class` value's types into `int` or an `integer` type. "
   ]
  },
  {
   "cell_type": "code",
   "execution_count": 37,
   "metadata": {
    "id": "ubvRMUTztqk1"
   },
   "outputs": [],
   "source": [
    "intanon_df['class'] = intanon_df['class'].astype('int')"
   ]
  },
  {
   "cell_type": "markdown",
   "metadata": {
    "id": "92wWCQn8TveC"
   },
   "source": [
    "Looking at the tail of `intanon_df` to check if the `class` values were replaced and converted accordingly. "
   ]
  },
  {
   "cell_type": "code",
   "execution_count": 38,
   "metadata": {
    "colab": {
     "base_uri": "https://localhost:8080/"
    },
    "id": "2W4-fz02OLt4",
    "outputId": "d2af4b2a-c25e-4c1b-8b74-f81315fa82e3"
   },
   "outputs": [
    {
     "data": {
      "text/html": [
       "<div>\n",
       "<style scoped>\n",
       "    .dataframe tbody tr th:only-of-type {\n",
       "        vertical-align: middle;\n",
       "    }\n",
       "\n",
       "    .dataframe tbody tr th {\n",
       "        vertical-align: top;\n",
       "    }\n",
       "\n",
       "    .dataframe thead th {\n",
       "        text-align: right;\n",
       "    }\n",
       "</style>\n",
       "<table border=\"1\" class=\"dataframe\">\n",
       "  <thead>\n",
       "    <tr style=\"text-align: right;\">\n",
       "      <th></th>\n",
       "      <th>text</th>\n",
       "      <th>class</th>\n",
       "    </tr>\n",
       "  </thead>\n",
       "  <tbody>\n",
       "    <tr>\n",
       "      <th>495</th>\n",
       "      <td>['Its not the end, it just feels that way. Or ...</td>\n",
       "      <td>0</td>\n",
       "    </tr>\n",
       "    <tr>\n",
       "      <th>496</th>\n",
       "      <td>['It was a skype call, but she ended it and Ve...</td>\n",
       "      <td>1</td>\n",
       "    </tr>\n",
       "    <tr>\n",
       "      <th>497</th>\n",
       "      <td>['That sounds really weird.Maybe you were Dist...</td>\n",
       "      <td>0</td>\n",
       "    </tr>\n",
       "    <tr>\n",
       "      <th>498</th>\n",
       "      <td>['Dont know there as dumb as it sounds I feel ...</td>\n",
       "      <td>1</td>\n",
       "    </tr>\n",
       "    <tr>\n",
       "      <th>499</th>\n",
       "      <td>['&amp;gt;It gets better, trust me.Ive spent long ...</td>\n",
       "      <td>1</td>\n",
       "    </tr>\n",
       "  </tbody>\n",
       "</table>\n",
       "</div>"
      ],
      "text/plain": [
       "                                                  text  class\n",
       "495  ['Its not the end, it just feels that way. Or ...      0\n",
       "496  ['It was a skype call, but she ended it and Ve...      1\n",
       "497  ['That sounds really weird.Maybe you were Dist...      0\n",
       "498  ['Dont know there as dumb as it sounds I feel ...      1\n",
       "499  ['&gt;It gets better, trust me.Ive spent long ...      1"
      ]
     },
     "execution_count": 38,
     "metadata": {},
     "output_type": "execute_result"
    }
   ],
   "source": [
    "intanon_df.tail()"
   ]
  },
  {
   "cell_type": "markdown",
   "metadata": {
    "id": "hED83js6OQ01"
   },
   "source": [
    "After changing column names for `anon_df` the following values were changed:\n",
    "\n",
    "* Ideation = 1\n",
    "* Indicatior = 1\n",
    "* Behavior = 1\n",
    "* Attempt = 1\n",
    "* Supportive = 0"
   ]
  },
  {
   "cell_type": "markdown",
   "metadata": {
    "id": "FgaWLGzkRPwh"
   },
   "source": [
    "#### All dataframes"
   ]
  },
  {
   "cell_type": "markdown",
   "metadata": {
    "id": "rYbNvGV73s0p"
   },
   "source": [
    "Displaying the dataframes we have now"
   ]
  },
  {
   "cell_type": "code",
   "execution_count": 39,
   "metadata": {
    "colab": {
     "base_uri": "https://localhost:8080/"
    },
    "id": "sBhfWOt13427",
    "outputId": "4f923ca9-9245-4878-c627-a8936e1b94e1"
   },
   "outputs": [
    {
     "data": {
      "text/plain": [
       "'intanon_df'"
      ]
     },
     "metadata": {},
     "output_type": "display_data"
    },
    {
     "data": {
      "text/html": [
       "<div>\n",
       "<style scoped>\n",
       "    .dataframe tbody tr th:only-of-type {\n",
       "        vertical-align: middle;\n",
       "    }\n",
       "\n",
       "    .dataframe tbody tr th {\n",
       "        vertical-align: top;\n",
       "    }\n",
       "\n",
       "    .dataframe thead th {\n",
       "        text-align: right;\n",
       "    }\n",
       "</style>\n",
       "<table border=\"1\" class=\"dataframe\">\n",
       "  <thead>\n",
       "    <tr style=\"text-align: right;\">\n",
       "      <th></th>\n",
       "      <th>text</th>\n",
       "      <th>class</th>\n",
       "    </tr>\n",
       "  </thead>\n",
       "  <tbody>\n",
       "    <tr>\n",
       "      <th>0</th>\n",
       "      <td>['Its not a viable option, and youll be leavin...</td>\n",
       "      <td>0</td>\n",
       "    </tr>\n",
       "    <tr>\n",
       "      <th>1</th>\n",
       "      <td>['It can be hard to appreciate the notion that...</td>\n",
       "      <td>1</td>\n",
       "    </tr>\n",
       "    <tr>\n",
       "      <th>2</th>\n",
       "      <td>['Hi, so last night i was sitting on the ledge...</td>\n",
       "      <td>1</td>\n",
       "    </tr>\n",
       "    <tr>\n",
       "      <th>3</th>\n",
       "      <td>['I tried to kill my self once and failed badl...</td>\n",
       "      <td>1</td>\n",
       "    </tr>\n",
       "    <tr>\n",
       "      <th>4</th>\n",
       "      <td>['Hi NEM3030. What sorts of things do you enjo...</td>\n",
       "      <td>1</td>\n",
       "    </tr>\n",
       "  </tbody>\n",
       "</table>\n",
       "</div>"
      ],
      "text/plain": [
       "                                                text  class\n",
       "0  ['Its not a viable option, and youll be leavin...      0\n",
       "1  ['It can be hard to appreciate the notion that...      1\n",
       "2  ['Hi, so last night i was sitting on the ledge...      1\n",
       "3  ['I tried to kill my self once and failed badl...      1\n",
       "4  ['Hi NEM3030. What sorts of things do you enjo...      1"
      ]
     },
     "metadata": {},
     "output_type": "display_data"
    },
    {
     "data": {
      "text/plain": [
       "'integernotes_df'"
      ]
     },
     "metadata": {},
     "output_type": "display_data"
    },
    {
     "data": {
      "text/html": [
       "<div>\n",
       "<style scoped>\n",
       "    .dataframe tbody tr th:only-of-type {\n",
       "        vertical-align: middle;\n",
       "    }\n",
       "\n",
       "    .dataframe tbody tr th {\n",
       "        vertical-align: top;\n",
       "    }\n",
       "\n",
       "    .dataframe thead th {\n",
       "        text-align: right;\n",
       "    }\n",
       "</style>\n",
       "<table border=\"1\" class=\"dataframe\">\n",
       "  <thead>\n",
       "    <tr style=\"text-align: right;\">\n",
       "      <th></th>\n",
       "      <th>text</th>\n",
       "      <th>class</th>\n",
       "    </tr>\n",
       "  </thead>\n",
       "  <tbody>\n",
       "    <tr>\n",
       "      <th>0</th>\n",
       "      <td>I have to put this in writing somehow so I sti...</td>\n",
       "      <td>1</td>\n",
       "    </tr>\n",
       "    <tr>\n",
       "      <th>1</th>\n",
       "      <td>I've made my peace with the fact that I'm goin...</td>\n",
       "      <td>1</td>\n",
       "    </tr>\n",
       "    <tr>\n",
       "      <th>2</th>\n",
       "      <td>I really want help now i just cant so this any...</td>\n",
       "      <td>1</td>\n",
       "    </tr>\n",
       "    <tr>\n",
       "      <th>3</th>\n",
       "      <td>I can't think of any reason to stay. I have no...</td>\n",
       "      <td>1</td>\n",
       "    </tr>\n",
       "    <tr>\n",
       "      <th>5</th>\n",
       "      <td>Hi, it's my first post here, I'm new in this c...</td>\n",
       "      <td>1</td>\n",
       "    </tr>\n",
       "  </tbody>\n",
       "</table>\n",
       "</div>"
      ],
      "text/plain": [
       "                                                text  class\n",
       "0  I have to put this in writing somehow so I sti...      1\n",
       "1  I've made my peace with the fact that I'm goin...      1\n",
       "2  I really want help now i just cant so this any...      1\n",
       "3  I can't think of any reason to stay. I have no...      1\n",
       "5  Hi, it's my first post here, I'm new in this c...      1"
      ]
     },
     "metadata": {},
     "output_type": "display_data"
    },
    {
     "data": {
      "text/plain": [
       "'new_twit'"
      ]
     },
     "metadata": {},
     "output_type": "display_data"
    },
    {
     "data": {
      "text/html": [
       "<div>\n",
       "<style scoped>\n",
       "    .dataframe tbody tr th:only-of-type {\n",
       "        vertical-align: middle;\n",
       "    }\n",
       "\n",
       "    .dataframe tbody tr th {\n",
       "        vertical-align: top;\n",
       "    }\n",
       "\n",
       "    .dataframe thead th {\n",
       "        text-align: right;\n",
       "    }\n",
       "</style>\n",
       "<table border=\"1\" class=\"dataframe\">\n",
       "  <thead>\n",
       "    <tr style=\"text-align: right;\">\n",
       "      <th></th>\n",
       "      <th>text</th>\n",
       "      <th>class</th>\n",
       "    </tr>\n",
       "  </thead>\n",
       "  <tbody>\n",
       "    <tr>\n",
       "      <th>0</th>\n",
       "      <td>my life is meaningless i just want to end my l...</td>\n",
       "      <td>1</td>\n",
       "    </tr>\n",
       "    <tr>\n",
       "      <th>1</th>\n",
       "      <td>muttering i wanna die to myself daily for a fe...</td>\n",
       "      <td>1</td>\n",
       "    </tr>\n",
       "    <tr>\n",
       "      <th>2</th>\n",
       "      <td>work slave i really feel like my only purpose ...</td>\n",
       "      <td>1</td>\n",
       "    </tr>\n",
       "    <tr>\n",
       "      <th>3</th>\n",
       "      <td>i did something on the 2 of october i overdose...</td>\n",
       "      <td>1</td>\n",
       "    </tr>\n",
       "    <tr>\n",
       "      <th>4</th>\n",
       "      <td>i feel like no one cares i just want to die ma...</td>\n",
       "      <td>1</td>\n",
       "    </tr>\n",
       "  </tbody>\n",
       "</table>\n",
       "</div>"
      ],
      "text/plain": [
       "                                                text  class\n",
       "0  my life is meaningless i just want to end my l...      1\n",
       "1  muttering i wanna die to myself daily for a fe...      1\n",
       "2  work slave i really feel like my only purpose ...      1\n",
       "3  i did something on the 2 of october i overdose...      1\n",
       "4  i feel like no one cares i just want to die ma...      1"
      ]
     },
     "metadata": {},
     "output_type": "display_data"
    },
    {
     "data": {
      "text/plain": [
       "'integerwatch_df'"
      ]
     },
     "metadata": {},
     "output_type": "display_data"
    },
    {
     "data": {
      "text/html": [
       "<div>\n",
       "<style scoped>\n",
       "    .dataframe tbody tr th:only-of-type {\n",
       "        vertical-align: middle;\n",
       "    }\n",
       "\n",
       "    .dataframe tbody tr th {\n",
       "        vertical-align: top;\n",
       "    }\n",
       "\n",
       "    .dataframe thead th {\n",
       "        text-align: right;\n",
       "    }\n",
       "</style>\n",
       "<table border=\"1\" class=\"dataframe\">\n",
       "  <thead>\n",
       "    <tr style=\"text-align: right;\">\n",
       "      <th></th>\n",
       "      <th>text</th>\n",
       "      <th>class</th>\n",
       "    </tr>\n",
       "  </thead>\n",
       "  <tbody>\n",
       "    <tr>\n",
       "      <th>0</th>\n",
       "      <td>Ex Wife Threatening SuicideRecently I left my ...</td>\n",
       "      <td>1</td>\n",
       "    </tr>\n",
       "    <tr>\n",
       "      <th>1</th>\n",
       "      <td>Am I weird I don't get affected by compliments...</td>\n",
       "      <td>0</td>\n",
       "    </tr>\n",
       "    <tr>\n",
       "      <th>2</th>\n",
       "      <td>Finally 2020 is almost over... So I can never ...</td>\n",
       "      <td>0</td>\n",
       "    </tr>\n",
       "    <tr>\n",
       "      <th>3</th>\n",
       "      <td>i need helpjust help me im crying so hard</td>\n",
       "      <td>1</td>\n",
       "    </tr>\n",
       "    <tr>\n",
       "      <th>4</th>\n",
       "      <td>I’m so lostHello, my name is Adam (16) and I’v...</td>\n",
       "      <td>1</td>\n",
       "    </tr>\n",
       "  </tbody>\n",
       "</table>\n",
       "</div>"
      ],
      "text/plain": [
       "                                                text  class\n",
       "0  Ex Wife Threatening SuicideRecently I left my ...      1\n",
       "1  Am I weird I don't get affected by compliments...      0\n",
       "2  Finally 2020 is almost over... So I can never ...      0\n",
       "3          i need helpjust help me im crying so hard      1\n",
       "4  I’m so lostHello, my name is Adam (16) and I’v...      1"
      ]
     },
     "metadata": {},
     "output_type": "display_data"
    }
   ],
   "source": [
    "display(\"intanon_df\",intanon_df.head(), \n",
    "        \"integernotes_df\", integernotes_df.head(), \n",
    "        \"new_twit\", new_twit.head(), \n",
    "        \"integerwatch_df\", integerwatch_df.head())"
   ]
  },
  {
   "cell_type": "code",
   "execution_count": 40,
   "metadata": {
    "colab": {
     "base_uri": "https://localhost:8080/"
    },
    "id": "ZRgJiUFwJzkV",
    "outputId": "db80912b-a63e-4a12-9339-19a9b22ae66e"
   },
   "outputs": [
    {
     "data": {
      "text/plain": [
       "(500, 2)"
      ]
     },
     "metadata": {},
     "output_type": "display_data"
    },
    {
     "data": {
      "text/plain": [
       "(467, 2)"
      ]
     },
     "metadata": {},
     "output_type": "display_data"
    },
    {
     "data": {
      "text/plain": [
       "(9119, 2)"
      ]
     },
     "metadata": {},
     "output_type": "display_data"
    },
    {
     "data": {
      "text/plain": [
       "(232074, 2)"
      ]
     },
     "metadata": {},
     "output_type": "display_data"
    }
   ],
   "source": [
    "#getting the shape of the four datasets \n",
    "display(intanon_df.shape, integernotes_df.shape, new_twit.shape, integerwatch_df.shape)"
   ]
  },
  {
   "cell_type": "markdown",
   "metadata": {
    "id": "H3rST7vDOadS"
   },
   "source": [
    "Using the concat() function with an axis set to 0 allows us to stitch Dataframes along the rows. We will first combine the Dataframes integernotes_df and new_twit to one Dataframe."
   ]
  },
  {
   "cell_type": "code",
   "execution_count": 41,
   "metadata": {
    "id": "N7uLGJODHfgQ"
   },
   "outputs": [],
   "source": [
    "concat = pd.concat([intanon_df, integernotes_df, new_twit, integerwatch_df], axis=0)"
   ]
  },
  {
   "cell_type": "markdown",
   "metadata": {
    "id": "-MCHQEJrPY06"
   },
   "source": [
    "We can check if the number of rows are equal to the total of the two combined Dataframes. 9586 rows is the sum of 467 rows and 9119 rows.\n",
    "\n",
    "As well as checking if the unique values are still integers 1 and 0."
   ]
  },
  {
   "cell_type": "code",
   "execution_count": 42,
   "metadata": {
    "colab": {
     "base_uri": "https://localhost:8080/"
    },
    "id": "5JYJxwLbKYlH",
    "outputId": "b74a7c6c-a30f-4fb5-d2fa-17225914f140"
   },
   "outputs": [
    {
     "data": {
      "text/plain": [
       "(242160, 2)"
      ]
     },
     "metadata": {},
     "output_type": "display_data"
    },
    {
     "data": {
      "text/plain": [
       "array([0, 1], dtype=int64)"
      ]
     },
     "metadata": {},
     "output_type": "display_data"
    }
   ],
   "source": [
    "display(concat.shape , concat[\"class\"].unique())"
   ]
  },
  {
   "cell_type": "markdown",
   "metadata": {
    "id": "A8eWSSaoUBM4"
   },
   "source": [
    "We switch the placement of the `text` and `class` columns in all four dataframes."
   ]
  },
  {
   "cell_type": "code",
   "execution_count": 43,
   "metadata": {
    "id": "ikPoyZ1gU65n"
   },
   "outputs": [],
   "source": [
    "new_column_order = ['class', 'text'] #making the new column order\n",
    "\n",
    "intanon_df = intanon_df[new_column_order]\n",
    "integernotes_df = integernotes_df[new_column_order]\n",
    "new_twit = new_twit[new_column_order]\n",
    "integerwatch_df = integerwatch_df[new_column_order]"
   ]
  },
  {
   "cell_type": "markdown",
   "metadata": {
    "id": "_ys69wdN8U44"
   },
   "source": [
    "### **Data Cleaning**"
   ]
  },
  {
   "cell_type": "markdown",
   "metadata": {
    "id": "dBDZg8I8KF6v"
   },
   "source": [
    "#### Removing unnecessary character sequences"
   ]
  },
  {
   "cell_type": "markdown",
   "metadata": {
    "id": "JKdZuo_c2Uma"
   },
   "source": [
    "We created a RegEx function to remove unnecessary character sequences that might potentially interfere with the next steps before modeling."
   ]
  },
  {
   "cell_type": "code",
   "execution_count": 44,
   "metadata": {
    "id": "MRFHwCvdvn5e"
   },
   "outputs": [],
   "source": [
    "def remove_unnecessary(text):\n",
    "    text = re.sub('RT', '', text) #RT\n",
    "    text = re.sub('@[^\\s]+', '', text) #usernames\n",
    "    text = re.sub('http[^\\s]+','',text) #media links\n",
    "    text = re.sub(r'\\[|\\]', '', text) #square brackets\n",
    "    text = re.sub('#[^ ]+', '', text) #hashtags\n",
    "    return text"
   ]
  },
  {
   "cell_type": "markdown",
   "metadata": {
    "id": "ofSseOGf2pQw"
   },
   "source": [
    "But before applying the function, a copy of the `concat` dataframe was created."
   ]
  },
  {
   "cell_type": "code",
   "execution_count": 45,
   "metadata": {
    "id": "sAA4cNeq2oSu"
   },
   "outputs": [],
   "source": [
    "master = concat.copy(deep = True)"
   ]
  },
  {
   "cell_type": "markdown",
   "metadata": {
    "id": "chbEe4ST3eXd"
   },
   "source": [
    "Here, the function was applied to the `master` dataframe."
   ]
  },
  {
   "cell_type": "code",
   "execution_count": 46,
   "metadata": {
    "id": "FZYfoY_z22To"
   },
   "outputs": [],
   "source": [
    "master['text'] = master['text'].apply(remove_unnecessary)"
   ]
  },
  {
   "cell_type": "markdown",
   "metadata": {
    "id": "YcTjvzecJ5ZQ"
   },
   "source": [
    "Checking if the `remove_unnecessary` function was applied."
   ]
  },
  {
   "cell_type": "code",
   "execution_count": 47,
   "metadata": {
    "colab": {
     "base_uri": "https://localhost:8080/"
    },
    "id": "LJnermyqJ2pg",
    "outputId": "a11b3371-d6c3-4f75-d218-e5d979c752c4"
   },
   "outputs": [
    {
     "data": {
      "text/html": [
       "<div>\n",
       "<style scoped>\n",
       "    .dataframe tbody tr th:only-of-type {\n",
       "        vertical-align: middle;\n",
       "    }\n",
       "\n",
       "    .dataframe tbody tr th {\n",
       "        vertical-align: top;\n",
       "    }\n",
       "\n",
       "    .dataframe thead th {\n",
       "        text-align: right;\n",
       "    }\n",
       "</style>\n",
       "<table border=\"1\" class=\"dataframe\">\n",
       "  <thead>\n",
       "    <tr style=\"text-align: right;\">\n",
       "      <th></th>\n",
       "      <th>text</th>\n",
       "      <th>class</th>\n",
       "    </tr>\n",
       "  </thead>\n",
       "  <tbody>\n",
       "    <tr>\n",
       "      <th>0</th>\n",
       "      <td>'Its not a viable option, and youll be leaving...</td>\n",
       "      <td>0</td>\n",
       "    </tr>\n",
       "    <tr>\n",
       "      <th>1</th>\n",
       "      <td>'It can be hard to appreciate the notion that ...</td>\n",
       "      <td>1</td>\n",
       "    </tr>\n",
       "    <tr>\n",
       "      <th>2</th>\n",
       "      <td>'Hi, so last night i was sitting on the ledge ...</td>\n",
       "      <td>1</td>\n",
       "    </tr>\n",
       "    <tr>\n",
       "      <th>3</th>\n",
       "      <td>'I tried to kill my self once and failed badly...</td>\n",
       "      <td>1</td>\n",
       "    </tr>\n",
       "    <tr>\n",
       "      <th>4</th>\n",
       "      <td>'Hi NEM3030. What sorts of things do you enjoy...</td>\n",
       "      <td>1</td>\n",
       "    </tr>\n",
       "  </tbody>\n",
       "</table>\n",
       "</div>"
      ],
      "text/plain": [
       "                                                text  class\n",
       "0  'Its not a viable option, and youll be leaving...      0\n",
       "1  'It can be hard to appreciate the notion that ...      1\n",
       "2  'Hi, so last night i was sitting on the ledge ...      1\n",
       "3  'I tried to kill my self once and failed badly...      1\n",
       "4  'Hi NEM3030. What sorts of things do you enjoy...      1"
      ]
     },
     "execution_count": 47,
     "metadata": {},
     "output_type": "execute_result"
    }
   ],
   "source": [
    "master.head()"
   ]
  },
  {
   "cell_type": "markdown",
   "metadata": {
    "id": "Y7wVvGEvJ_LF"
   },
   "source": [
    "Checking the shape of the `master` dataframe."
   ]
  },
  {
   "cell_type": "code",
   "execution_count": 48,
   "metadata": {
    "colab": {
     "base_uri": "https://localhost:8080/"
    },
    "id": "zXZYoEGurSJY",
    "outputId": "94316941-8ebd-4a30-91c7-15c0cad92b10"
   },
   "outputs": [
    {
     "data": {
      "text/plain": [
       "(242160, 2)"
      ]
     },
     "execution_count": 48,
     "metadata": {},
     "output_type": "execute_result"
    }
   ],
   "source": [
    "master.shape"
   ]
  },
  {
   "cell_type": "markdown",
   "metadata": {
    "id": "J6nFnPeTmtLu"
   },
   "source": [
    "#### Functions for Feature Engineering"
   ]
  },
  {
   "cell_type": "markdown",
   "metadata": {
    "id": "9LDM36VBnc_3"
   },
   "source": [
    "**Batch Processing Function**"
   ]
  },
  {
   "cell_type": "markdown",
   "metadata": {
    "id": "ZdwLR7W-nlMv"
   },
   "source": [
    "Because the `master` dataframe is big, the four dataframes will be processed and cleaned by batch with a function."
   ]
  },
  {
   "cell_type": "code",
   "execution_count": 49,
   "metadata": {
    "id": "6azFtS_IKPqD"
   },
   "outputs": [],
   "source": [
    "def batch_processing_bert(df):\n",
    "    \n",
    "    def tokenize_and_remove_stopwords(sentence):\n",
    "        tokens = tokenizer.tokenize(sentence)\n",
    "        return tokens\n",
    "\n",
    "    df['token'] = df['text'].apply(tokenize_and_remove_stopwords)\n",
    "    df['string'] = df['token'].apply(lambda x: ' '.join([item for item in x if len(item)>2]))\n",
    "\n",
    "    return df"
   ]
  },
  {
   "cell_type": "markdown",
   "metadata": {
    "id": "4kVyp7urc2ES"
   },
   "source": [
    "**Removing UNK Function**"
   ]
  },
  {
   "cell_type": "code",
   "execution_count": 50,
   "metadata": {
    "id": "6Tt22Hh3fYqO"
   },
   "outputs": [],
   "source": [
    "unk_pattern = re.compile(r'\\bUNK\\b')"
   ]
  },
  {
   "cell_type": "code",
   "execution_count": 51,
   "metadata": {
    "id": "7fwTnPOaFuZW"
   },
   "outputs": [],
   "source": [
    "def remove_UNK(text):\n",
    "    return re.sub(r\"\\bUNK\\b\", \"\", text)"
   ]
  },
  {
   "cell_type": "markdown",
   "metadata": {
    "id": "QyaqcG2w8XDK"
   },
   "source": [
    "### **Feature Engineering**"
   ]
  },
  {
   "cell_type": "markdown",
   "metadata": {},
   "source": [
    "Before we start, let us determine what device (i.e., CUDA or CPU) we will be using. If CUDA is available, it will be chosen; otherwise, by default, CPU will be chosen."
   ]
  },
  {
   "cell_type": "code",
   "execution_count": 52,
   "metadata": {},
   "outputs": [
    {
     "data": {
      "text/plain": [
       "device(type='cuda')"
      ]
     },
     "execution_count": 52,
     "metadata": {},
     "output_type": "execute_result"
    }
   ],
   "source": [
    "device = torch.device('cuda' if torch.cuda.is_available() else 'cpu')\n",
    "device"
   ]
  },
  {
   "cell_type": "markdown",
   "metadata": {
    "id": "fasJUJOHCsCd"
   },
   "source": [
    "#### **Tokenizing with Bert**"
   ]
  },
  {
   "cell_type": "markdown",
   "metadata": {
    "id": "2QmznKkIHSFI"
   },
   "source": [
    "We get the tokenizer for BERT"
   ]
  },
  {
   "cell_type": "code",
   "execution_count": 53,
   "metadata": {
    "id": "ctjQyQHxEgps"
   },
   "outputs": [],
   "source": [
    "#tokenizer = BertTokenizer.from_pretrained('bert-base-uncased', do_wordpiece=True)\n",
    "tokenizer = BertTokenizerFast.from_pretrained('bert-base-uncased')"
   ]
  },
  {
   "cell_type": "markdown",
   "metadata": {
    "id": "XCwsGjvha9BS"
   },
   "source": [
    "Making copies of all the four dataframes for easier access without affecting the original dataframes"
   ]
  },
  {
   "cell_type": "code",
   "execution_count": 54,
   "metadata": {
    "id": "YHkJMrJOMCwr"
   },
   "outputs": [],
   "source": [
    "bert_df1 = intanon_df.copy(deep = True)\n",
    "bert_df2 = integernotes_df.copy(deep = True)\n",
    "bert_df3 = new_twit.copy(deep = True)\n",
    "bert_df4 = integerwatch_df.copy(deep = True)"
   ]
  },
  {
   "cell_type": "markdown",
   "metadata": {
    "id": "t235o6XUb4hU"
   },
   "source": [
    "Merging all the copied dataframes"
   ]
  },
  {
   "cell_type": "code",
   "execution_count": 55,
   "metadata": {
    "id": "7HjJJtCwck8P"
   },
   "outputs": [],
   "source": [
    "bert_concat = pd.concat([bert_df1, bert_df2, bert_df3, bert_df4], axis=0)"
   ]
  },
  {
   "cell_type": "code",
   "execution_count": 57,
   "metadata": {
    "id": "icKf4qklcfXj"
   },
   "outputs": [],
   "source": [
    "bert_text_data = bert_concat['text'].tolist()"
   ]
  },
  {
   "cell_type": "code",
   "execution_count": 58,
   "metadata": {},
   "outputs": [],
   "source": [
    "# Initialize the tokenizer\n",
    "bert_tokenizer = BertTokenizerFast.from_pretrained('bert-base-uncased')"
   ]
  },
  {
   "cell_type": "code",
   "execution_count": 59,
   "metadata": {},
   "outputs": [],
   "source": [
    "# Tokenize the text data\n",
    "tokenized_data = bert_tokenizer(bert_text_data, padding=True, truncation=True, return_tensors='pt')"
   ]
  },
  {
   "cell_type": "code",
   "execution_count": 61,
   "metadata": {},
   "outputs": [],
   "source": [
    "# Add the tokenized data as columns to the DataFrame\n",
    "token_columns = ['token_{}'.format(i) for i in range(tokenized_data.input_ids.shape[1])]\n",
    "df_tokens = pd.DataFrame(tokenized_data.input_ids.numpy(), columns=token_columns)\n",
    "bert_master = pd.concat([bert_concat.reset_index(), df_tokens.reset_index()], axis=1)"
   ]
  },
  {
   "cell_type": "markdown",
   "metadata": {
    "id": "8TNiND5HhSXL"
   },
   "source": [
    "##### **Tokenized Text**"
   ]
  },
  {
   "cell_type": "markdown",
   "metadata": {
    "id": "gweFATQ7hZ_b"
   },
   "source": [
    "  Creating a list of the copied dataframes"
   ]
  },
  {
   "cell_type": "code",
   "execution_count": 64,
   "metadata": {
    "id": "zrq7U7ZdLVo2"
   },
   "outputs": [
    {
     "data": {
      "text/plain": [
       "[     class                                               text\n",
       " 0        0  ['Its not a viable option, and youll be leavin...\n",
       " 1        1  ['It can be hard to appreciate the notion that...\n",
       " 2        1  ['Hi, so last night i was sitting on the ledge...\n",
       " 3        1  ['I tried to kill my self once and failed badl...\n",
       " 4        1  ['Hi NEM3030. What sorts of things do you enjo...\n",
       " ..     ...                                                ...\n",
       " 495      0  ['Its not the end, it just feels that way. Or ...\n",
       " 496      1  ['It was a skype call, but she ended it and Ve...\n",
       " 497      0  ['That sounds really weird.Maybe you were Dist...\n",
       " 498      1  ['Dont know there as dumb as it sounds I feel ...\n",
       " 499      1  ['&gt;It gets better, trust me.Ive spent long ...\n",
       " \n",
       " [500 rows x 2 columns],\n",
       "      class                                               text\n",
       " 0        1  I have to put this in writing somehow so I sti...\n",
       " 1        1  I've made my peace with the fact that I'm goin...\n",
       " 2        1  I really want help now i just cant so this any...\n",
       " 3        1  I can't think of any reason to stay. I have no...\n",
       " 5        1  Hi, it's my first post here, I'm new in this c...\n",
       " ..     ...                                                ...\n",
       " 493      1  Since I was 9 I felt depressed and almost took...\n",
       " 494      1  I don't know why I'm reaching out now of all t...\n",
       " 495      1  I dont believe in an afterlife, but i stay up ...\n",
       " 496      1  I don't think I actually will kill myself, but...\n",
       " 497      1  I wanna die so badly but everytime I hear abou...\n",
       " \n",
       " [467 rows x 2 columns],\n",
       "       class                                               text\n",
       " 0         1  my life is meaningless i just want to end my l...\n",
       " 1         1  muttering i wanna die to myself daily for a fe...\n",
       " 2         1  work slave i really feel like my only purpose ...\n",
       " 3         1  i did something on the 2 of october i overdose...\n",
       " 4         1  i feel like no one cares i just want to die ma...\n",
       " ...     ...                                                ...\n",
       " 9114      1  have you ever laid on your bed at night and cr...\n",
       " 9115      1  the fault the blame the pain s still there i m...\n",
       " 9116      1  stop asking me to trust you when i m still cou...\n",
       " 9117      1  i never know how to handle sadness crying make...\n",
       " 9118      1  when cancer takes a life we blame cancer depre...\n",
       " \n",
       " [9119 rows x 2 columns],\n",
       "         class                                               text\n",
       " 0           1  Ex Wife Threatening SuicideRecently I left my ...\n",
       " 1           0  Am I weird I don't get affected by compliments...\n",
       " 2           0  Finally 2020 is almost over... So I can never ...\n",
       " 3           1          i need helpjust help me im crying so hard\n",
       " 4           1  I’m so lostHello, my name is Adam (16) and I’v...\n",
       " ...       ...                                                ...\n",
       " 232069      0  If you don't like rock then your not going to ...\n",
       " 232070      0  You how you can tell i have so many friends an...\n",
       " 232071      0  pee probably tastes like salty tea😏💦‼️ can som...\n",
       " 232072      1  The usual stuff you find hereI'm not posting t...\n",
       " 232073      0  I still haven't beaten the first boss in Hollo...\n",
       " \n",
       " [232074 rows x 2 columns]]"
      ]
     },
     "execution_count": 64,
     "metadata": {},
     "output_type": "execute_result"
    }
   ],
   "source": [
    "bert_dflist = [bert_df1, bert_df2, bert_df3, bert_df4]\n",
    "bert_dflist"
   ]
  },
  {
   "cell_type": "markdown",
   "metadata": {
    "id": "5-Vy4EZsHKG6"
   },
   "source": [
    "Looping through the list to batch process"
   ]
  },
  {
   "cell_type": "code",
   "execution_count": null,
   "metadata": {
    "colab": {
     "base_uri": "https://localhost:8080/"
    },
    "id": "UG9IBYAGHJ4A",
    "outputId": "e1a9be9b-db40-4b65-d7cb-57f47f00273f"
   },
   "outputs": [],
   "source": [
    "for df in bert_dflist:\n",
    "    df = batch_processing_bert(df)"
   ]
  },
  {
   "cell_type": "markdown",
   "metadata": {
    "id": "pX4UNCR_atHo"
   },
   "source": [
    "After the loop, we display the first 5 rows of all the dataframes:"
   ]
  },
  {
   "cell_type": "code",
   "execution_count": null,
   "metadata": {
    "id": "4dSA_88fL5wL"
   },
   "outputs": [],
   "source": [
    "display(bert_df1.head(), bert_df2.head(), bert_df3.head(), bert_df4.head())"
   ]
  },
  {
   "cell_type": "markdown",
   "metadata": {
    "id": "u_q3ESUicmA1"
   },
   "source": [
    "Merging all the looped dataframes into one master dataframe.\n",
    "\n",
    "After that, we make a copy of the dataframe and use the `remove_unnecessary` function."
   ]
  },
  {
   "cell_type": "code",
   "execution_count": null,
   "metadata": {
    "id": "h0az2Anjcb5E"
   },
   "outputs": [],
   "source": [
    "bert_concat_text = pd.concat([bert_df1, bert_df2, bert_df3, bert_df4], axis=0)\n",
    "\n",
    "bert_master_text = bert_concat_text.copy(deep = True)\n",
    "\n",
    "bert_master_text['string'] = bert_master_text['string'].apply(remove_unnecessary)\n",
    "\n",
    "bert_master_text.head()"
   ]
  },
  {
   "cell_type": "markdown",
   "metadata": {
    "id": "U83pYVOnC2HJ"
   },
   "source": [
    "#### **Tokenizing with NLTK**"
   ]
  },
  {
   "cell_type": "markdown",
   "metadata": {
    "id": "HPWY4KoiXsD8"
   },
   "source": [
    "Creating copies and concatenating the copied dataframes"
   ]
  },
  {
   "cell_type": "code",
   "execution_count": null,
   "metadata": {
    "id": "KFDq2V1KMmpe"
   },
   "outputs": [],
   "source": [
    "nltk_df1 = intanon_df.copy(deep = True)\n",
    "nltk_df2 = integernotes_df.copy(deep = True)\n",
    "nltk_df3 = new_twit.copy(deep = True)\n",
    "nltk_df4 = integerwatch_df.copy(deep = True)\n",
    "\n",
    "nltk_concat = pd.concat([nltk_df1, nltk_df2, nltk_df3, nltk_df4], axis=0)"
   ]
  },
  {
   "cell_type": "markdown",
   "metadata": {
    "id": "Uz0K-JP9X3mu"
   },
   "source": [
    "We get the `RegexpTokenizer` by creating a tokenizer."
   ]
  },
  {
   "cell_type": "code",
   "execution_count": null,
   "metadata": {
    "id": "SAJOcD1xNYsp"
   },
   "outputs": [],
   "source": [
    "nltk_concat['text'] = nltk_concat['text'].astype(str).str.lower()\n",
    "regexp = RegexpTokenizer('\\w+')"
   ]
  },
  {
   "cell_type": "markdown",
   "metadata": {
    "id": "lOl-yaE2YlEh"
   },
   "source": [
    "We create a new column in the `nltk_concat` dataframe to apply the tokenized text."
   ]
  },
  {
   "cell_type": "code",
   "execution_count": null,
   "metadata": {
    "id": "A9opKs2CNQ4j"
   },
   "outputs": [],
   "source": [
    "nltk_concat['text_token']=nltk_concat['text'].apply(regexp.tokenize)"
   ]
  },
  {
   "cell_type": "markdown",
   "metadata": {
    "id": "xlf76bYuZem6"
   },
   "source": [
    "Creating a copy of the `nltk_concat` dataframe and renaming it to be consistent with the other tokenized dataframes."
   ]
  },
  {
   "cell_type": "code",
   "execution_count": null,
   "metadata": {
    "id": "8TCItAQlOlm7"
   },
   "outputs": [],
   "source": [
    "nltk_master = nltk_concat.copy(deep = True)"
   ]
  },
  {
   "cell_type": "markdown",
   "metadata": {
    "id": "eKUgu7SuZnrZ"
   },
   "source": [
    "We display the head of the dataframe to see the result of the tokenizer."
   ]
  },
  {
   "cell_type": "code",
   "execution_count": null,
   "metadata": {
    "colab": {
     "base_uri": "https://localhost:8080/",
     "height": 206
    },
    "id": "xK4k-9Y1ODHl",
    "outputId": "7e2d6a30-ad21-4a9f-df90-3368bb35d605"
   },
   "outputs": [],
   "source": [
    "nltk_master.head()"
   ]
  },
  {
   "cell_type": "markdown",
   "metadata": {
    "id": "OwBLpdAwCsUM"
   },
   "source": [
    "#### **Tokenizing with TfidfVectorizer**"
   ]
  },
  {
   "cell_type": "markdown",
   "metadata": {
    "id": "ZipIFo_hZw-T"
   },
   "source": [
    "Creating copies and concatenating the copied dataframes"
   ]
  },
  {
   "cell_type": "code",
   "execution_count": null,
   "metadata": {
    "id": "RIx4SoSEJal9"
   },
   "outputs": [],
   "source": [
    "tfidf_df1 = intanon_df.copy(deep = True)\n",
    "tfidf_df2 = integernotes_df.copy(deep = True)\n",
    "tfidf_df3 = new_twit.copy(deep = True)\n",
    "tfidf_df4 = integerwatch_df.copy(deep = True)\n",
    "\n",
    "tfidf_concat = pd.concat([tfidf_df1, tfidf_df2, tfidf_df3, tfidf_df4], axis=0)"
   ]
  },
  {
   "cell_type": "markdown",
   "metadata": {
    "id": "qhPY0E5eZ8oc"
   },
   "source": [
    "We extract the text data into a list."
   ]
  },
  {
   "cell_type": "code",
   "execution_count": null,
   "metadata": {
    "id": "Gm3t19EMNr5t"
   },
   "outputs": [],
   "source": [
    "tfidf_text_data = tfidf_concat['text'].tolist()"
   ]
  },
  {
   "cell_type": "markdown",
   "metadata": {
    "id": "IHi5Lnw1aBDj"
   },
   "source": [
    "We then create a `TfidfVectorizer` object."
   ]
  },
  {
   "cell_type": "code",
   "execution_count": null,
   "metadata": {
    "id": "sgkOn_BWNhcI"
   },
   "outputs": [],
   "source": [
    "tfidf_vectorizer = TfidfVectorizer()"
   ]
  },
  {
   "cell_type": "markdown",
   "metadata": {
    "id": "JML5IupRaHK0"
   },
   "source": [
    "We fit the `tfidf_vectorizer` onto the text data"
   ]
  },
  {
   "cell_type": "code",
   "execution_count": null,
   "metadata": {
    "colab": {
     "base_uri": "https://localhost:8080/",
     "height": 75
    },
    "id": "5Q4qDBX3Nopa",
    "outputId": "d88544de-efdc-491d-a2e2-f3c32092d6d7"
   },
   "outputs": [],
   "source": [
    "tfidf_vectorizer.fit(tfidf_text_data)"
   ]
  },
  {
   "cell_type": "markdown",
   "metadata": {
    "id": "Q4FnBUXtaRhk"
   },
   "source": [
    "We transform the text data into the TF_IDF matrix"
   ]
  },
  {
   "cell_type": "code",
   "execution_count": null,
   "metadata": {
    "id": "Tf7MIszTNogE"
   },
   "outputs": [],
   "source": [
    "tfidf_matrix = tfidf_vectorizer.transform(tfidf_text_data) "
   ]
  },
  {
   "cell_type": "markdown",
   "metadata": {
    "id": "xW4hIK44aWDA"
   },
   "source": [
    "Lastly, we add the TF-IDF matrix as columns in the `tfidf_master` dataframe"
   ]
  },
  {
   "cell_type": "code",
   "execution_count": null,
   "metadata": {
    "id": "Y-lIQ1z7SPU2"
   },
   "outputs": [],
   "source": [
    "tfidf_columns = ['tfidf_{}'.format(i) for i in range(tfidf_matrix.shape[1])]\n",
    "df_tfidf = pd.DataFrame(tfidf_matrix.toarray(), columns=tfidf_columns)\n",
    "tfidf_master = pd.concat([tfidf_concat, df_tfidf], axis=1)"
   ]
  },
  {
   "cell_type": "markdown",
   "metadata": {
    "id": "cpLYX3Mtaf4V"
   },
   "source": [
    "We display the head of the dataframe to see the result."
   ]
  },
  {
   "cell_type": "code",
   "execution_count": null,
   "metadata": {
    "id": "abw4uM5KOyQQ"
   },
   "outputs": [],
   "source": [
    "tfidf_master.head()"
   ]
  },
  {
   "cell_type": "markdown",
   "metadata": {
    "id": "QTPJ1W4ICsl6"
   },
   "source": [
    "#### **Tokenizing with CountVectorizer**"
   ]
  },
  {
   "cell_type": "markdown",
   "metadata": {
    "id": "UupFR1VSbF1N"
   },
   "source": [
    "Creating copies and concatenating the copied dataframes"
   ]
  },
  {
   "cell_type": "code",
   "execution_count": null,
   "metadata": {
    "id": "A_Wv42ZgUoIc"
   },
   "outputs": [],
   "source": [
    "count_df1 = intanon_df.copy(deep = True)\n",
    "count_df2 = integernotes_df.copy(deep = True)\n",
    "count_df3 = new_twit.copy(deep = True)\n",
    "count_df4 = integerwatch_df.copy(deep = True)\n",
    "\n",
    "count_concat = pd.concat([count_df1, count_df2, count_df3, count_df4], axis=0)"
   ]
  },
  {
   "cell_type": "markdown",
   "metadata": {
    "id": "MB1SpPQIbNzY"
   },
   "source": [
    "We extract the text data into a list."
   ]
  },
  {
   "cell_type": "code",
   "execution_count": null,
   "metadata": {
    "id": "YEt_PaX7UBQ6"
   },
   "outputs": [],
   "source": [
    "count_text_data = count_concat['text'].tolist()"
   ]
  },
  {
   "cell_type": "markdown",
   "metadata": {
    "id": "LCxDcevHbOs4"
   },
   "source": [
    "We then create a `CountVectorizer` object."
   ]
  },
  {
   "cell_type": "code",
   "execution_count": null,
   "metadata": {
    "id": "r69JEdwGVhVg"
   },
   "outputs": [],
   "source": [
    "count_vectorizer = CountVectorizer()"
   ]
  },
  {
   "cell_type": "markdown",
   "metadata": {
    "id": "KmJjVC6sbO_W"
   },
   "source": [
    "We fit the `count_vectorizer` onto the text data"
   ]
  },
  {
   "cell_type": "code",
   "execution_count": null,
   "metadata": {
    "colab": {
     "base_uri": "https://localhost:8080/",
     "height": 75
    },
    "id": "fO5vxXDKVkOj",
    "outputId": "ae664b1b-14a2-4acb-fd8d-fa54713d8d2b"
   },
   "outputs": [],
   "source": [
    "count_vectorizer.fit(count_text_data)"
   ]
  },
  {
   "cell_type": "markdown",
   "metadata": {
    "id": "HHUQq-rybPUL"
   },
   "source": [
    "We transform the text data into bag-of-words matrix"
   ]
  },
  {
   "cell_type": "code",
   "execution_count": null,
   "metadata": {
    "id": "9TzqrEZQVkGK"
   },
   "outputs": [],
   "source": [
    "bow_matrix = count_vectorizer.transform(count_text_data)"
   ]
  },
  {
   "cell_type": "markdown",
   "metadata": {
    "id": "-_mXmB7nbQAt"
   },
   "source": [
    "Lastly, we add the bag-of-words matrix as columns in the `count_master` dataframe"
   ]
  },
  {
   "cell_type": "code",
   "execution_count": null,
   "metadata": {
    "id": "w6Xx4bd0Vj8N"
   },
   "outputs": [],
   "source": [
    "bow_columns = ['bow_{}'.format(i) for i in range(bow_matrix.shape[1])]\n",
    "df_bow = pd.DataFrame(bow_matrix.toarray(), columns=bow_columns)\n",
    "count_master = pd.concat([count_concat, df_bow], axis=1)"
   ]
  },
  {
   "cell_type": "markdown",
   "metadata": {
    "id": "JrsafdJfbSoE"
   },
   "source": [
    "We display the head of the `count_master` dataframe"
   ]
  },
  {
   "cell_type": "code",
   "execution_count": null,
   "metadata": {
    "id": "8F1G2CNcVjy1"
   },
   "outputs": [],
   "source": [
    "count_master.head()"
   ]
  },
  {
   "cell_type": "markdown",
   "metadata": {
    "id": "BwzbULkR8FRB"
   },
   "source": [
    "## **Exploratory Data Analysis (EDA)**"
   ]
  },
  {
   "cell_type": "markdown",
   "metadata": {
    "id": "cut3dtBd-02V"
   },
   "source": [
    "###**EDA Questions:**\n",
    "1. What are the most occurring words under the suicide class?\n",
    "2. What are the most occurring words under the non-suicide class?"
   ]
  },
  {
   "cell_type": "markdown",
   "metadata": {
    "id": "Dpv-i1cfAvsp"
   },
   "source": [
    "A copy of the dataframe containing the combined and tokenized dataset is created for the EDA."
   ]
  },
  {
   "cell_type": "code",
   "execution_count": null,
   "metadata": {
    "id": "xy9Nc5pqAta8"
   },
   "outputs": [],
   "source": [
    "eda = concat[['class', 'token','text']].copy(deep=True)\n"
   ]
  },
  {
   "cell_type": "markdown",
   "metadata": {
    "id": "ZtAaMTd5A0Ad"
   },
   "source": [
    "The eda dataframe is separated into their respective classes: ns for non-suicide (class = 0) and s for suicide (class = 1)"
   ]
  },
  {
   "cell_type": "code",
   "execution_count": null,
   "metadata": {
    "id": "par-Qb_iA2SW"
   },
   "outputs": [],
   "source": [
    "ns = eda[eda['class'] == 0]\n",
    "s = eda[eda['class'] == 1]"
   ]
  },
  {
   "cell_type": "markdown",
   "metadata": {
    "id": "_uxPrwBf-5Ly"
   },
   "source": [
    "#### **What are the most occurring words under the non-suicide class?**"
   ]
  },
  {
   "cell_type": "code",
   "execution_count": null,
   "metadata": {
    "id": "dplkKFD3-mpj"
   },
   "outputs": [],
   "source": [
    "text = \" \".join(i for i in ns.text).lower()\n",
    "wordcloud = WordCloud(background_color=\"white\").generate(text)"
   ]
  },
  {
   "cell_type": "code",
   "execution_count": null,
   "metadata": {
    "id": "JMyst7XhA8Ng"
   },
   "outputs": [],
   "source": [
    "plt.figure(figsize=(15,10))\n",
    "plt.imshow( wordcloud, interpolation='bilinear')\n",
    "plt.axis(\"off\")\n",
    "plt.show()"
   ]
  },
  {
   "cell_type": "code",
   "execution_count": null,
   "metadata": {
    "id": "eDgdu48HA8T-"
   },
   "outputs": [],
   "source": [
    "sp = spacy.load('en_core_web_sm')\n",
    "all_stopwords = sp.Defaults.stop_words\n",
    "new_stopwords_ns=[\"filler\", \" \", \"S\", \"t\", \"s\", \"m\"]\n",
    "comb_stopwords_ns=list(new_stopwords_ns)+list(all_stopwords)\n",
    "wordcloud = WordCloud(stopwords=comb_stopwords_ns, background_color=\"white\").generate(text)\n",
    "print(new_stopwords_ns"
   ]
  },
  {
   "cell_type": "code",
   "execution_count": null,
   "metadata": {
    "id": "z9zE1PAiA8Zg"
   },
   "outputs": [],
   "source": [
    "plt.figure(figsize=(15,10))\n",
    "plt.imshow(wordcloud, interpolation='bilinear')\n",
    "plt.axis(\"off\")\n",
    "plt.show()"
   ]
  },
  {
   "cell_type": "code",
   "execution_count": null,
   "metadata": {
    "id": "RejBG2PaA8fo"
   },
   "outputs": [],
   "source": [
    "txt_ns = \" \".join(ns['text'])\n",
    "words_ns = word_tokenize(txt_ns)"
   ]
  },
  {
   "cell_type": "code",
   "execution_count": null,
   "metadata": {
    "id": "i44SZ_VUA8mQ"
   },
   "outputs": [],
   "source": [
    "def cleaned_words(new_tokens):\n",
    "\tnew_tokens = [t.lower() for t in new_tokens]\n",
    "\tnew_tokens =[t for t in new_tokens if t not in stopwords.words('english') and comb_stopwords_ns]\n",
    "\tnew_tokens = [t for t in new_tokens if t.isalpha()]\n",
    "\tlemmatizer = WordNetLemmatizer()\n",
    "\tnew_tokens = [lemmatizer.lemmatize(t) for t in new_tokens]\n",
    "\treturn new_tokens"
   ]
  },
  {
   "cell_type": "code",
   "execution_count": null,
   "metadata": {
    "id": "j60zgXoPA8tM"
   },
   "outputs": [],
   "source": [
    "lowered_ns = cleaned_words(words_ns)"
   ]
  },
  {
   "cell_type": "code",
   "execution_count": null,
   "metadata": {
    "id": "_3DwrywFA9Hc"
   },
   "outputs": [],
   "source": [
    "bow_ns = Counter(lowered_ns)"
   ]
  },
  {
   "cell_type": "code",
   "execution_count": null,
   "metadata": {
    "id": "GeUVEp2Z-mzf"
   },
   "outputs": [],
   "source": [
    "data_ns = pd.DataFrame(bow_ns.items(),columns=['word','frequency']).sort_values(by='frequency',ascending=False)\n",
    "data_ns = data_ns.head(20)\n",
    "sns.barplot(x='frequency',y='word',data=data_ns)"
   ]
  },
  {
   "cell_type": "markdown",
   "metadata": {
    "id": "wYnywLixBOnJ"
   },
   "source": [
    "#### **What are the most occurring words under the suicide class?**"
   ]
  },
  {
   "cell_type": "code",
   "execution_count": null,
   "metadata": {
    "id": "w7FMbO_SBO-O"
   },
   "outputs": [],
   "source": [
    "text_s = \" \".join(i for i in s.text).lower()\n",
    "wordcloud_s = WordCloud(background_color=\"white\").generate(text_s)"
   ]
  },
  {
   "cell_type": "code",
   "execution_count": null,
   "metadata": {
    "id": "KqRLP_NABUML"
   },
   "outputs": [],
   "source": [
    "plt.figure(figsize=(15,10))\n",
    "plt.imshow( wordcloud, interpolation='bilinear')\n",
    "plt.axis(\"off\")\n",
    "plt.show()"
   ]
  },
  {
   "cell_type": "code",
   "execution_count": null,
   "metadata": {
    "id": "XahexWshBa15"
   },
   "outputs": [],
   "source": [
    "new_stopwords_s=[\"filler\", \" \", \"S\", \"t\", \"s\", \"m\"]\n",
    "comb_stopwords_s=list(new_stopwords_s)+list(all_stopwords)\n",
    "wordcloud_s = WordCloud(stopwords=comb_stopwords_s, background_color=\"white\").generate(text)\n",
    "print(new_stopwords_s)"
   ]
  },
  {
   "cell_type": "code",
   "execution_count": null,
   "metadata": {
    "id": "CytZuNIpBURw"
   },
   "outputs": [],
   "source": [
    "plt.figure(figsize=(15,10))\n",
    "plt.imshow(wordcloud_s, interpolation='bilinear')\n",
    "plt.axis(\"off\")\n",
    "plt.show()"
   ]
  },
  {
   "cell_type": "code",
   "execution_count": null,
   "metadata": {
    "id": "8ZZRAqIwBUWz"
   },
   "outputs": [],
   "source": [
    "txt_s = \" \".join(s['text'])\n",
    "words_s = word_tokenize(txt_s)"
   ]
  },
  {
   "cell_type": "code",
   "execution_count": null,
   "metadata": {
    "id": "HdkCkaOtBUbm"
   },
   "outputs": [],
   "source": [
    "def cleaned_words_s(new_tokens_s):\n",
    "\tnew_tokens_s = [t.lower() for t in new_tokens_s]\n",
    "\tnew_tokens_s =[t for t in new_tokens_s if t not in stopwords.words('english') and comb_stopwords_s]\n",
    "\tnew_tokens_s = [t for t in new_tokens_s if t.isalpha()]\n",
    "\tlemmatizer = WordNetLemmatizer()\n",
    "\tnew_tokens_s = [lemmatizer.lemmatize(t) for t in new_tokens_s]\n",
    "\treturn new_tokens_s"
   ]
  },
  {
   "cell_type": "code",
   "execution_count": null,
   "metadata": {
    "id": "RWHgBjV1BUgV"
   },
   "outputs": [],
   "source": [
    "lowered_s = cleaned_words_s(words_s)"
   ]
  },
  {
   "cell_type": "code",
   "execution_count": null,
   "metadata": {
    "id": "C3NT8fPzBUlQ"
   },
   "outputs": [],
   "source": [
    "bow_s = Counter(lowered_s)"
   ]
  },
  {
   "cell_type": "code",
   "execution_count": null,
   "metadata": {
    "id": "lKGoYVsHBUqq"
   },
   "outputs": [],
   "source": [
    "data_s = pd.DataFrame(bow_s.items(),columns=['word','frequency']).sort_values(by='frequency',ascending=False)\n",
    "data_s = data_s.head(20)\n",
    "sns.barplot(x='frequency',y='word',data=data_s)"
   ]
  },
  {
   "cell_type": "markdown",
   "metadata": {
    "id": "q1hBnLUU8lTX"
   },
   "source": [
    "## **Modeling and Evaluation**"
   ]
  },
  {
   "cell_type": "markdown",
   "metadata": {
    "id": "9OtdB4OW9F0i"
   },
   "source": [
    "### **Modeling**"
   ]
  },
  {
   "cell_type": "markdown",
   "metadata": {
    "id": "O00EdUBk9Fy3"
   },
   "source": []
  },
  {
   "cell_type": "markdown",
   "metadata": {
    "id": "2JveVLtd8lRn"
   },
   "source": [
    "#### **Model Training**"
   ]
  },
  {
   "cell_type": "markdown",
   "metadata": {
    "id": "Eoh9QqFq8tWp"
   },
   "source": [
    "#### **Hyperparameter Tuning**"
   ]
  },
  {
   "cell_type": "markdown",
   "metadata": {
    "id": "EWZe_k6I9K9I"
   },
   "source": [
    "### **Evaluation**"
   ]
  },
  {
   "cell_type": "markdown",
   "metadata": {
    "id": "wpD9w69V8tH9"
   },
   "source": [
    "#### **Feature Importance**"
   ]
  },
  {
   "cell_type": "markdown",
   "metadata": {
    "id": "Pfb9e1p38syL"
   },
   "source": [
    "## **Conclusion**"
   ]
  },
  {
   "cell_type": "markdown",
   "metadata": {
    "id": "3SpGHQ9g9jQq"
   },
   "source": [
    "## **Try out our model!**"
   ]
  },
  {
   "cell_type": "markdown",
   "metadata": {
    "id": "iFjsHPDn9VN8"
   },
   "source": [
    "## References"
   ]
  }
 ],
 "metadata": {
  "colab": {
   "collapsed_sections": [
    "8zBoR7vo738e",
    "q-XfJf6p7-Pc",
    "8zYEi6d5ooAV",
    "y4PGobu8vBNU",
    "3SqgyWNIRGXe",
    "FgaWLGzkRPwh",
    "_ys69wdN8U44",
    "dBDZg8I8KF6v",
    "J6nFnPeTmtLu",
    "U83pYVOnC2HJ",
    "OwBLpdAwCsUM",
    "QTPJ1W4ICsl6",
    "q1hBnLUU8lTX",
    "9OtdB4OW9F0i",
    "EWZe_k6I9K9I"
   ],
   "provenance": [],
   "toc_visible": true
  },
  "kernelspec": {
   "display_name": "Python 3 (ipykernel)",
   "language": "python",
   "name": "python3"
  },
  "language_info": {
   "codemirror_mode": {
    "name": "ipython",
    "version": 3
   },
   "file_extension": ".py",
   "mimetype": "text/x-python",
   "name": "python",
   "nbconvert_exporter": "python",
   "pygments_lexer": "ipython3",
   "version": "3.9.16"
  }
 },
 "nbformat": 4,
 "nbformat_minor": 1
}
