{
 "cells": [
  {
   "cell_type": "markdown",
   "id": "86c1ebb4",
   "metadata": {},
   "source": [
    "# You Matter, Words Matter: A Suicide Prevention Tool\n",
    "**`DATA103 S11 Group 4`**\n",
    "- GOZON, Jean Pauline D.\n",
    "- JAMIAS, Gillian Nicole A.\n",
    "- MARCELO Andrea Jean C. \n",
    "- REYES, Anton Gabriel G.\n",
    "- VICENTE, Francheska Josefa"
   ]
  },
  {
   "cell_type": "markdown",
   "id": "5b0aebb6",
   "metadata": {},
   "source": [
    "# **Requirements and Imports**\n",
    "Before starting, the relevant libraries and files in building and training the model should be loaded into the notebook first."
   ]
  },
  {
   "cell_type": "markdown",
   "id": "8b3cc136",
   "metadata": {},
   "source": [
    "## **Basic** Libraries\n",
    "* `numpy` contains a large collection of mathematical functions\n",
    "* `pandas` contains functions that are designed for data manipulation and data analysis"
   ]
  },
  {
   "cell_type": "code",
   "execution_count": 11,
   "id": "b9ca2cb7",
   "metadata": {},
   "outputs": [],
   "source": [
    "import numpy as np\n",
    "import pandas as pd"
   ]
  },
  {
   "cell_type": "markdown",
   "id": "ec8bcdf0",
   "metadata": {},
   "source": [
    "## **`Natural Language Processing`** Libraries\n",
    "* `train_test_split` is a function that allows the dataset to be split into two randomly.\n",
    "* `TFidfVectorizer` converts the given text documents into a matrix, which has TF-IDF features\n",
    "* `CountVectorizer` converts the given text documents into a matrix, which has the counts of the tokens"
   ]
  },
  {
   "cell_type": "code",
   "execution_count": 12,
   "id": "ffb97206",
   "metadata": {},
   "outputs": [],
   "source": [
    "from sklearn.model_selection import train_test_split\n",
    "from sklearn.feature_extraction.text import TfidfVectorizer\n",
    "from sklearn.feature_extraction.text import CountVectorizer"
   ]
  },
  {
   "cell_type": "markdown",
   "id": "279a18b7",
   "metadata": {},
   "source": [
    "## **`Machine Learning`** Libraries\n",
    "The following classes are classifiers that implement different methods of classification.\n",
    "* `LogisticRegression` is a class under the linear models module that implements regularized logistic regression\n",
    "* `MultinomialNB` is a class under the Naive Bayes module that allows the classification of discrete features\n",
    "* `RandomForestClassifier` is a class under the ensemble module that trains by fitting using a number of decision trees"
   ]
  },
  {
   "cell_type": "code",
   "execution_count": 13,
   "id": "3dbf0cde",
   "metadata": {},
   "outputs": [],
   "source": [
    "from sklearn.linear_model import LogisticRegression\n",
    "from sklearn.ensemble import RandomForestClassifier\n",
    "from sklearn.naive_bayes import MultinomialNB"
   ]
  },
  {
   "cell_type": "markdown",
   "id": "45d6d614",
   "metadata": {},
   "source": [
    "On the other hand, these classes computes and visualizes the different scores about how well a model works.\n",
    "* `f1_score` computes the balanced F-score by comparing the actual classes and the predicted classes\n",
    "* `hamming_loss` computes the fraction of labels that were incorrectly labeled by the model\n",
    "* `accuracy_score` computes the accuracy by determining how many classes were correctly predicted\n",
    "* `precision_recall_fscore_support`computes the precision, recall, F-measure and support per class\n",
    "* `ConfusionMatrixDisplay` allows the visualization of the computed confusion matrix\n",
    "* `confusion_matrix`  is a function that displays the number of samples that are correctly and incorrectly labeled by the model, by grouping them into four groups (i.e., True Positives, False Positives, True Negatives, False Negatives)"
   ]
  },
  {
   "cell_type": "code",
   "execution_count": 14,
   "id": "485ba854",
   "metadata": {},
   "outputs": [],
   "source": [
    "from sklearn.metrics import f1_score, roc_auc_score, hamming_loss, accuracy_score, precision_recall_fscore_support\n",
    "from sklearn.metrics import confusion_matrix, ConfusionMatrixDisplay"
   ]
  },
  {
   "cell_type": "markdown",
   "id": "25051a34",
   "metadata": {},
   "source": [
    "Meanwhile, `GridSearchCV` is a cross-validation class that allows the exhaustive search over all possible combinations of hyperparameter values."
   ]
  },
  {
   "cell_type": "code",
   "execution_count": 15,
   "id": "e7701e8a",
   "metadata": {},
   "outputs": [],
   "source": [
    "from sklearn.model_selection import GridSearchCV"
   ]
  },
  {
   "cell_type": "markdown",
   "id": "5b777b04",
   "metadata": {},
   "source": [
    "Next, `ELI5` is a python library that holds support for machine learning algorithms frameworks and visualize different machine learning models."
   ]
  },
  {
   "cell_type": "code",
   "execution_count": null,
   "id": "ec95a754",
   "metadata": {},
   "outputs": [],
   "source": [
    "import eli5"
   ]
  },
  {
   "cell_type": "markdown",
   "id": "e20c45c6",
   "metadata": {},
   "source": [
    "Last, `pickle` is a module that can serialize and deserialize objects. In this notebook, it is used to save and load models."
   ]
  },
  {
   "cell_type": "code",
   "execution_count": 16,
   "id": "1627854b",
   "metadata": {},
   "outputs": [],
   "source": [
    "import pickle"
   ]
  },
  {
   "cell_type": "markdown",
   "id": "22aa6e5f",
   "metadata": {},
   "source": [
    "### Datasets and Files\n",
    "To train the models that utilizes the traditional machine learning algorithms, the dataset that was cleaned with the removal of unnecessary sequences and lemmatized will be loaded using the [`read_csv`](https://pandas.pydata.org/docs/reference/api/pandas.read_csv.html) function."
   ]
  },
  {
   "cell_type": "code",
   "execution_count": 17,
   "id": "28eb7b2a",
   "metadata": {},
   "outputs": [
    {
     "data": {
      "text/html": [
       "<div>\n",
       "<style scoped>\n",
       "    .dataframe tbody tr th:only-of-type {\n",
       "        vertical-align: middle;\n",
       "    }\n",
       "\n",
       "    .dataframe tbody tr th {\n",
       "        vertical-align: top;\n",
       "    }\n",
       "\n",
       "    .dataframe thead th {\n",
       "        text-align: right;\n",
       "    }\n",
       "</style>\n",
       "<table border=\"1\" class=\"dataframe\">\n",
       "  <thead>\n",
       "    <tr style=\"text-align: right;\">\n",
       "      <th></th>\n",
       "      <th>class</th>\n",
       "      <th>text</th>\n",
       "      <th>lemmatized_text</th>\n",
       "    </tr>\n",
       "  </thead>\n",
       "  <tbody>\n",
       "    <tr>\n",
       "      <th>0</th>\n",
       "      <td>0</td>\n",
       "      <td>'Its not a viable option, and youll be leaving...</td>\n",
       "      <td>'Its not a viable option, and youll be leave y...</td>\n",
       "    </tr>\n",
       "    <tr>\n",
       "      <th>1</th>\n",
       "      <td>1</td>\n",
       "      <td>'It can be hard to appreciate the notion that ...</td>\n",
       "      <td>'It can be hard to appreciate the notion that ...</td>\n",
       "    </tr>\n",
       "    <tr>\n",
       "      <th>2</th>\n",
       "      <td>1</td>\n",
       "      <td>'Hi, so last night i was sitting on the ledge ...</td>\n",
       "      <td>'Hi, so last night i be sit on the ledge of my...</td>\n",
       "    </tr>\n",
       "    <tr>\n",
       "      <th>3</th>\n",
       "      <td>1</td>\n",
       "      <td>'I tried to kill my self once and failed badly...</td>\n",
       "      <td>'I try to kill my self once and fail badly cau...</td>\n",
       "    </tr>\n",
       "    <tr>\n",
       "      <th>4</th>\n",
       "      <td>1</td>\n",
       "      <td>'Hi NEM3030. What sorts of things do you enjoy...</td>\n",
       "      <td>'Hi NEM3030. What sort of things do you enjoy ...</td>\n",
       "    </tr>\n",
       "    <tr>\n",
       "      <th>...</th>\n",
       "      <td>...</td>\n",
       "      <td>...</td>\n",
       "      <td>...</td>\n",
       "    </tr>\n",
       "    <tr>\n",
       "      <th>241733</th>\n",
       "      <td>0</td>\n",
       "      <td>If you don't like rock then your not going to ...</td>\n",
       "      <td>If you don't like rock then your not go to get...</td>\n",
       "    </tr>\n",
       "    <tr>\n",
       "      <th>241734</th>\n",
       "      <td>0</td>\n",
       "      <td>You how you can tell i have so many friends an...</td>\n",
       "      <td>You how you can tell i have so many friends an...</td>\n",
       "    </tr>\n",
       "    <tr>\n",
       "      <th>241735</th>\n",
       "      <td>0</td>\n",
       "      <td>pee probably tastes like salty tea😏💦‼️ can som...</td>\n",
       "      <td>pee probably taste like salty tea😏💦‼️ can some...</td>\n",
       "    </tr>\n",
       "    <tr>\n",
       "      <th>241736</th>\n",
       "      <td>1</td>\n",
       "      <td>The usual stuff you find hereI'm not posting t...</td>\n",
       "      <td>The usual stuff you find hereI'm not post this...</td>\n",
       "    </tr>\n",
       "    <tr>\n",
       "      <th>241737</th>\n",
       "      <td>0</td>\n",
       "      <td>I still haven't beaten the first boss in Hollo...</td>\n",
       "      <td>I still haven't beat the first boss in Hollow ...</td>\n",
       "    </tr>\n",
       "  </tbody>\n",
       "</table>\n",
       "<p>241738 rows × 3 columns</p>\n",
       "</div>"
      ],
      "text/plain": [
       "        class                                               text  \\\n",
       "0           0  'Its not a viable option, and youll be leaving...   \n",
       "1           1  'It can be hard to appreciate the notion that ...   \n",
       "2           1  'Hi, so last night i was sitting on the ledge ...   \n",
       "3           1  'I tried to kill my self once and failed badly...   \n",
       "4           1  'Hi NEM3030. What sorts of things do you enjoy...   \n",
       "...       ...                                                ...   \n",
       "241733      0  If you don't like rock then your not going to ...   \n",
       "241734      0  You how you can tell i have so many friends an...   \n",
       "241735      0  pee probably tastes like salty tea😏💦‼️ can som...   \n",
       "241736      1  The usual stuff you find hereI'm not posting t...   \n",
       "241737      0  I still haven't beaten the first boss in Hollo...   \n",
       "\n",
       "                                          lemmatized_text  \n",
       "0       'Its not a viable option, and youll be leave y...  \n",
       "1       'It can be hard to appreciate the notion that ...  \n",
       "2       'Hi, so last night i be sit on the ledge of my...  \n",
       "3       'I try to kill my self once and fail badly cau...  \n",
       "4       'Hi NEM3030. What sort of things do you enjoy ...  \n",
       "...                                                   ...  \n",
       "241733  If you don't like rock then your not go to get...  \n",
       "241734  You how you can tell i have so many friends an...  \n",
       "241735  pee probably taste like salty tea😏💦‼️ can some...  \n",
       "241736  The usual stuff you find hereI'm not post this...  \n",
       "241737  I still haven't beat the first boss in Hollow ...  \n",
       "\n",
       "[241738 rows x 3 columns]"
      ]
     },
     "execution_count": 17,
     "metadata": {},
     "output_type": "execute_result"
    }
   ],
   "source": [
    "df = pd.read_csv ('lemmatized_with_char_seq_removal.csv')\n",
    "df"
   ]
  },
  {
   "cell_type": "markdown",
   "id": "5266a894",
   "metadata": {},
   "source": [
    "Since we want to use the lemmatized text as our input, we will be removing the text that was not lemmatized. As we want the convention `text` and `class` as column names, we will be moving the lemmatized text into the text column."
   ]
  },
  {
   "cell_type": "code",
   "execution_count": 18,
   "id": "dccac29a",
   "metadata": {},
   "outputs": [
    {
     "data": {
      "text/html": [
       "<div>\n",
       "<style scoped>\n",
       "    .dataframe tbody tr th:only-of-type {\n",
       "        vertical-align: middle;\n",
       "    }\n",
       "\n",
       "    .dataframe tbody tr th {\n",
       "        vertical-align: top;\n",
       "    }\n",
       "\n",
       "    .dataframe thead th {\n",
       "        text-align: right;\n",
       "    }\n",
       "</style>\n",
       "<table border=\"1\" class=\"dataframe\">\n",
       "  <thead>\n",
       "    <tr style=\"text-align: right;\">\n",
       "      <th></th>\n",
       "      <th>class</th>\n",
       "      <th>text</th>\n",
       "      <th>lemmatized_text</th>\n",
       "    </tr>\n",
       "  </thead>\n",
       "  <tbody>\n",
       "    <tr>\n",
       "      <th>0</th>\n",
       "      <td>0</td>\n",
       "      <td>'Its not a viable option, and youll be leave y...</td>\n",
       "      <td>'Its not a viable option, and youll be leave y...</td>\n",
       "    </tr>\n",
       "    <tr>\n",
       "      <th>1</th>\n",
       "      <td>1</td>\n",
       "      <td>'It can be hard to appreciate the notion that ...</td>\n",
       "      <td>'It can be hard to appreciate the notion that ...</td>\n",
       "    </tr>\n",
       "    <tr>\n",
       "      <th>2</th>\n",
       "      <td>1</td>\n",
       "      <td>'Hi, so last night i be sit on the ledge of my...</td>\n",
       "      <td>'Hi, so last night i be sit on the ledge of my...</td>\n",
       "    </tr>\n",
       "    <tr>\n",
       "      <th>3</th>\n",
       "      <td>1</td>\n",
       "      <td>'I try to kill my self once and fail badly cau...</td>\n",
       "      <td>'I try to kill my self once and fail badly cau...</td>\n",
       "    </tr>\n",
       "    <tr>\n",
       "      <th>4</th>\n",
       "      <td>1</td>\n",
       "      <td>'Hi NEM3030. What sort of things do you enjoy ...</td>\n",
       "      <td>'Hi NEM3030. What sort of things do you enjoy ...</td>\n",
       "    </tr>\n",
       "    <tr>\n",
       "      <th>...</th>\n",
       "      <td>...</td>\n",
       "      <td>...</td>\n",
       "      <td>...</td>\n",
       "    </tr>\n",
       "    <tr>\n",
       "      <th>241733</th>\n",
       "      <td>0</td>\n",
       "      <td>If you don't like rock then your not go to get...</td>\n",
       "      <td>If you don't like rock then your not go to get...</td>\n",
       "    </tr>\n",
       "    <tr>\n",
       "      <th>241734</th>\n",
       "      <td>0</td>\n",
       "      <td>You how you can tell i have so many friends an...</td>\n",
       "      <td>You how you can tell i have so many friends an...</td>\n",
       "    </tr>\n",
       "    <tr>\n",
       "      <th>241735</th>\n",
       "      <td>0</td>\n",
       "      <td>pee probably taste like salty tea😏💦‼️ can some...</td>\n",
       "      <td>pee probably taste like salty tea😏💦‼️ can some...</td>\n",
       "    </tr>\n",
       "    <tr>\n",
       "      <th>241736</th>\n",
       "      <td>1</td>\n",
       "      <td>The usual stuff you find hereI'm not post this...</td>\n",
       "      <td>The usual stuff you find hereI'm not post this...</td>\n",
       "    </tr>\n",
       "    <tr>\n",
       "      <th>241737</th>\n",
       "      <td>0</td>\n",
       "      <td>I still haven't beat the first boss in Hollow ...</td>\n",
       "      <td>I still haven't beat the first boss in Hollow ...</td>\n",
       "    </tr>\n",
       "  </tbody>\n",
       "</table>\n",
       "<p>241738 rows × 3 columns</p>\n",
       "</div>"
      ],
      "text/plain": [
       "        class                                               text  \\\n",
       "0           0  'Its not a viable option, and youll be leave y...   \n",
       "1           1  'It can be hard to appreciate the notion that ...   \n",
       "2           1  'Hi, so last night i be sit on the ledge of my...   \n",
       "3           1  'I try to kill my self once and fail badly cau...   \n",
       "4           1  'Hi NEM3030. What sort of things do you enjoy ...   \n",
       "...       ...                                                ...   \n",
       "241733      0  If you don't like rock then your not go to get...   \n",
       "241734      0  You how you can tell i have so many friends an...   \n",
       "241735      0  pee probably taste like salty tea😏💦‼️ can some...   \n",
       "241736      1  The usual stuff you find hereI'm not post this...   \n",
       "241737      0  I still haven't beat the first boss in Hollow ...   \n",
       "\n",
       "                                          lemmatized_text  \n",
       "0       'Its not a viable option, and youll be leave y...  \n",
       "1       'It can be hard to appreciate the notion that ...  \n",
       "2       'Hi, so last night i be sit on the ledge of my...  \n",
       "3       'I try to kill my self once and fail badly cau...  \n",
       "4       'Hi NEM3030. What sort of things do you enjoy ...  \n",
       "...                                                   ...  \n",
       "241733  If you don't like rock then your not go to get...  \n",
       "241734  You how you can tell i have so many friends an...  \n",
       "241735  pee probably taste like salty tea😏💦‼️ can some...  \n",
       "241736  The usual stuff you find hereI'm not post this...  \n",
       "241737  I still haven't beat the first boss in Hollow ...  \n",
       "\n",
       "[241738 rows x 3 columns]"
      ]
     },
     "execution_count": 18,
     "metadata": {},
     "output_type": "execute_result"
    }
   ],
   "source": [
    "df [['class', 'text']] = df [['class', 'lemmatized_text']]\n",
    "df "
   ]
  },
  {
   "cell_type": "markdown",
   "id": "a52b1f00",
   "metadata": {},
   "source": [
    "Since the lemmatized text is already under the text column, we can already [`drop`](https://pandas.pydata.org/docs/reference/api/pandas.DataFrame.drop.html) the original column for the lemmatized text. "
   ]
  },
  {
   "cell_type": "code",
   "execution_count": 19,
   "id": "f3fe8176",
   "metadata": {},
   "outputs": [
    {
     "data": {
      "text/html": [
       "<div>\n",
       "<style scoped>\n",
       "    .dataframe tbody tr th:only-of-type {\n",
       "        vertical-align: middle;\n",
       "    }\n",
       "\n",
       "    .dataframe tbody tr th {\n",
       "        vertical-align: top;\n",
       "    }\n",
       "\n",
       "    .dataframe thead th {\n",
       "        text-align: right;\n",
       "    }\n",
       "</style>\n",
       "<table border=\"1\" class=\"dataframe\">\n",
       "  <thead>\n",
       "    <tr style=\"text-align: right;\">\n",
       "      <th></th>\n",
       "      <th>class</th>\n",
       "      <th>text</th>\n",
       "    </tr>\n",
       "  </thead>\n",
       "  <tbody>\n",
       "    <tr>\n",
       "      <th>0</th>\n",
       "      <td>0</td>\n",
       "      <td>'Its not a viable option, and youll be leave y...</td>\n",
       "    </tr>\n",
       "    <tr>\n",
       "      <th>1</th>\n",
       "      <td>1</td>\n",
       "      <td>'It can be hard to appreciate the notion that ...</td>\n",
       "    </tr>\n",
       "    <tr>\n",
       "      <th>2</th>\n",
       "      <td>1</td>\n",
       "      <td>'Hi, so last night i be sit on the ledge of my...</td>\n",
       "    </tr>\n",
       "    <tr>\n",
       "      <th>3</th>\n",
       "      <td>1</td>\n",
       "      <td>'I try to kill my self once and fail badly cau...</td>\n",
       "    </tr>\n",
       "    <tr>\n",
       "      <th>4</th>\n",
       "      <td>1</td>\n",
       "      <td>'Hi NEM3030. What sort of things do you enjoy ...</td>\n",
       "    </tr>\n",
       "    <tr>\n",
       "      <th>...</th>\n",
       "      <td>...</td>\n",
       "      <td>...</td>\n",
       "    </tr>\n",
       "    <tr>\n",
       "      <th>241733</th>\n",
       "      <td>0</td>\n",
       "      <td>If you don't like rock then your not go to get...</td>\n",
       "    </tr>\n",
       "    <tr>\n",
       "      <th>241734</th>\n",
       "      <td>0</td>\n",
       "      <td>You how you can tell i have so many friends an...</td>\n",
       "    </tr>\n",
       "    <tr>\n",
       "      <th>241735</th>\n",
       "      <td>0</td>\n",
       "      <td>pee probably taste like salty tea😏💦‼️ can some...</td>\n",
       "    </tr>\n",
       "    <tr>\n",
       "      <th>241736</th>\n",
       "      <td>1</td>\n",
       "      <td>The usual stuff you find hereI'm not post this...</td>\n",
       "    </tr>\n",
       "    <tr>\n",
       "      <th>241737</th>\n",
       "      <td>0</td>\n",
       "      <td>I still haven't beat the first boss in Hollow ...</td>\n",
       "    </tr>\n",
       "  </tbody>\n",
       "</table>\n",
       "<p>241738 rows × 2 columns</p>\n",
       "</div>"
      ],
      "text/plain": [
       "        class                                               text\n",
       "0           0  'Its not a viable option, and youll be leave y...\n",
       "1           1  'It can be hard to appreciate the notion that ...\n",
       "2           1  'Hi, so last night i be sit on the ledge of my...\n",
       "3           1  'I try to kill my self once and fail badly cau...\n",
       "4           1  'Hi NEM3030. What sort of things do you enjoy ...\n",
       "...       ...                                                ...\n",
       "241733      0  If you don't like rock then your not go to get...\n",
       "241734      0  You how you can tell i have so many friends an...\n",
       "241735      0  pee probably taste like salty tea😏💦‼️ can some...\n",
       "241736      1  The usual stuff you find hereI'm not post this...\n",
       "241737      0  I still haven't beat the first boss in Hollow ...\n",
       "\n",
       "[241738 rows x 2 columns]"
      ]
     },
     "execution_count": 19,
     "metadata": {},
     "output_type": "execute_result"
    }
   ],
   "source": [
    "df = df.drop ('lemmatized_text', axis = 1)\n",
    "df"
   ]
  },
  {
   "cell_type": "markdown",
   "id": "21732b0e",
   "metadata": {},
   "source": [
    "# **Feature Engineering**\n",
    "\n",
    "As we cannot directly feed the text data as input to the machine learning models, we have to convert it into the format that they can understand—numbers. Before doing that, since we want to save the models and vectorizers that we will be using, we will first need to define the values and functions to do so, starting with the folder where we will be saving it. "
   ]
  },
  {
   "cell_type": "code",
   "execution_count": 20,
   "id": "6087e0df",
   "metadata": {},
   "outputs": [],
   "source": [
    "main_directory = './saved_models/trad_ml_lemmatized/vectorizers/'"
   ]
  },
  {
   "cell_type": "markdown",
   "id": "efb15fea",
   "metadata": {},
   "source": [
    "Next, we will be creating a function that will be saving the vectorizer to the specified path."
   ]
  },
  {
   "cell_type": "code",
   "execution_count": 21,
   "id": "6767f7ff",
   "metadata": {},
   "outputs": [],
   "source": [
    "def save_vectorizers (vectorizer, vectorizer_name):\n",
    "    vectorizer_filename = main_directory + vectorizer_name + '.pkl'\n",
    "    \n",
    "    with open(vectorizer_filename, 'wb') as file:\n",
    "        pickle.dump(vectorizer, file)"
   ]
  },
  {
   "cell_type": "markdown",
   "id": "8e37fb5e",
   "metadata": {},
   "source": [
    "## Splitting the Dataset into **`Train`**, **`Validation`**, and **`Test`** Split\n",
    "Let us first define the **X** (input) and **y** (target/output) of our model. This is done to allow the stratifying of the data when it is split into the train, val and test.\n",
    "\n",
    "The **X** (input) can be retrieved by getting the `text` column in the original dataset."
   ]
  },
  {
   "cell_type": "code",
   "execution_count": 22,
   "id": "465abc6a",
   "metadata": {},
   "outputs": [
    {
     "data": {
      "text/plain": [
       "0         'Its not a viable option, and youll be leave y...\n",
       "1         'It can be hard to appreciate the notion that ...\n",
       "2         'Hi, so last night i be sit on the ledge of my...\n",
       "3         'I try to kill my self once and fail badly cau...\n",
       "4         'Hi NEM3030. What sort of things do you enjoy ...\n",
       "                                ...                        \n",
       "241733    If you don't like rock then your not go to get...\n",
       "241734    You how you can tell i have so many friends an...\n",
       "241735    pee probably taste like salty tea😏💦‼️ can some...\n",
       "241736    The usual stuff you find hereI'm not post this...\n",
       "241737    I still haven't beat the first boss in Hollow ...\n",
       "Name: text, Length: 241738, dtype: object"
      ]
     },
     "execution_count": 22,
     "metadata": {},
     "output_type": "execute_result"
    }
   ],
   "source": [
    "X = df ['text']\n",
    "X"
   ]
  },
  {
   "cell_type": "markdown",
   "id": "beed5136",
   "metadata": {},
   "source": [
    "Meanwhile, the **y** value (i.e., the value that we would be \"feeding\" our models) is the `class` column. "
   ]
  },
  {
   "cell_type": "code",
   "execution_count": 23,
   "id": "742f0e0a",
   "metadata": {},
   "outputs": [
    {
     "data": {
      "text/plain": [
       "0         0\n",
       "1         1\n",
       "2         1\n",
       "3         1\n",
       "4         1\n",
       "         ..\n",
       "241733    0\n",
       "241734    0\n",
       "241735    0\n",
       "241736    1\n",
       "241737    0\n",
       "Name: class, Length: 241738, dtype: int64"
      ]
     },
     "execution_count": 23,
     "metadata": {},
     "output_type": "execute_result"
    }
   ],
   "source": [
    "y = df ['class']\n",
    "y"
   ]
  },
  {
   "cell_type": "markdown",
   "id": "63f068f4",
   "metadata": {},
   "source": [
    "Now that we have declared the input and the target output of our models, we can use the [`train_test_split`](https://scikit-learn.org/stable/modules/generated/sklearn.model_selection.train_test_split.html) function to divide the dataset into two splits. Some things to note are: (1) the split is stratified based on the **y values**, (2) the value of the random state was set to 42 for reproducibility, and (3) the dataset is shuffled.\n",
    "\n",
    "First, let us create the train and test set. The test set is made up of 20% of the original dataset, which infers that the second split is 80% of the original. "
   ]
  },
  {
   "cell_type": "code",
   "execution_count": 24,
   "id": "6eedd5d1",
   "metadata": {},
   "outputs": [],
   "source": [
    "X_train, X_test, y_train, y_test = train_test_split(X, y, test_size = 0.2,\n",
    "                                                    stratify = y,\n",
    "                                                    random_state = 42, \n",
    "                                                    shuffle = True)"
   ]
  },
  {
   "cell_type": "markdown",
   "id": "955ffb55",
   "metadata": {},
   "source": [
    "Second, we will be splitting the remaining 80% of the original dataset into two: the train and val sets. The train set will be 90% of the second split, while the val set will be 10% of it. "
   ]
  },
  {
   "cell_type": "code",
   "execution_count": 25,
   "id": "c5c5a13f",
   "metadata": {},
   "outputs": [],
   "source": [
    "X_train, X_val, y_train, y_val = train_test_split(X_train, \n",
    "                                                  y_train, \n",
    "                                                  test_size = 0.1,\n",
    "                                                  stratify = y_train,\n",
    "                                                  random_state = 42, \n",
    "                                                  shuffle = True)"
   ]
  },
  {
   "cell_type": "markdown",
   "id": "fef6c809",
   "metadata": {},
   "source": [
    "To check if the shapes of the input and output are the same, we will be looking at the shapes of the resulting DataFrame."
   ]
  },
  {
   "cell_type": "code",
   "execution_count": 26,
   "id": "b373e898",
   "metadata": {},
   "outputs": [
    {
     "name": "stdout",
     "output_type": "stream",
     "text": [
      "Train\n",
      "Input  shape:  (174051,)\n",
      "Output shape:  (174051,) \n",
      "\n",
      "Val\n",
      "Input  shape:  (19339,)\n",
      "Output shape:  (19339,) \n",
      "\n",
      "Test\n",
      "Input  shape:  (48348,)\n",
      "Output shape:  (48348,) \n",
      "\n"
     ]
    }
   ],
   "source": [
    "print('Train')\n",
    "print('Input  shape: ', X_train.shape)\n",
    "print('Output shape: ', y_train.shape, '\\n')\n",
    "\n",
    "print('Val')\n",
    "print('Input  shape: ', X_val.shape)\n",
    "print('Output shape: ', y_val.shape, '\\n')\n",
    "\n",
    "print('Test')\n",
    "print('Input  shape: ', X_test.shape)\n",
    "print('Output shape: ', y_test.shape, '\\n')"
   ]
  },
  {
   "cell_type": "markdown",
   "id": "08ce9ccb",
   "metadata": {},
   "source": [
    "## Tokenizing with **`TF-IDF` Vectorizer**"
   ]
  },
  {
   "cell_type": "markdown",
   "id": "db94a74f",
   "metadata": {},
   "source": [
    "Now, we can proceed with tokenizing our input. To do this, we first create an instance of a [`TF-IDF Vectorizer`](https://scikit-learn.org/stable/modules/generated/sklearn.feature_extraction.text.TfidfVectorizer.html) with default values for its parameter."
   ]
  },
  {
   "cell_type": "code",
   "execution_count": 22,
   "id": "eb2d0aba",
   "metadata": {},
   "outputs": [],
   "source": [
    "tfidf_vectorizer = TfidfVectorizer()"
   ]
  },
  {
   "cell_type": "markdown",
   "id": "16d8ec72",
   "metadata": {},
   "source": [
    "### **`Train`** Data\n",
    "With the created vectorizer, we can now use the [`fit_transform`](https://scikit-learn.org/stable/modules/generated/sklearn.feature_extraction.text.TfidfVectorizer.html#sklearn.feature_extraction.text.TfidfVectorizer.fit_transform) function, which will learn the vocabulary and the inverse document frequency from the data provided, and then create a document-term matrix using the same data."
   ]
  },
  {
   "cell_type": "code",
   "execution_count": 24,
   "id": "35b6ba2d",
   "metadata": {},
   "outputs": [],
   "source": [
    "tfidf_train = tfidf_vectorizer.fit_transform(X_train.values.astype('U'))"
   ]
  },
  {
   "cell_type": "markdown",
   "id": "da02e856",
   "metadata": {},
   "source": [
    "To use this vectorizer that has learned from the vocabulary, let us save it using the function we previously defined. "
   ]
  },
  {
   "cell_type": "code",
   "execution_count": null,
   "id": "7d23a714",
   "metadata": {},
   "outputs": [],
   "source": [
    "save_vectorizers(tfidf_vectorizer, 'tfidf')"
   ]
  },
  {
   "cell_type": "markdown",
   "id": "1c187fea",
   "metadata": {},
   "source": [
    "### **`Validation`** Data\n",
    "Using the [`transform`](https://scikit-learn.org/stable/modules/generated/sklearn.feature_extraction.text.TfidfVectorizer.html#sklearn.feature_extraction.text.TfidfVectorizer.transform) function, we will be creating a document-term matrix for the validation set. For this, it is important to convert the datatype of the values in the validation set into **Unicode**, as this is the type accepted by the function.### **`Validation`** Data"
   ]
  },
  {
   "cell_type": "code",
   "execution_count": 26,
   "id": "e95b482f",
   "metadata": {},
   "outputs": [],
   "source": [
    "tfidf_val = tfidf_vectorizer.transform(X_val.values.astype('U'))"
   ]
  },
  {
   "cell_type": "markdown",
   "id": "a7cd689f",
   "metadata": {},
   "source": [
    "### **`Test`** Data\n",
    "Next, we will also [`transform`](https://scikit-learn.org/stable/modules/generated/sklearn.feature_extraction.text.TfidfVectorizer.html#sklearn.feature_extraction.text.TfidfVectorizer.transform) our test data into a document-term matrix, and to do this, we also have to convert it into the **Unicode** datatype."
   ]
  },
  {
   "cell_type": "code",
   "execution_count": 28,
   "id": "05bcfa80",
   "metadata": {},
   "outputs": [],
   "source": [
    "tfidf_test = tfidf_vectorizer.transform(X_test.values.astype('U'))"
   ]
  },
  {
   "cell_type": "markdown",
   "id": "fc2561bb",
   "metadata": {},
   "source": [
    "## Tokenizing with **`Count` Vectorizer**"
   ]
  },
  {
   "cell_type": "markdown",
   "id": "8baf2db6",
   "metadata": {},
   "source": [
    "Like what we did in for the  [`TF-IDF Vectorizer`](https://scikit-learn.org/stable/modules/generated/sklearn.feature_extraction.text.TfidfVectorizer.html), an instance of a [`CountVectorizer`](https://scikit-learn.org/stable/modules/generated/sklearn.feature_extraction.text.CountVectorizer.html) will be created."
   ]
  },
  {
   "cell_type": "code",
   "execution_count": 30,
   "id": "f32ada95",
   "metadata": {},
   "outputs": [],
   "source": [
    "count_vectorizer = CountVectorizer()"
   ]
  },
  {
   "cell_type": "markdown",
   "id": "ad2fa7cb",
   "metadata": {},
   "source": [
    "### **`Train`** Data\n",
    "As we have already created a [`CountVectorizer`](https://scikit-learn.org/stable/modules/generated/sklearn.feature_extraction.text.CountVectorizer.html), we can already learn the vocabulary from the train set (that was transformed into **Unicode**) and get the document-term matrix using the [`fit_transform`](https://scikit-learn.org/stable/modules/generated/sklearn.feature_extraction.text.CountVectorizer.html#sklearn.feature_extraction.text.CountVectorizer.fit_transform) function. "
   ]
  },
  {
   "cell_type": "code",
   "execution_count": 32,
   "id": "1b25059a",
   "metadata": {},
   "outputs": [],
   "source": [
    "count_train = count_vectorizer.fit_transform(X_train.values.astype('U'))"
   ]
  },
  {
   "cell_type": "markdown",
   "id": "6ec4b136",
   "metadata": {},
   "source": [
    "Since it has already learned from the vocabulary, we can already save the vectorizer."
   ]
  },
  {
   "cell_type": "code",
   "execution_count": 33,
   "id": "1a1e2ae5",
   "metadata": {},
   "outputs": [],
   "source": [
    "save_vectorizers(count_vectorizer, 'count')"
   ]
  },
  {
   "cell_type": "markdown",
   "id": "6673ab37",
   "metadata": {},
   "source": [
    "### **`Validation`** Data\n",
    "Next, using the [`CountVectorizer`](https://scikit-learn.org/stable/modules/generated/sklearn.feature_extraction.text.CountVectorizer.html) that has learned the vocabulary, we will be [`transform`](https://scikit-learn.org/stable/modules/generated/sklearn.feature_extraction.text.CountVectorizer.html#sklearn.feature_extraction.text.CountVectorizer.transform)ing the validation set into a document-term matrix. "
   ]
  },
  {
   "cell_type": "code",
   "execution_count": 34,
   "id": "334cdeaa",
   "metadata": {},
   "outputs": [],
   "source": [
    "count_val = count_vectorizer.transform(X_val.values.astype('U'))"
   ]
  },
  {
   "cell_type": "markdown",
   "id": "c819764f",
   "metadata": {},
   "source": [
    "### **`Test`** Data\n",
    "Last, the test set will also be [`transform`](https://scikit-learn.org/stable/modules/generated/sklearn.feature_extraction.text.CountVectorizer.html#sklearn.feature_extraction.text.CountVectorizer.transform)ed into the form that the models can understand—which in this case, a document-term matrix."
   ]
  },
  {
   "cell_type": "code",
   "execution_count": 36,
   "id": "68b897f7",
   "metadata": {},
   "outputs": [],
   "source": [
    "count_test = count_vectorizer.transform(X_test.values.astype('U'))"
   ]
  },
  {
   "cell_type": "markdown",
   "id": "90a9ae7f",
   "metadata": {},
   "source": [
    "# Modeling and Evaluation\n",
    "\n",
    "Now that we have transformed our data into the format that our algorithms can understand, we can move on to the modeling proper."
   ]
  },
  {
   "cell_type": "markdown",
   "id": "29b34439",
   "metadata": {},
   "source": [
    "## Defining the **Functions**\n",
    "\n",
    "To start with, let us first define the functions and the values needed to easily train the model. First, we will be creating a list that will hold the [`dictionaries`](https://docs.python.org/3/tutorial/datastructures.html#dictionaries) of scores. "
   ]
  },
  {
   "cell_type": "code",
   "execution_count": 38,
   "id": "c19de834",
   "metadata": {},
   "outputs": [],
   "source": [
    "scores_list = []"
   ]
  },
  {
   "cell_type": "markdown",
   "id": "20e24861",
   "metadata": {},
   "source": [
    "Next, we will also declare the path where our trained models will be saved. "
   ]
  },
  {
   "cell_type": "code",
   "execution_count": 39,
   "id": "25ab4c8c",
   "metadata": {},
   "outputs": [],
   "source": [
    "main_directory = './saved_models/trad_ml_lemmatized/'"
   ]
  },
  {
   "cell_type": "markdown",
   "id": "cffa8197",
   "metadata": {},
   "source": [
    "After this, to abstract the way we save our models, let us define a function that will: (1) create the path where our model will be saved, (2) the model's file name, and (3) save the model to the specified path."
   ]
  },
  {
   "cell_type": "code",
   "execution_count": 40,
   "id": "70b3af3d",
   "metadata": {},
   "outputs": [],
   "source": [
    "def save_models (model, model_name, vectorizer_name):\n",
    "    curr_directory = main_directory + model_name + '/' + vectorizer_name + '/'\n",
    "    \n",
    "    model_filename = curr_directory + 'model' + '.pkl'\n",
    "    \n",
    "    with open(model_filename, 'wb') as file:\n",
    "        pickle.dump(model, file)"
   ]
  },
  {
   "cell_type": "markdown",
   "id": "06f7c2d6",
   "metadata": {},
   "source": [
    "Next, we will be creating a function that will call the functions for the metrics (i.e., [`accuracy_score`](https://scikit-learn.org/stable/modules/generated/sklearn.metrics.accuracy_score.html), [`f1_score`](https://scikit-learn.org/stable/modules/generated/sklearn.metrics.f1_score.html), [`hamming_loss`](https://scikit-learn.org/stable/modules/generated/sklearn.metrics.hamming_loss.html), and [`precision_recall_fscore_support`](https://scikit-learn.org/stable/modules/generated/sklearn.metrics.precision_recall_fscore_support.html)) that are used for the scoring. "
   ]
  },
  {
   "cell_type": "code",
   "execution_count": 41,
   "id": "e57def7c",
   "metadata": {},
   "outputs": [],
   "source": [
    "def scores (y_true, y_pred):\n",
    "    accuracy = accuracy_score(y_true = y_true, y_pred = y_pred) * 100\n",
    "    f1_micro_average = f1_score(y_true = y_true, y_pred = y_pred, average = 'micro') * 100\n",
    "    f1_macro_average = f1_score(y_true = y_true, y_pred = y_pred, average = 'macro') * 100\n",
    "    hamming_loss_score = hamming_loss(y_true = y_true, y_pred = y_pred) * 100\n",
    "    precision, recall, fscore, support = precision_recall_fscore_support(y_true, y_pred, average = 'micro')\n",
    "    \n",
    "    return accuracy, f1_micro_average, f1_macro_average, hamming_loss_score, precision * 100, recall * 100"
   ]
  },
  {
   "cell_type": "markdown",
   "id": "842548e9",
   "metadata": {},
   "source": [
    "To be able to view the scores in a readable format, we also created a function that would print the metric's name and the score, side-by-side."
   ]
  },
  {
   "cell_type": "code",
   "execution_count": 42,
   "id": "b453625e",
   "metadata": {},
   "outputs": [],
   "source": [
    "def print_scores (accuracy, f1_micro_average, f1_macro_average, hamming_loss_score, precision, recall):\n",
    "    print('Accuracy: ', accuracy, '%')\n",
    "    print('F1 Macro Average: ', f1_macro_average, '%')\n",
    "    print('F1 Micro Average: ', f1_micro_average, '%')\n",
    "    print('Hamming Loss: ', hamming_loss_score, '%')\n",
    "    print('Precision: ', precision, '%')\n",
    "    print('Recall: ', recall, '%')"
   ]
  },
  {
   "cell_type": "markdown",
   "id": "e45c3890",
   "metadata": {},
   "source": [
    "As we would be training six models, we would also be abstracting the way that we train the model by creating a function. In this function: (1) the model will be trained, (2) the model will be used to predict on the train set, (3) the score on the train predictions will be computed and printed, (4) the model will be used to predict on the test set, and (5) the model will be saved to the created directory. In addition, this function returns the trained model and the test predictions. "
   ]
  },
  {
   "cell_type": "code",
   "execution_count": 43,
   "id": "c99288ab",
   "metadata": {},
   "outputs": [],
   "source": [
    "def train_model(base_model, X_train, y_train, X_test, y_test, model_name, vectorizer_name):\n",
    "    test_predictions = np.zeros((len(y_test), 1))   \n",
    "                                                       \n",
    "    model = base_model\n",
    "    model.fit(X_train, y_train)   \n",
    "    \n",
    "    train_predictions = model.predict(X_train)                      \n",
    "    accuracy, f1_micro_average, f1_macro_average, hamming_loss_score, precision, recall = scores (y_train, train_predictions)    \n",
    "    print_scores (accuracy, f1_micro_average, f1_macro_average, hamming_loss_score, precision, recall)\n",
    "\n",
    "    test_predictions = model.predict(X_test)       \n",
    "    \n",
    "    save_models(model, model_name, vectorizer_name)\n",
    "    \n",
    "    return model, test_predictions"
   ]
  },
  {
   "cell_type": "markdown",
   "id": "0f7e25f6",
   "metadata": {},
   "source": [
    "Last, we would also be creating a function that would be tuning the model through the use of [`GridSearchCV`](https://scikit-learn.org/stable/modules/generated/sklearn.model_selection.GridSearchCV.html). Additionally, like in the training fnuction, the tuned model will be used to predict on the train set, and the scores of the predictions will be computed and printed. \n",
    "\n",
    "Afterwards, the model will also be used to predict on the test set, and then, the model will be saved, before returning the tuned model and the predictions on the test set."
   ]
  },
  {
   "cell_type": "code",
   "execution_count": 44,
   "id": "c4ac1621",
   "metadata": {},
   "outputs": [],
   "source": [
    "def tune_and_train_model(model, hyperparameters,\n",
    "                         X_train, y_train, \n",
    "                         X_test, y_test, \n",
    "                         model_name, vectorizer_name,\n",
    "                         scoring='accuracy', cv = 5):\n",
    "    \n",
    "    print('Tuning', str(model) + '...')\n",
    "        \n",
    "    model_cv = GridSearchCV(model, hyperparameters, cv = cv, scoring = scoring, n_jobs = -1)\n",
    "    model_cv.fit(X_train, y_train)\n",
    "        \n",
    "    train_predictions = model_cv.predict(X_train)                              \n",
    "    accuracy = accuracy_score(train_predictions, y_train)           \n",
    "        \n",
    "    test_predictions = model_cv.predict(X_test)               \n",
    "    \n",
    "    save_models(model_cv.best_estimator_, model_name, vectorizer_name)\n",
    "    \n",
    "    return model_cv.best_estimator_, test_predictions"
   ]
  },
  {
   "cell_type": "markdown",
   "id": "dc70e430",
   "metadata": {},
   "source": [
    "## Declaration of **Hyperparameter Space**\n",
    "\n",
    "Before we move on to the actual training proper, we will be defining the hyperparameter space for each of the machine learning algorithms.\n",
    "\n",
    "Let us start with the hyperparameter space of the [`Logistic Regression`](https://scikit-learn.org/stable/modules/generated/sklearn.linear_model.LogisticRegression.html) models. For this, we will be tuning the **C** (inverse of regularization strength) and the **max_iter** (the maximum numbers of iterations allowed for solvers to converge)."
   ]
  },
  {
   "cell_type": "code",
   "execution_count": 45,
   "id": "63411683",
   "metadata": {},
   "outputs": [],
   "source": [
    "lr_hp_space = [{\n",
    "    'C' : [0.01, 0.1, 1, 10],\n",
    "    'max_iter' : [50, 100, 300, 600, 900, 1100] \n",
    "}]"
   ]
  },
  {
   "cell_type": "markdown",
   "id": "3a97859f",
   "metadata": {},
   "source": [
    "Next, for the [`Multinomial Naive Bayes`](https://scikit-learn.org/stable/modules/generated/sklearn.naive_bayes.MultinomialNB.html), we will be tuning the value for **alpha** (Additive (Laplace/Lidstone) smoothing parameter) and the **fit_prior** (if the model will learn the prior probabilities of the classes)."
   ]
  },
  {
   "cell_type": "code",
   "execution_count": 46,
   "id": "f5d3c0ef",
   "metadata": {},
   "outputs": [],
   "source": [
    "mnb_hp_space = [{\n",
    "    'alpha' : [0.0001, 0.001, 0.1, 1, 10, 100, 1000],\n",
    "    'fit_prior' : [True, False]\n",
    "}]"
   ]
  },
  {
   "cell_type": "markdown",
   "id": "74f0a9ad",
   "metadata": {},
   "source": [
    "Last, for the [`Random Forest Classifiers`](https://scikit-learn.org/stable/modules/generated/sklearn.ensemble.RandomForestClassifier.html), there will be three hyperparameters that we want to tune: (1) **n_estimators** (the number of trees), (2) **max_depth** (the maximum depth allowed for the tree), and (3) **max_leaf_nodes** (the maximum number of leaf nodes allowed). "
   ]
  },
  {
   "cell_type": "code",
   "execution_count": 47,
   "id": "2ec0ed89",
   "metadata": {},
   "outputs": [],
   "source": [
    "rf_hp_space = [{\n",
    "    'n_estimators' : [50, 100, 150],\n",
    "    'max_depth' : [None, 50, 100, 150],\n",
    "    'max_leaf_nodes' : [None, 50, 100]\n",
    "}]"
   ]
  },
  {
   "cell_type": "markdown",
   "id": "9e30a140",
   "metadata": {},
   "source": [
    "## Logistic Regression (TF-IDF Vectorizer)\n",
    "For our first model, we will be training and tuning a [`Logistic Regression`](https://scikit-learn.org/stable/modules/generated/sklearn.linear_model.LogisticRegression.html) using inputs created using [`TF-IDF Vectorizer`](https://scikit-learn.org/stable/modules/generated/sklearn.feature_extraction.text.TfidfVectorizer.html)"
   ]
  },
  {
   "cell_type": "markdown",
   "id": "5c2c5cf8",
   "metadata": {},
   "source": [
    "### Model Training \n",
    "As a starting point, let us first define an instance of [`Logistic Regression`](https://scikit-learn.org/stable/modules/generated/sklearn.linear_model.LogisticRegression.html). The **n_jobs = -1** just means that all processors can be used for its training."
   ]
  },
  {
   "cell_type": "code",
   "execution_count": 48,
   "id": "2e1fa5e6",
   "metadata": {},
   "outputs": [],
   "source": [
    "log_reg = LogisticRegression(n_jobs = -1)"
   ]
  },
  {
   "cell_type": "markdown",
   "id": "9ef14c56",
   "metadata": {},
   "source": [
    "Using this instance, we will now be training the model using the function we previously created."
   ]
  },
  {
   "cell_type": "code",
   "execution_count": 49,
   "id": "39bc9195",
   "metadata": {
    "scrolled": true
   },
   "outputs": [
    {
     "name": "stdout",
     "output_type": "stream",
     "text": [
      "Accuracy:  94.13036620687677 %\n",
      "F1 Macro Average:  94.12967568675204 %\n",
      "F1 Micro Average:  94.13036620687677 %\n",
      "Hamming Loss:  5.869633793123226 %\n",
      "Precision:  94.13036620687677 %\n",
      "Recall:  94.13036620687677 %\n"
     ]
    }
   ],
   "source": [
    "log_reg_tfidf, lr_test_predictions_tfidf = train_model (log_reg, \n",
    "                                                        tfidf_train, y_train, \n",
    "                                                        tfidf_test, y_test, \n",
    "                                                        'logreg', 'tfidf')"
   ]
  },
  {
   "cell_type": "markdown",
   "id": "c03b1bf3",
   "metadata": {},
   "source": [
    "To fully understand how our model fares with the test data, we will be plotting the [`confusion_matrix`](https://scikit-learn.org/stable/modules/generated/sklearn.metrics.confusion_matrix.html) of the test data using the [`ConfusionMatrixDisplay`](https://scikit-learn.org/stable/modules/generated/sklearn.metrics.ConfusionMatrixDisplay.html) function."
   ]
  },
  {
   "cell_type": "code",
   "execution_count": 50,
   "id": "2e72165c",
   "metadata": {
    "scrolled": false
   },
   "outputs": [
    {
     "data": {
      "text/plain": [
       "<sklearn.metrics._plot.confusion_matrix.ConfusionMatrixDisplay at 0x26ca9224d90>"
      ]
     },
     "execution_count": 50,
     "metadata": {},
     "output_type": "execute_result"
    },
    {
     "data": {
      "image/png": "[encoded data removed]",
      "text/plain": [
       "<Figure size 640x480 with 2 Axes>"
      ]
     },
     "metadata": {},
     "output_type": "display_data"
    }
   ],
   "source": [
    "ConfusionMatrixDisplay(confusion_matrix(y_test, lr_test_predictions_tfidf)).plot()"
   ]
  },
  {
   "cell_type": "markdown",
   "id": "93f1646a",
   "metadata": {},
   "source": [
    "From this, we can see that the model incorrectly 5.81% of the negative samples, and 7.33% of the positive samples. Now, let us compute the scores of the model on the test set using the metrics. "
   ]
  },
  {
   "cell_type": "code",
   "execution_count": 51,
   "id": "a5797654",
   "metadata": {},
   "outputs": [
    {
     "name": "stdout",
     "output_type": "stream",
     "text": [
      "Accuracy:  93.42583415923357 %\n",
      "F1 Macro Average:  93.42530133493226 %\n",
      "F1 Micro Average:  93.42583415923357 %\n",
      "Hamming Loss:  6.574165840766436 %\n",
      "Precision:  93.42583415923357 %\n",
      "Recall:  93.42583415923357 %\n"
     ]
    }
   ],
   "source": [
    "accuracy, f1_micro_average, f1_macro_average, hamming_loss_score, precision, recall = scores (y_test, lr_test_predictions_tfidf)   \n",
    "print_scores (accuracy, f1_micro_average, f1_macro_average, hamming_loss_score, precision, recall)"
   ]
  },
  {
   "cell_type": "markdown",
   "id": "9db59992",
   "metadata": {},
   "source": [
    "From the scores, we can see that it managed to get 93.42% on the accuracy, which is considered as the main metric as the dataset is balanced. This is already considered high as the highest accuracy (so far) was 95.47% on a RoBERTa model."
   ]
  },
  {
   "cell_type": "markdown",
   "id": "69dc06ef",
   "metadata": {},
   "source": [
    "### Hyperparameter Tuning\n",
    "We can now start tuning the [`Logistic Regression`](https://scikit-learn.org/stable/modules/generated/sklearn.linear_model.LogisticRegression.html) model by creating an instance of the model. "
   ]
  },
  {
   "cell_type": "code",
   "execution_count": 52,
   "id": "f315c86c",
   "metadata": {},
   "outputs": [],
   "source": [
    "log_reg = LogisticRegression(n_jobs = -1)"
   ]
  },
  {
   "cell_type": "markdown",
   "id": "b50c5a33",
   "metadata": {},
   "source": [
    "With this instance, we can now tune the model."
   ]
  },
  {
   "cell_type": "code",
   "execution_count": 53,
   "id": "f393e82a",
   "metadata": {},
   "outputs": [
    {
     "name": "stdout",
     "output_type": "stream",
     "text": [
      "Tuning LogisticRegression(n_jobs=-1)...\n"
     ]
    }
   ],
   "source": [
    "lr_tuned_model_tfidf, lr_tuned_test_predictions_tfidf = tune_and_train_model (log_reg, lr_hp_space, \n",
    "                                                                              tfidf_train, y_train, \n",
    "                                                                              tfidf_test, y_test,\n",
    "                                                                              'logreg_tuned', 'tfidf')"
   ]
  },
  {
   "cell_type": "markdown",
   "id": "8c571834",
   "metadata": {},
   "source": [
    "From this, we can see that the tuned model has an **inverse of regularization strength of 10, and a maximum iteration value of 300**."
   ]
  },
  {
   "cell_type": "code",
   "execution_count": 54,
   "id": "e5acb9c0",
   "metadata": {},
   "outputs": [
    {
     "data": {
      "text/html": [
       "<style>#sk-container-id-1 {color: black;background-color: white;}#sk-container-id-1 pre{padding: 0;}#sk-container-id-1 div.sk-toggleable {background-color: white;}#sk-container-id-1 label.sk-toggleable__label {cursor: pointer;display: block;width: 100%;margin-bottom: 0;padding: 0.3em;box-sizing: border-box;text-align: center;}#sk-container-id-1 label.sk-toggleable__label-arrow:before {content: \"▸\";float: left;margin-right: 0.25em;color: #696969;}#sk-container-id-1 label.sk-toggleable__label-arrow:hover:before {color: black;}#sk-container-id-1 div.sk-estimator:hover label.sk-toggleable__label-arrow:before {color: black;}#sk-container-id-1 div.sk-toggleable__content {max-height: 0;max-width: 0;overflow: hidden;text-align: left;background-color: #f0f8ff;}#sk-container-id-1 div.sk-toggleable__content pre {margin: 0.2em;color: black;border-radius: 0.25em;background-color: #f0f8ff;}#sk-container-id-1 input.sk-toggleable__control:checked~div.sk-toggleable__content {max-height: 200px;max-width: 100%;overflow: auto;}#sk-container-id-1 input.sk-toggleable__control:checked~label.sk-toggleable__label-arrow:before {content: \"▾\";}#sk-container-id-1 div.sk-estimator input.sk-toggleable__control:checked~label.sk-toggleable__label {background-color: #d4ebff;}#sk-container-id-1 div.sk-label input.sk-toggleable__control:checked~label.sk-toggleable__label {background-color: #d4ebff;}#sk-container-id-1 input.sk-hidden--visually {border: 0;clip: rect(1px 1px 1px 1px);clip: rect(1px, 1px, 1px, 1px);height: 1px;margin: -1px;overflow: hidden;padding: 0;position: absolute;width: 1px;}#sk-container-id-1 div.sk-estimator {font-family: monospace;background-color: #f0f8ff;border: 1px dotted black;border-radius: 0.25em;box-sizing: border-box;margin-bottom: 0.5em;}#sk-container-id-1 div.sk-estimator:hover {background-color: #d4ebff;}#sk-container-id-1 div.sk-parallel-item::after {content: \"\";width: 100%;border-bottom: 1px solid gray;flex-grow: 1;}#sk-container-id-1 div.sk-label:hover label.sk-toggleable__label {background-color: #d4ebff;}#sk-container-id-1 div.sk-serial::before {content: \"\";position: absolute;border-left: 1px solid gray;box-sizing: border-box;top: 0;bottom: 0;left: 50%;z-index: 0;}#sk-container-id-1 div.sk-serial {display: flex;flex-direction: column;align-items: center;background-color: white;padding-right: 0.2em;padding-left: 0.2em;position: relative;}#sk-container-id-1 div.sk-item {position: relative;z-index: 1;}#sk-container-id-1 div.sk-parallel {display: flex;align-items: stretch;justify-content: center;background-color: white;position: relative;}#sk-container-id-1 div.sk-item::before, #sk-container-id-1 div.sk-parallel-item::before {content: \"\";position: absolute;border-left: 1px solid gray;box-sizing: border-box;top: 0;bottom: 0;left: 50%;z-index: -1;}#sk-container-id-1 div.sk-parallel-item {display: flex;flex-direction: column;z-index: 1;position: relative;background-color: white;}#sk-container-id-1 div.sk-parallel-item:first-child::after {align-self: flex-end;width: 50%;}#sk-container-id-1 div.sk-parallel-item:last-child::after {align-self: flex-start;width: 50%;}#sk-container-id-1 div.sk-parallel-item:only-child::after {width: 0;}#sk-container-id-1 div.sk-dashed-wrapped {border: 1px dashed gray;margin: 0 0.4em 0.5em 0.4em;box-sizing: border-box;padding-bottom: 0.4em;background-color: white;}#sk-container-id-1 div.sk-label label {font-family: monospace;font-weight: bold;display: inline-block;line-height: 1.2em;}#sk-container-id-1 div.sk-label-container {text-align: center;}#sk-container-id-1 div.sk-container {/* jupyter's `normalize.less` sets `[hidden] { display: none; }` but bootstrap.min.css set `[hidden] { display: none !important; }` so we also need the `!important` here to be able to override the default hidden behavior on the sphinx rendered scikit-learn.org. See: https://github.com/scikit-learn/scikit-learn/issues/21755 */display: inline-block !important;position: relative;}#sk-container-id-1 div.sk-text-repr-fallback {display: none;}</style><div id=\"sk-container-id-1\" class=\"sk-top-container\"><div class=\"sk-text-repr-fallback\"><pre>LogisticRegression(C=10, max_iter=300, n_jobs=-1)</pre><b>In a Jupyter environment, please rerun this cell to show the HTML representation or trust the notebook. <br />On GitHub, the HTML representation is unable to render, please try loading this page with nbviewer.org.</b></div><div class=\"sk-container\" hidden><div class=\"sk-item\"><div class=\"sk-estimator sk-toggleable\"><input class=\"sk-toggleable__control sk-hidden--visually\" id=\"sk-estimator-id-1\" type=\"checkbox\" checked><label for=\"sk-estimator-id-1\" class=\"sk-toggleable__label sk-toggleable__label-arrow\">LogisticRegression</label><div class=\"sk-toggleable__content\"><pre>LogisticRegression(C=10, max_iter=300, n_jobs=-1)</pre></div></div></div></div></div>"
      ],
      "text/plain": [
       "LogisticRegression(C=10, max_iter=300, n_jobs=-1)"
      ]
     },
     "execution_count": 54,
     "metadata": {},
     "output_type": "execute_result"
    }
   ],
   "source": [
    "lr_tuned_model_tfidf"
   ]
  },
  {
   "cell_type": "markdown",
   "id": "f75ccbbc",
   "metadata": {},
   "source": [
    "Now, let us visualize the [`confusion_matrix`](https://scikit-learn.org/stable/modules/generated/sklearn.metrics.confusion_matrix.html) of the test data through the [`ConfusionMatrixDisplay`](https://scikit-learn.org/stable/modules/generated/sklearn.metrics.ConfusionMatrixDisplay.html)."
   ]
  },
  {
   "cell_type": "code",
   "execution_count": 55,
   "id": "0f041cc2",
   "metadata": {},
   "outputs": [
    {
     "data": {
      "text/plain": [
       "<sklearn.metrics._plot.confusion_matrix.ConfusionMatrixDisplay at 0x26cae881a90>"
      ]
     },
     "execution_count": 55,
     "metadata": {},
     "output_type": "execute_result"
    },
    {
     "data": {
      "image/png": "[encoded data removed]",
      "text/plain": [
       "<Figure size 640x480 with 2 Axes>"
      ]
     },
     "metadata": {},
     "output_type": "display_data"
    }
   ],
   "source": [
    "ConfusionMatrixDisplay(confusion_matrix(y_test, lr_tuned_test_predictions_tfidf)).plot()"
   ]
  },
  {
   "cell_type": "markdown",
   "id": "4ba347ec",
   "metadata": {},
   "source": [
    "In this, we can see that the number of incorrectly labeled samples by the model decreased. It managed to correctly identify 126 more negative samples and 93 more positive samples."
   ]
  },
  {
   "cell_type": "markdown",
   "id": "a8cfb9ad",
   "metadata": {},
   "source": [
    "### Evaluation\n",
    "Now, let us evaluate the performance of the model on the test set by computing its scores on the metrics. "
   ]
  },
  {
   "cell_type": "code",
   "execution_count": 56,
   "id": "8ae7669c",
   "metadata": {},
   "outputs": [
    {
     "name": "stdout",
     "output_type": "stream",
     "text": [
      "Accuracy:  93.87801453584407 %\n",
      "F1 Macro Average:  93.87744040100698 %\n",
      "F1 Micro Average:  93.87801453584407 %\n",
      "Hamming Loss:  6.12198546415593 %\n",
      "Precision:  93.87801453584407 %\n",
      "Recall:  93.87801453584407 %\n"
     ]
    }
   ],
   "source": [
    "accuracy, f1_micro_average, f1_macro_average, hamming_loss_score, precision, recall = scores (y_test, lr_tuned_test_predictions_tfidf)    \n",
    "\n",
    "temp_scores = {\n",
    "    'Model' : 'Logistic Regression',\n",
    "    'Vectorizer' : 'TF-IDF Vectorizer',\n",
    "    'Accuracy' : accuracy,\n",
    "    'F1 Micro Average' : f1_micro_average,\n",
    "    'F1 Macro Average' : f1_macro_average,\n",
    "    'Hamming Loss' : hamming_loss_score, \n",
    "    'Precision' : precision,\n",
    "    'Recall' : recall\n",
    "}  \n",
    "\n",
    "scores_list.append(temp_scores)\n",
    "\n",
    "print_scores (accuracy, f1_micro_average, f1_macro_average, hamming_loss_score, precision, recall)"
   ]
  },
  {
   "cell_type": "markdown",
   "id": "ee5fe9b6",
   "metadata": {},
   "source": [
    "From these scores, we can see that the accuracy score of the [`Logistic Regression`](https://scikit-learn.org/stable/modules/generated/sklearn.linear_model.LogisticRegression.html) trained on [`TF-IDF Vectorizer`](https://scikit-learn.org/stable/modules/generated/sklearn.feature_extraction.text.TfidfVectorizer.html) has increased by 0.45%."
   ]
  },
  {
   "cell_type": "markdown",
   "id": "aca8a21f",
   "metadata": {},
   "source": [
    "### Feature Importance\n",
    "\n",
    "To determine which words our model uses more in predicting, let us determine the importance of each of the feature (word)."
   ]
  },
  {
   "cell_type": "code",
   "execution_count": null,
   "id": "e889ae5f",
   "metadata": {},
   "outputs": [],
   "source": [
    "eli5.show_weights(estimator=lr_tuned_model_tfidf, \n",
    "                  feature_names= list(tfidf_vectorizer.get_feature_names()),\n",
    "                  top=(50, 5))"
   ]
  },
  {
   "cell_type": "markdown",
   "id": "e66dc533",
   "metadata": {},
   "source": [
    "## Logistic Regression (Count Vectorizer)\n",
    "Now, let us move on with the training and tuning of a  [`Logistic Regression`](https://scikit-learn.org/stable/modules/generated/sklearn.linear_model.LogisticRegression.html) model on a document-term matrix generated by a [`Count Vectorizer`](https://scikit-learn.org/stable/modules/generated/sklearn.feature_extraction.text.CountVectorizer.html)."
   ]
  },
  {
   "cell_type": "markdown",
   "id": "2ca81a8f",
   "metadata": {},
   "source": [
    "### Model Training \n",
    "To start with the model training, we will need to define an instance of a [`Logistic Regression`](https://scikit-learn.org/stable/modules/generated/sklearn.linear_model.LogisticRegression.html) model like we have done previously."
   ]
  },
  {
   "cell_type": "code",
   "execution_count": 57,
   "id": "885a09dd",
   "metadata": {},
   "outputs": [],
   "source": [
    "log_reg = LogisticRegression(n_jobs = -1)"
   ]
  },
  {
   "cell_type": "markdown",
   "id": "efd5a2e0",
   "metadata": {},
   "source": [
    "Then, we can continue with the model training. "
   ]
  },
  {
   "cell_type": "code",
   "execution_count": 58,
   "id": "8dcf87b9",
   "metadata": {},
   "outputs": [
    {
     "name": "stdout",
     "output_type": "stream",
     "text": [
      "Accuracy:  93.36812824409968 %\n",
      "F1 Macro Average:  93.36395952062337 %\n",
      "F1 Micro Average:  93.36812824409968 %\n",
      "Hamming Loss:  6.631871755900318 %\n",
      "Precision:  93.36812824409968 %\n",
      "Recall:  93.36812824409968 %\n"
     ]
    }
   ],
   "source": [
    "log_reg_count, lr_test_predictions_count = train_model (log_reg, \n",
    "                                                        count_train, y_train, \n",
    "                                                        count_test, y_test, \n",
    "                                                        'logreg', 'count')"
   ]
  },
  {
   "cell_type": "markdown",
   "id": "de6c2ae1",
   "metadata": {},
   "source": [
    "Like we have previously done, a [`ConfusionMatrixDisplay`](https://scikit-learn.org/stable/modules/generated/sklearn.metrics.ConfusionMatrixDisplay.html) will be created to visualize the [`confusion_matrix`](https://scikit-learn.org/stable/modules/generated/sklearn.metrics.confusion_matrix.html) of the test data."
   ]
  },
  {
   "cell_type": "code",
   "execution_count": 59,
   "id": "dc3ae8b9",
   "metadata": {},
   "outputs": [
    {
     "data": {
      "text/plain": [
       "<sklearn.metrics._plot.confusion_matrix.ConfusionMatrixDisplay at 0x26caf2abe50>"
      ]
     },
     "execution_count": 59,
     "metadata": {},
     "output_type": "execute_result"
    },
    {
     "data": {
      "image/png": "[encoded data removed]",
      "text/plain": [
       "<Figure size 640x480 with 2 Axes>"
      ]
     },
     "metadata": {},
     "output_type": "display_data"
    }
   ],
   "source": [
    "ConfusionMatrixDisplay(confusion_matrix(y_test, lr_test_predictions_count)).plot()"
   ]
  },
  {
   "cell_type": "markdown",
   "id": "aaf4f23c",
   "metadata": {},
   "source": [
    "From this display, we can see that the model was incorrect in identifying 4.85% of the negative labels, and 9.97% of the positive label. To see the effect of these incorrectly taggeed samples in the metrics, let us compute the score of the model."
   ]
  },
  {
   "cell_type": "code",
   "execution_count": 60,
   "id": "84a9a160",
   "metadata": {},
   "outputs": [
    {
     "name": "stdout",
     "output_type": "stream",
     "text": [
      "Accuracy:  92.59167492566898 %\n",
      "F1 Macro Average:  92.58626753695228 %\n",
      "F1 Micro Average:  92.59167492566898 %\n",
      "Hamming Loss:  7.408325074331021 %\n",
      "Precision:  92.59167492566898 %\n",
      "Recall:  92.59167492566898 %\n"
     ]
    }
   ],
   "source": [
    "accuracy, f1_micro_average, f1_macro_average, hamming_loss_score, precision, recall = scores (y_test, lr_test_predictions_count)   \n",
    "print_scores (accuracy, f1_micro_average, f1_macro_average, hamming_loss_score, precision, recall)"
   ]
  },
  {
   "cell_type": "markdown",
   "id": "ca79fc5a",
   "metadata": {},
   "source": [
    "In these scores, we can see that the model received 92.59% score in accuracy, which is still considered high (as it was able to reach 90%). However, the first  [`Logistic Regression`](https://scikit-learn.org/stable/modules/generated/sklearn.linear_model.LogisticRegression.html) model still received higher scores. "
   ]
  },
  {
   "cell_type": "markdown",
   "id": "48ee10a3",
   "metadata": {},
   "source": [
    "### Hyperparameter Tuning\n",
    "Now, we can continue to tuning the model. To begin with, an instance of [`Logistic Regression`](https://scikit-learn.org/stable/modules/generated/sklearn.linear_model.LogisticRegression.html) will be generated."
   ]
  },
  {
   "cell_type": "code",
   "execution_count": 61,
   "id": "1934b99c",
   "metadata": {},
   "outputs": [],
   "source": [
    "log_reg = LogisticRegression(n_jobs = -1)"
   ]
  },
  {
   "cell_type": "markdown",
   "id": "8503d578",
   "metadata": {},
   "source": [
    "As we have already defined an instance of the model that we will be using as the base model, we can move on to tuning this model."
   ]
  },
  {
   "cell_type": "code",
   "execution_count": 62,
   "id": "dcae26a8",
   "metadata": {},
   "outputs": [
    {
     "name": "stdout",
     "output_type": "stream",
     "text": [
      "Tuning LogisticRegression(n_jobs=-1)...\n"
     ]
    }
   ],
   "source": [
    "lr_tuned_model_count, lr_tuned_test_predictions_count = tune_and_train_model (log_reg, lr_hp_space, \n",
    "                                                                              count_train, y_train, \n",
    "                                                                              count_test, y_test,\n",
    "                                                                              'logreg_tuned', 'count')"
   ]
  },
  {
   "cell_type": "markdown",
   "id": "223e8540",
   "metadata": {},
   "source": [
    "As a result of tuning process, the identified best values of the hyperparameters for this model was an **inverse of regularization strength of 1, and a maximum iteration value of 1100**."
   ]
  },
  {
   "cell_type": "code",
   "execution_count": 63,
   "id": "e0cb55e9",
   "metadata": {},
   "outputs": [
    {
     "data": {
      "text/html": [
       "<style>#sk-container-id-2 {color: black;background-color: white;}#sk-container-id-2 pre{padding: 0;}#sk-container-id-2 div.sk-toggleable {background-color: white;}#sk-container-id-2 label.sk-toggleable__label {cursor: pointer;display: block;width: 100%;margin-bottom: 0;padding: 0.3em;box-sizing: border-box;text-align: center;}#sk-container-id-2 label.sk-toggleable__label-arrow:before {content: \"▸\";float: left;margin-right: 0.25em;color: #696969;}#sk-container-id-2 label.sk-toggleable__label-arrow:hover:before {color: black;}#sk-container-id-2 div.sk-estimator:hover label.sk-toggleable__label-arrow:before {color: black;}#sk-container-id-2 div.sk-toggleable__content {max-height: 0;max-width: 0;overflow: hidden;text-align: left;background-color: #f0f8ff;}#sk-container-id-2 div.sk-toggleable__content pre {margin: 0.2em;color: black;border-radius: 0.25em;background-color: #f0f8ff;}#sk-container-id-2 input.sk-toggleable__control:checked~div.sk-toggleable__content {max-height: 200px;max-width: 100%;overflow: auto;}#sk-container-id-2 input.sk-toggleable__control:checked~label.sk-toggleable__label-arrow:before {content: \"▾\";}#sk-container-id-2 div.sk-estimator input.sk-toggleable__control:checked~label.sk-toggleable__label {background-color: #d4ebff;}#sk-container-id-2 div.sk-label input.sk-toggleable__control:checked~label.sk-toggleable__label {background-color: #d4ebff;}#sk-container-id-2 input.sk-hidden--visually {border: 0;clip: rect(1px 1px 1px 1px);clip: rect(1px, 1px, 1px, 1px);height: 1px;margin: -1px;overflow: hidden;padding: 0;position: absolute;width: 1px;}#sk-container-id-2 div.sk-estimator {font-family: monospace;background-color: #f0f8ff;border: 1px dotted black;border-radius: 0.25em;box-sizing: border-box;margin-bottom: 0.5em;}#sk-container-id-2 div.sk-estimator:hover {background-color: #d4ebff;}#sk-container-id-2 div.sk-parallel-item::after {content: \"\";width: 100%;border-bottom: 1px solid gray;flex-grow: 1;}#sk-container-id-2 div.sk-label:hover label.sk-toggleable__label {background-color: #d4ebff;}#sk-container-id-2 div.sk-serial::before {content: \"\";position: absolute;border-left: 1px solid gray;box-sizing: border-box;top: 0;bottom: 0;left: 50%;z-index: 0;}#sk-container-id-2 div.sk-serial {display: flex;flex-direction: column;align-items: center;background-color: white;padding-right: 0.2em;padding-left: 0.2em;position: relative;}#sk-container-id-2 div.sk-item {position: relative;z-index: 1;}#sk-container-id-2 div.sk-parallel {display: flex;align-items: stretch;justify-content: center;background-color: white;position: relative;}#sk-container-id-2 div.sk-item::before, #sk-container-id-2 div.sk-parallel-item::before {content: \"\";position: absolute;border-left: 1px solid gray;box-sizing: border-box;top: 0;bottom: 0;left: 50%;z-index: -1;}#sk-container-id-2 div.sk-parallel-item {display: flex;flex-direction: column;z-index: 1;position: relative;background-color: white;}#sk-container-id-2 div.sk-parallel-item:first-child::after {align-self: flex-end;width: 50%;}#sk-container-id-2 div.sk-parallel-item:last-child::after {align-self: flex-start;width: 50%;}#sk-container-id-2 div.sk-parallel-item:only-child::after {width: 0;}#sk-container-id-2 div.sk-dashed-wrapped {border: 1px dashed gray;margin: 0 0.4em 0.5em 0.4em;box-sizing: border-box;padding-bottom: 0.4em;background-color: white;}#sk-container-id-2 div.sk-label label {font-family: monospace;font-weight: bold;display: inline-block;line-height: 1.2em;}#sk-container-id-2 div.sk-label-container {text-align: center;}#sk-container-id-2 div.sk-container {/* jupyter's `normalize.less` sets `[hidden] { display: none; }` but bootstrap.min.css set `[hidden] { display: none !important; }` so we also need the `!important` here to be able to override the default hidden behavior on the sphinx rendered scikit-learn.org. See: https://github.com/scikit-learn/scikit-learn/issues/21755 */display: inline-block !important;position: relative;}#sk-container-id-2 div.sk-text-repr-fallback {display: none;}</style><div id=\"sk-container-id-2\" class=\"sk-top-container\"><div class=\"sk-text-repr-fallback\"><pre>LogisticRegression(C=1, max_iter=1100, n_jobs=-1)</pre><b>In a Jupyter environment, please rerun this cell to show the HTML representation or trust the notebook. <br />On GitHub, the HTML representation is unable to render, please try loading this page with nbviewer.org.</b></div><div class=\"sk-container\" hidden><div class=\"sk-item\"><div class=\"sk-estimator sk-toggleable\"><input class=\"sk-toggleable__control sk-hidden--visually\" id=\"sk-estimator-id-2\" type=\"checkbox\" checked><label for=\"sk-estimator-id-2\" class=\"sk-toggleable__label sk-toggleable__label-arrow\">LogisticRegression</label><div class=\"sk-toggleable__content\"><pre>LogisticRegression(C=1, max_iter=1100, n_jobs=-1)</pre></div></div></div></div></div>"
      ],
      "text/plain": [
       "LogisticRegression(C=1, max_iter=1100, n_jobs=-1)"
      ]
     },
     "execution_count": 63,
     "metadata": {},
     "output_type": "execute_result"
    }
   ],
   "source": [
    "lr_tuned_model_count"
   ]
  },
  {
   "cell_type": "markdown",
   "id": "1d768738",
   "metadata": {},
   "source": [
    "To determine if there are more false positives or more false negatives in the predictions, we will be utilizing the [`ConfusionMatrixDisplay`](https://scikit-learn.org/stable/modules/generated/sklearn.metrics.ConfusionMatrixDisplay.html) to create a visualization for the [`confusion_matrix`](https://scikit-learn.org/stable/modules/generated/sklearn.metrics.confusion_matrix.html) of the test set. "
   ]
  },
  {
   "cell_type": "code",
   "execution_count": 64,
   "id": "8571c8bd",
   "metadata": {},
   "outputs": [
    {
     "data": {
      "text/plain": [
       "<sklearn.metrics._plot.confusion_matrix.ConfusionMatrixDisplay at 0x26caf2ec4c0>"
      ]
     },
     "execution_count": 64,
     "metadata": {},
     "output_type": "execute_result"
    },
    {
     "data": {
      "image/png": "[encoded data removed]",
      "text/plain": [
       "<Figure size 640x480 with 2 Axes>"
      ]
     },
     "metadata": {},
     "output_type": "display_data"
    }
   ],
   "source": [
    "ConfusionMatrixDisplay(confusion_matrix(y_test, lr_tuned_test_predictions_count)).plot()"
   ]
  },
  {
   "cell_type": "markdown",
   "id": "2b52589c",
   "metadata": {},
   "source": [
    "In this resulting visualization, we can see that there are more incorrectly tagged as negative compared to the number of samples that are tagged as positive even though they are actually negative samples."
   ]
  },
  {
   "cell_type": "markdown",
   "id": "0fca6a24",
   "metadata": {},
   "source": [
    "### Evaluation\n",
    "\n",
    "Now, let us evaluate the performance of the model on the test set by computing the scores using the metrics. "
   ]
  },
  {
   "cell_type": "code",
   "execution_count": 65,
   "id": "e6228b74",
   "metadata": {},
   "outputs": [
    {
     "name": "stdout",
     "output_type": "stream",
     "text": [
      "Accuracy:  93.00256029071689 %\n",
      "F1 Macro Average:  92.99784359831027 %\n",
      "F1 Micro Average:  93.00256029071689 %\n",
      "Hamming Loss:  6.997439709283118 %\n",
      "Precision:  93.00256029071689 %\n",
      "Recall:  93.00256029071689 %\n"
     ]
    }
   ],
   "source": [
    "accuracy, f1_micro_average, f1_macro_average, hamming_loss_score, precision, recall = scores (y_test, lr_tuned_test_predictions_count)    \n",
    "\n",
    "temp_scores = {\n",
    "    'Model' : 'Logistic Regression',\n",
    "    'Vectorizer' : 'Count Vectorizer',\n",
    "    'Accuracy' : accuracy,\n",
    "    'F1 Micro Average' : f1_micro_average,\n",
    "    'F1 Macro Average' : f1_macro_average,\n",
    "    'Hamming Loss' : hamming_loss_score,\n",
    "    'Precision' : precision,\n",
    "    'Recall' : recall\n",
    "}  \n",
    "\n",
    "scores_list.append(temp_scores)\n",
    "\n",
    "print_scores (accuracy, f1_micro_average, f1_macro_average, hamming_loss_score, precision, recall)"
   ]
  },
  {
   "cell_type": "markdown",
   "id": "98908226",
   "metadata": {},
   "source": [
    "Comparing the tuned model with the base [`Logistic Regression`](https://scikit-learn.org/stable/modules/generated/sklearn.linear_model.LogisticRegression.html) model, we can see that the tuning process helped improve the model's accuracy by 0.41%."
   ]
  },
  {
   "cell_type": "markdown",
   "id": "1a6983b9",
   "metadata": {},
   "source": [
    "### Feature Importance\n",
    "Like in the previous model, we can move on with determining which words have more weights in labeling the samples as positive or negative. "
   ]
  },
  {
   "cell_type": "code",
   "execution_count": null,
   "id": "79493480",
   "metadata": {},
   "outputs": [],
   "source": [
    "eli5.show_weights(estimator=lr_tuned_model_count, \n",
    "                  feature_names= list(count_vectorizer.get_feature_names()),\n",
    "                  top=(50,5))"
   ]
  },
  {
   "cell_type": "markdown",
   "id": "2979bfad",
   "metadata": {},
   "source": [
    "## Multinomial Naive Bayes (TF-IDF Vectorizer)\n",
    "The third model that we will be training is a [`Multinomial Naive Bayes`](https://scikit-learn.org/stable/modules/generated/sklearn.naive_bayes.MultinomialNB.html) model that utilized a document-term matrix generated by a [`TF-IDF Vectorizer`](https://scikit-learn.org/stable/modules/generated/sklearn.feature_extraction.text.TfidfVectorizer.html)."
   ]
  },
  {
   "cell_type": "markdown",
   "id": "0606c404",
   "metadata": {},
   "source": [
    "### Model Training \n",
    "As our first step, we will first need to define a [`Multinomial Naive Bayes`](https://scikit-learn.org/stable/modules/generated/sklearn.naive_bayes.MultinomialNB.html) object."
   ]
  },
  {
   "cell_type": "code",
   "execution_count": 66,
   "id": "aa9e7f32",
   "metadata": {},
   "outputs": [],
   "source": [
    "multinomial_nb = MultinomialNB ()"
   ]
  },
  {
   "cell_type": "markdown",
   "id": "87165a24",
   "metadata": {},
   "source": [
    "We pass the [`Multinomial Naive Bayes`](https://scikit-learn.org/stable/modules/generated/sklearn.naive_bayes.MultinomialNB.html) object that we have instantiated to the function we have created to train."
   ]
  },
  {
   "cell_type": "code",
   "execution_count": 67,
   "id": "3820d796",
   "metadata": {},
   "outputs": [
    {
     "name": "stdout",
     "output_type": "stream",
     "text": [
      "Accuracy:  89.18700352728628 %\n",
      "F1 Macro Average:  89.10844125480095 %\n",
      "F1 Micro Average:  89.18700352728628 %\n",
      "Hamming Loss:  10.812996472713717 %\n",
      "Precision:  89.18700352728628 %\n",
      "Recall:  89.18700352728628 %\n"
     ]
    }
   ],
   "source": [
    "mnb_tfidf, mnb_test_predictions_tfidf = train_model (multinomial_nb, \n",
    "                                                     tfidf_train, y_train, \n",
    "                                                     tfidf_test, y_test, \n",
    "                                                     'mnb', 'tfidf')"
   ]
  },
  {
   "cell_type": "markdown",
   "id": "3368db82",
   "metadata": {},
   "source": [
    "Using the predictions that the training function created, let us generate a [`confusion_matrix`](https://scikit-learn.org/stable/modules/generated/sklearn.metrics.confusion_matrix.html) and display it using [`ConfusionMatrixDisplay`](https://scikit-learn.org/stable/modules/generated/sklearn.metrics.ConfusionMatrixDisplay.html)."
   ]
  },
  {
   "cell_type": "code",
   "execution_count": 68,
   "id": "27d3cac9",
   "metadata": {},
   "outputs": [
    {
     "data": {
      "text/plain": [
       "<sklearn.metrics._plot.confusion_matrix.ConfusionMatrixDisplay at 0x26cb3291d60>"
      ]
     },
     "execution_count": 68,
     "metadata": {},
     "output_type": "execute_result"
    },
    {
     "data": {
      "image/png": "[encoded data removed]",
      "text/plain": [
       "<Figure size 640x480 with 2 Axes>"
      ]
     },
     "metadata": {},
     "output_type": "display_data"
    }
   ],
   "source": [
    "ConfusionMatrixDisplay(confusion_matrix(y_test, mnb_test_predictions_tfidf)).plot()"
   ]
  },
  {
   "cell_type": "markdown",
   "id": "a2f4b344",
   "metadata": {},
   "source": [
    "We will also be using the test predictions to put a number on the performance of the model by computing its scores on the metrics."
   ]
  },
  {
   "cell_type": "code",
   "execution_count": 69,
   "id": "8f3cca8e",
   "metadata": {},
   "outputs": [
    {
     "name": "stdout",
     "output_type": "stream",
     "text": [
      "Accuracy:  87.86339610175091 %\n",
      "F1 Macro Average:  87.75184710358761 %\n",
      "F1 Micro Average:  87.86339610175091 %\n",
      "Hamming Loss:  12.136603898249092 %\n",
      "Precision:  87.86339610175091 %\n",
      "Recall:  87.86339610175091 %\n"
     ]
    }
   ],
   "source": [
    "accuracy, f1_micro_average, f1_macro_average, hamming_loss_score, precision, recall = scores (y_test, mnb_test_predictions_tfidf)   \n",
    "print_scores (accuracy, f1_micro_average, f1_macro_average, hamming_loss_score, precision, recall)"
   ]
  },
  {
   "cell_type": "markdown",
   "id": "610a95ff",
   "metadata": {},
   "source": [
    "Using these results, we can see that it managed to score 87.86% as its accuracy. This is lower than the accuracy scores that previous models received. "
   ]
  },
  {
   "cell_type": "markdown",
   "id": "94c42f74",
   "metadata": {},
   "source": [
    "### Hyperparameter Tuning\n",
    "Like in the previous models, to start the tuning of the model, we will also need to create an instance of the [`Multinomial Naive Bayes`](https://scikit-learn.org/stable/modules/generated/sklearn.naive_bayes.MultinomialNB.html) model."
   ]
  },
  {
   "cell_type": "code",
   "execution_count": 70,
   "id": "48582354",
   "metadata": {},
   "outputs": [],
   "source": [
    "multinomial_nb = MultinomialNB ()"
   ]
  },
  {
   "cell_type": "markdown",
   "id": "88a59487",
   "metadata": {},
   "source": [
    "Afterwards, we will also pass this instance to the training and tuning function that we have previously created."
   ]
  },
  {
   "cell_type": "code",
   "execution_count": 71,
   "id": "cf67935e",
   "metadata": {},
   "outputs": [
    {
     "name": "stdout",
     "output_type": "stream",
     "text": [
      "Tuning MultinomialNB()...\n"
     ]
    }
   ],
   "source": [
    "mnb_tuned_model_tfidf, mnb_tuned_test_predictions_tfidf = tune_and_train_model (multinomial_nb, mnb_hp_space, \n",
    "                                                                                tfidf_train, y_train, \n",
    "                                                                                tfidf_test, y_test,\n",
    "                                                                                'mnb_tuned', 'tfidf')"
   ]
  },
  {
   "cell_type": "markdown",
   "id": "adb8ff00",
   "metadata": {},
   "source": [
    "From the tuning, we received a tuned model with the hyperparameter values: (1) **0.1 as its alpha**, and (2) **True as its fit_prior** (the default value for this hyperparmeter)."
   ]
  },
  {
   "cell_type": "code",
   "execution_count": 72,
   "id": "ba36005d",
   "metadata": {},
   "outputs": [
    {
     "data": {
      "text/html": [
       "<style>#sk-container-id-3 {color: black;background-color: white;}#sk-container-id-3 pre{padding: 0;}#sk-container-id-3 div.sk-toggleable {background-color: white;}#sk-container-id-3 label.sk-toggleable__label {cursor: pointer;display: block;width: 100%;margin-bottom: 0;padding: 0.3em;box-sizing: border-box;text-align: center;}#sk-container-id-3 label.sk-toggleable__label-arrow:before {content: \"▸\";float: left;margin-right: 0.25em;color: #696969;}#sk-container-id-3 label.sk-toggleable__label-arrow:hover:before {color: black;}#sk-container-id-3 div.sk-estimator:hover label.sk-toggleable__label-arrow:before {color: black;}#sk-container-id-3 div.sk-toggleable__content {max-height: 0;max-width: 0;overflow: hidden;text-align: left;background-color: #f0f8ff;}#sk-container-id-3 div.sk-toggleable__content pre {margin: 0.2em;color: black;border-radius: 0.25em;background-color: #f0f8ff;}#sk-container-id-3 input.sk-toggleable__control:checked~div.sk-toggleable__content {max-height: 200px;max-width: 100%;overflow: auto;}#sk-container-id-3 input.sk-toggleable__control:checked~label.sk-toggleable__label-arrow:before {content: \"▾\";}#sk-container-id-3 div.sk-estimator input.sk-toggleable__control:checked~label.sk-toggleable__label {background-color: #d4ebff;}#sk-container-id-3 div.sk-label input.sk-toggleable__control:checked~label.sk-toggleable__label {background-color: #d4ebff;}#sk-container-id-3 input.sk-hidden--visually {border: 0;clip: rect(1px 1px 1px 1px);clip: rect(1px, 1px, 1px, 1px);height: 1px;margin: -1px;overflow: hidden;padding: 0;position: absolute;width: 1px;}#sk-container-id-3 div.sk-estimator {font-family: monospace;background-color: #f0f8ff;border: 1px dotted black;border-radius: 0.25em;box-sizing: border-box;margin-bottom: 0.5em;}#sk-container-id-3 div.sk-estimator:hover {background-color: #d4ebff;}#sk-container-id-3 div.sk-parallel-item::after {content: \"\";width: 100%;border-bottom: 1px solid gray;flex-grow: 1;}#sk-container-id-3 div.sk-label:hover label.sk-toggleable__label {background-color: #d4ebff;}#sk-container-id-3 div.sk-serial::before {content: \"\";position: absolute;border-left: 1px solid gray;box-sizing: border-box;top: 0;bottom: 0;left: 50%;z-index: 0;}#sk-container-id-3 div.sk-serial {display: flex;flex-direction: column;align-items: center;background-color: white;padding-right: 0.2em;padding-left: 0.2em;position: relative;}#sk-container-id-3 div.sk-item {position: relative;z-index: 1;}#sk-container-id-3 div.sk-parallel {display: flex;align-items: stretch;justify-content: center;background-color: white;position: relative;}#sk-container-id-3 div.sk-item::before, #sk-container-id-3 div.sk-parallel-item::before {content: \"\";position: absolute;border-left: 1px solid gray;box-sizing: border-box;top: 0;bottom: 0;left: 50%;z-index: -1;}#sk-container-id-3 div.sk-parallel-item {display: flex;flex-direction: column;z-index: 1;position: relative;background-color: white;}#sk-container-id-3 div.sk-parallel-item:first-child::after {align-self: flex-end;width: 50%;}#sk-container-id-3 div.sk-parallel-item:last-child::after {align-self: flex-start;width: 50%;}#sk-container-id-3 div.sk-parallel-item:only-child::after {width: 0;}#sk-container-id-3 div.sk-dashed-wrapped {border: 1px dashed gray;margin: 0 0.4em 0.5em 0.4em;box-sizing: border-box;padding-bottom: 0.4em;background-color: white;}#sk-container-id-3 div.sk-label label {font-family: monospace;font-weight: bold;display: inline-block;line-height: 1.2em;}#sk-container-id-3 div.sk-label-container {text-align: center;}#sk-container-id-3 div.sk-container {/* jupyter's `normalize.less` sets `[hidden] { display: none; }` but bootstrap.min.css set `[hidden] { display: none !important; }` so we also need the `!important` here to be able to override the default hidden behavior on the sphinx rendered scikit-learn.org. See: https://github.com/scikit-learn/scikit-learn/issues/21755 */display: inline-block !important;position: relative;}#sk-container-id-3 div.sk-text-repr-fallback {display: none;}</style><div id=\"sk-container-id-3\" class=\"sk-top-container\"><div class=\"sk-text-repr-fallback\"><pre>MultinomialNB(alpha=0.1)</pre><b>In a Jupyter environment, please rerun this cell to show the HTML representation or trust the notebook. <br />On GitHub, the HTML representation is unable to render, please try loading this page with nbviewer.org.</b></div><div class=\"sk-container\" hidden><div class=\"sk-item\"><div class=\"sk-estimator sk-toggleable\"><input class=\"sk-toggleable__control sk-hidden--visually\" id=\"sk-estimator-id-3\" type=\"checkbox\" checked><label for=\"sk-estimator-id-3\" class=\"sk-toggleable__label sk-toggleable__label-arrow\">MultinomialNB</label><div class=\"sk-toggleable__content\"><pre>MultinomialNB(alpha=0.1)</pre></div></div></div></div></div>"
      ],
      "text/plain": [
       "MultinomialNB(alpha=0.1)"
      ]
     },
     "execution_count": 72,
     "metadata": {},
     "output_type": "execute_result"
    }
   ],
   "source": [
    "mnb_tuned_model_tfidf"
   ]
  },
  {
   "cell_type": "markdown",
   "id": "508c46c5",
   "metadata": {},
   "source": [
    "Using the predictions of the tuned model, we will be using the [`ConfusionMatrixDisplay`](https://scikit-learn.org/stable/modules/generated/sklearn.metrics.ConfusionMatrixDisplay.html) to show the  [`confusion_matrix`](https://scikit-learn.org/stable/modules/generated/sklearn.metrics.confusion_matrix.html)."
   ]
  },
  {
   "cell_type": "code",
   "execution_count": 73,
   "id": "63957275",
   "metadata": {},
   "outputs": [
    {
     "data": {
      "text/plain": [
       "<sklearn.metrics._plot.confusion_matrix.ConfusionMatrixDisplay at 0x26cb3291e20>"
      ]
     },
     "execution_count": 73,
     "metadata": {},
     "output_type": "execute_result"
    },
    {
     "data": {
      "image/png": "[encoded data removed]",
      "text/plain": [
       "<Figure size 640x480 with 2 Axes>"
      ]
     },
     "metadata": {},
     "output_type": "display_data"
    }
   ],
   "source": [
    "ConfusionMatrixDisplay(confusion_matrix(y_test, mnb_tuned_test_predictions_tfidf)).plot()"
   ]
  },
  {
   "cell_type": "markdown",
   "id": "f16322df",
   "metadata": {},
   "source": [
    "Surprisingly, we can see that the model was able to predict more negative instances than the previous models (i.e., it predicted less number of false negatives). However, it recorded the highest number of false positives, as seen in the upper-right cell."
   ]
  },
  {
   "cell_type": "markdown",
   "id": "3db633e9",
   "metadata": {},
   "source": [
    "### Evaluation\n",
    "We can now move on to evaluating the performance of the model on the metrics. "
   ]
  },
  {
   "cell_type": "code",
   "execution_count": 74,
   "id": "9f6f68bd",
   "metadata": {},
   "outputs": [
    {
     "name": "stdout",
     "output_type": "stream",
     "text": [
      "Accuracy:  90.48975883713247 %\n",
      "F1 Macro Average:  90.46176057508933 %\n",
      "F1 Micro Average:  90.48975883713247 %\n",
      "Hamming Loss:  9.510241162867526 %\n",
      "Precision:  90.48975883713247 %\n",
      "Recall:  90.48975883713247 %\n"
     ]
    }
   ],
   "source": [
    "accuracy, f1_micro_average, f1_macro_average, hamming_loss_score, precision, recall = scores (y_test, mnb_tuned_test_predictions_tfidf)    \n",
    "\n",
    "temp_scores = {\n",
    "    'Model' : 'Multinomial Naive Bayes',\n",
    "    'Vectorizer' : 'TF-IDF Vectorizer',\n",
    "    'Accuracy' : accuracy,\n",
    "    'F1 Micro Average' : f1_micro_average,\n",
    "    'F1 Macro Average' : f1_macro_average,\n",
    "    'Hamming Loss' : hamming_loss_score,\n",
    "    'Precision' : precision,\n",
    "    'Recall' : recall\n",
    "}  \n",
    "\n",
    "scores_list.append(temp_scores)\n",
    "\n",
    "print_scores (accuracy, f1_micro_average, f1_macro_average, hamming_loss_score, precision, recall)"
   ]
  },
  {
   "cell_type": "markdown",
   "id": "82de1b1d",
   "metadata": {},
   "source": [
    "From the results of predicting on the test set using the tuned model, it can be seen that the performance on the accuracy metric of the [`Multinomial Naive Bayes`](https://scikit-learn.org/stable/modules/generated/sklearn.naive_bayes.MultinomialNB.html) model improved by 2.62%."
   ]
  },
  {
   "cell_type": "markdown",
   "id": "92832a95",
   "metadata": {},
   "source": [
    "### Feature Importance\n",
    "Now, let us also see which words were important for the model in classifying the instances. "
   ]
  },
  {
   "cell_type": "code",
   "execution_count": null,
   "id": "1d95bd24",
   "metadata": {},
   "outputs": [],
   "source": []
  },
  {
   "cell_type": "markdown",
   "id": "ad0bb731",
   "metadata": {},
   "source": [
    "## Multinomial Naive Bayes (Count Vectorizer)\n",
    "Next, we will be using the document-term matrix produced by a [`Count Vectorizer`](https://scikit-learn.org/stable/modules/generated/sklearn.feature_extraction.text.CountVectorizer.html) to train a [`Multinomial Naive Bayes`](https://scikit-learn.org/stable/modules/generated/sklearn.naive_bayes.MultinomialNB.html) model."
   ]
  },
  {
   "cell_type": "markdown",
   "id": "8d253b30",
   "metadata": {},
   "source": [
    "### Model Training \n",
    "As done previously, we will start by creating an instance of [`Multinomial Naive Bayes`](https://scikit-learn.org/stable/modules/generated/sklearn.naive_bayes.MultinomialNB.html) class."
   ]
  },
  {
   "cell_type": "code",
   "execution_count": 75,
   "id": "74dab77d",
   "metadata": {},
   "outputs": [],
   "source": [
    "multinomial_nb = MultinomialNB ()"
   ]
  },
  {
   "cell_type": "markdown",
   "id": "87a1fc07",
   "metadata": {},
   "source": [
    "With this, we can proceed with training the model."
   ]
  },
  {
   "cell_type": "code",
   "execution_count": 76,
   "id": "fcc9a1d7",
   "metadata": {},
   "outputs": [
    {
     "name": "stdout",
     "output_type": "stream",
     "text": [
      "Accuracy:  90.44879699463738 %\n",
      "F1 Macro Average:  90.41821611172453 %\n",
      "F1 Micro Average:  90.44879699463738 %\n",
      "Hamming Loss:  9.551203005362623 %\n",
      "Precision:  90.44879699463738 %\n",
      "Recall:  90.44879699463738 %\n"
     ]
    }
   ],
   "source": [
    "mnb_count, mnb_test_predictions_count = train_model (multinomial_nb, \n",
    "                                                     count_train, y_train, \n",
    "                                                     count_test, y_test, \n",
    "                                                     'mnb', 'count')"
   ]
  },
  {
   "cell_type": "markdown",
   "id": "1eb9a16e",
   "metadata": {},
   "source": [
    "To determine if there are more false positives or false negatives in our predictions, we will be generating the [`confusion_matrix`](https://scikit-learn.org/stable/modules/generated/sklearn.metrics.confusion_matrix.html) of the predictions, and then using [`ConfusionMatrixDisplay`](https://scikit-learn.org/stable/modules/generated/sklearn.metrics.ConfusionMatrixDisplay.html) for visualization."
   ]
  },
  {
   "cell_type": "code",
   "execution_count": 77,
   "id": "5d5ce3cf",
   "metadata": {},
   "outputs": [
    {
     "data": {
      "text/plain": [
       "<sklearn.metrics._plot.confusion_matrix.ConfusionMatrixDisplay at 0x26cb327cc10>"
      ]
     },
     "execution_count": 77,
     "metadata": {},
     "output_type": "execute_result"
    },
    {
     "data": {
      "image/png": "[encoded data removed]",
      "text/plain": [
       "<Figure size 640x480 with 2 Axes>"
      ]
     },
     "metadata": {},
     "output_type": "display_data"
    }
   ],
   "source": [
    "ConfusionMatrixDisplay(confusion_matrix(y_test, mnb_test_predictions_count)).plot()"
   ]
  },
  {
   "cell_type": "markdown",
   "id": "3f57de7f",
   "metadata": {},
   "source": [
    "Then, we can proceed with computing the score of the predictions."
   ]
  },
  {
   "cell_type": "code",
   "execution_count": 78,
   "id": "23d507bc",
   "metadata": {},
   "outputs": [
    {
     "name": "stdout",
     "output_type": "stream",
     "text": [
      "Accuracy:  89.68863561281796 %\n",
      "F1 Macro Average:  89.64449583205243 %\n",
      "F1 Micro Average:  89.68863561281796 %\n",
      "Hamming Loss:  10.311364387182028 %\n",
      "Precision:  89.68863561281796 %\n",
      "Recall:  89.68863561281796 %\n"
     ]
    }
   ],
   "source": [
    "accuracy, f1_micro_average, f1_macro_average, hamming_loss_score, precision, recall = scores (y_test, mnb_test_predictions_count)   \n",
    "print_scores (accuracy, f1_micro_average, f1_macro_average, hamming_loss_score, precision, recall)"
   ]
  },
  {
   "cell_type": "markdown",
   "id": "5f04b03b",
   "metadata": {},
   "source": [
    "The [`Multinomial Naive Bayes`](https://scikit-learn.org/stable/modules/generated/sklearn.naive_bayes.MultinomialNB.html) model using the document-term matrix produced by  [`Count Vectorizer`](https://scikit-learn.org/stable/modules/generated/sklearn.feature_extraction.text.CountVectorizer.html) received 89.68% as its accuracy. This is actually higher than the accuracy of the untuned [`Multinomial Naive Bayes`](https://scikit-learn.org/stable/modules/generated/sklearn.naive_bayes.MultinomialNB.html) model using the [`TF-IDF Vectorizer`](https://scikit-learn.org/stable/modules/generated/sklearn.feature_extraction.text.TfidfVectorizer.html)."
   ]
  },
  {
   "cell_type": "markdown",
   "id": "f6d43757",
   "metadata": {},
   "source": [
    "### Hyperparameter Tuning\n",
    "As the training is done, we can continue with the tuning of the model. As done previously, we will first generate an instance of the [`Multinomial Naive Bayes`](https://scikit-learn.org/stable/modules/generated/sklearn.naive_bayes.MultinomialNB.html) object. "
   ]
  },
  {
   "cell_type": "code",
   "execution_count": 79,
   "id": "839af927",
   "metadata": {},
   "outputs": [],
   "source": [
    "multinomial_nb = MultinomialNB ()"
   ]
  },
  {
   "cell_type": "markdown",
   "id": "3872763b",
   "metadata": {},
   "source": [
    "With this object, we can now tune the model."
   ]
  },
  {
   "cell_type": "code",
   "execution_count": 80,
   "id": "da74d881",
   "metadata": {},
   "outputs": [
    {
     "name": "stdout",
     "output_type": "stream",
     "text": [
      "Tuning MultinomialNB()...\n"
     ]
    }
   ],
   "source": [
    "mnb_tuned_model_count, mnb_tuned_test_predictions_count = tune_and_train_model (multinomial_nb, mnb_hp_space, \n",
    "                                                                                count_train, y_train, \n",
    "                                                                                count_test, y_test,\n",
    "                                                                                'mnb_tuned', 'count')"
   ]
  },
  {
   "cell_type": "markdown",
   "id": "d9372a6b",
   "metadata": {},
   "source": [
    "After the tuning, we can see that the hyperparameter value that received the highest score for the model was the **alpha value of 0.1 and the fit_prior value of True**."
   ]
  },
  {
   "cell_type": "code",
   "execution_count": 81,
   "id": "813bc371",
   "metadata": {},
   "outputs": [
    {
     "data": {
      "text/html": [
       "<style>#sk-container-id-4 {color: black;background-color: white;}#sk-container-id-4 pre{padding: 0;}#sk-container-id-4 div.sk-toggleable {background-color: white;}#sk-container-id-4 label.sk-toggleable__label {cursor: pointer;display: block;width: 100%;margin-bottom: 0;padding: 0.3em;box-sizing: border-box;text-align: center;}#sk-container-id-4 label.sk-toggleable__label-arrow:before {content: \"▸\";float: left;margin-right: 0.25em;color: #696969;}#sk-container-id-4 label.sk-toggleable__label-arrow:hover:before {color: black;}#sk-container-id-4 div.sk-estimator:hover label.sk-toggleable__label-arrow:before {color: black;}#sk-container-id-4 div.sk-toggleable__content {max-height: 0;max-width: 0;overflow: hidden;text-align: left;background-color: #f0f8ff;}#sk-container-id-4 div.sk-toggleable__content pre {margin: 0.2em;color: black;border-radius: 0.25em;background-color: #f0f8ff;}#sk-container-id-4 input.sk-toggleable__control:checked~div.sk-toggleable__content {max-height: 200px;max-width: 100%;overflow: auto;}#sk-container-id-4 input.sk-toggleable__control:checked~label.sk-toggleable__label-arrow:before {content: \"▾\";}#sk-container-id-4 div.sk-estimator input.sk-toggleable__control:checked~label.sk-toggleable__label {background-color: #d4ebff;}#sk-container-id-4 div.sk-label input.sk-toggleable__control:checked~label.sk-toggleable__label {background-color: #d4ebff;}#sk-container-id-4 input.sk-hidden--visually {border: 0;clip: rect(1px 1px 1px 1px);clip: rect(1px, 1px, 1px, 1px);height: 1px;margin: -1px;overflow: hidden;padding: 0;position: absolute;width: 1px;}#sk-container-id-4 div.sk-estimator {font-family: monospace;background-color: #f0f8ff;border: 1px dotted black;border-radius: 0.25em;box-sizing: border-box;margin-bottom: 0.5em;}#sk-container-id-4 div.sk-estimator:hover {background-color: #d4ebff;}#sk-container-id-4 div.sk-parallel-item::after {content: \"\";width: 100%;border-bottom: 1px solid gray;flex-grow: 1;}#sk-container-id-4 div.sk-label:hover label.sk-toggleable__label {background-color: #d4ebff;}#sk-container-id-4 div.sk-serial::before {content: \"\";position: absolute;border-left: 1px solid gray;box-sizing: border-box;top: 0;bottom: 0;left: 50%;z-index: 0;}#sk-container-id-4 div.sk-serial {display: flex;flex-direction: column;align-items: center;background-color: white;padding-right: 0.2em;padding-left: 0.2em;position: relative;}#sk-container-id-4 div.sk-item {position: relative;z-index: 1;}#sk-container-id-4 div.sk-parallel {display: flex;align-items: stretch;justify-content: center;background-color: white;position: relative;}#sk-container-id-4 div.sk-item::before, #sk-container-id-4 div.sk-parallel-item::before {content: \"\";position: absolute;border-left: 1px solid gray;box-sizing: border-box;top: 0;bottom: 0;left: 50%;z-index: -1;}#sk-container-id-4 div.sk-parallel-item {display: flex;flex-direction: column;z-index: 1;position: relative;background-color: white;}#sk-container-id-4 div.sk-parallel-item:first-child::after {align-self: flex-end;width: 50%;}#sk-container-id-4 div.sk-parallel-item:last-child::after {align-self: flex-start;width: 50%;}#sk-container-id-4 div.sk-parallel-item:only-child::after {width: 0;}#sk-container-id-4 div.sk-dashed-wrapped {border: 1px dashed gray;margin: 0 0.4em 0.5em 0.4em;box-sizing: border-box;padding-bottom: 0.4em;background-color: white;}#sk-container-id-4 div.sk-label label {font-family: monospace;font-weight: bold;display: inline-block;line-height: 1.2em;}#sk-container-id-4 div.sk-label-container {text-align: center;}#sk-container-id-4 div.sk-container {/* jupyter's `normalize.less` sets `[hidden] { display: none; }` but bootstrap.min.css set `[hidden] { display: none !important; }` so we also need the `!important` here to be able to override the default hidden behavior on the sphinx rendered scikit-learn.org. See: https://github.com/scikit-learn/scikit-learn/issues/21755 */display: inline-block !important;position: relative;}#sk-container-id-4 div.sk-text-repr-fallback {display: none;}</style><div id=\"sk-container-id-4\" class=\"sk-top-container\"><div class=\"sk-text-repr-fallback\"><pre>MultinomialNB(alpha=0.1)</pre><b>In a Jupyter environment, please rerun this cell to show the HTML representation or trust the notebook. <br />On GitHub, the HTML representation is unable to render, please try loading this page with nbviewer.org.</b></div><div class=\"sk-container\" hidden><div class=\"sk-item\"><div class=\"sk-estimator sk-toggleable\"><input class=\"sk-toggleable__control sk-hidden--visually\" id=\"sk-estimator-id-4\" type=\"checkbox\" checked><label for=\"sk-estimator-id-4\" class=\"sk-toggleable__label sk-toggleable__label-arrow\">MultinomialNB</label><div class=\"sk-toggleable__content\"><pre>MultinomialNB(alpha=0.1)</pre></div></div></div></div></div>"
      ],
      "text/plain": [
       "MultinomialNB(alpha=0.1)"
      ]
     },
     "execution_count": 81,
     "metadata": {},
     "output_type": "execute_result"
    }
   ],
   "source": [
    "mnb_tuned_model_count"
   ]
  },
  {
   "cell_type": "markdown",
   "id": "a36ab725",
   "metadata": {},
   "source": [
    "Now, let us visualize the [`confusion_matrix`](https://scikit-learn.org/stable/modules/generated/sklearn.metrics.confusion_matrix.html) of the test data through the [`ConfusionMatrixDisplay`](https://scikit-learn.org/stable/modules/generated/sklearn.metrics.ConfusionMatrixDisplay.html)."
   ]
  },
  {
   "cell_type": "code",
   "execution_count": 82,
   "id": "3443449d",
   "metadata": {},
   "outputs": [
    {
     "data": {
      "text/plain": [
       "<sklearn.metrics._plot.confusion_matrix.ConfusionMatrixDisplay at 0x26c8f03d910>"
      ]
     },
     "execution_count": 82,
     "metadata": {},
     "output_type": "execute_result"
    },
    {
     "data": {
      "image/png": "[encoded data removed]",
      "text/plain": [
       "<Figure size 640x480 with 2 Axes>"
      ]
     },
     "metadata": {},
     "output_type": "display_data"
    }
   ],
   "source": [
    "ConfusionMatrixDisplay(confusion_matrix(y_test, mnb_tuned_test_predictions_count)).plot()"
   ]
  },
  {
   "cell_type": "markdown",
   "id": "582d0fde",
   "metadata": {},
   "source": [
    "From this, we can see that the model incorrectly 15.24% of the negative samples, and 9.53% of the positive samples. Now, let us compute the scores of the model on the test set using the metrics. "
   ]
  },
  {
   "cell_type": "markdown",
   "id": "43058b61",
   "metadata": {},
   "source": [
    "### Evaluation\n",
    "Now, let us evaluate the performance of the model on the test set by computing its scores on the metrics. "
   ]
  },
  {
   "cell_type": "code",
   "execution_count": 83,
   "id": "0301f3cd",
   "metadata": {},
   "outputs": [
    {
     "name": "stdout",
     "output_type": "stream",
     "text": [
      "Accuracy:  90.39890981169475 %\n",
      "F1 Macro Average:  90.36964133110159 %\n",
      "F1 Micro Average:  90.39890981169475 %\n",
      "Hamming Loss:  9.601090188305253 %\n",
      "Precision:  90.39890981169475 %\n",
      "Recall:  90.39890981169475 %\n"
     ]
    }
   ],
   "source": [
    "accuracy, f1_micro_average, f1_macro_average, hamming_loss_score, precision, recall = scores (y_test, mnb_tuned_test_predictions_count)    \n",
    "\n",
    "temp_scores = {\n",
    "    'Model' : 'Multinomial Naive Bayes',\n",
    "    'Vectorizer' : 'Count Vectorizer',\n",
    "    'Accuracy' : accuracy,\n",
    "    'F1 Micro Average' : f1_micro_average,\n",
    "    'F1 Macro Average' : f1_macro_average,\n",
    "    'Hamming Loss' : hamming_loss_score,\n",
    "    'Precision' : precision,\n",
    "    'Recall' : recall\n",
    "}  \n",
    "\n",
    "scores_list.append(temp_scores)\n",
    "\n",
    "print_scores (accuracy, f1_micro_average, f1_macro_average, hamming_loss_score, precision, recall)"
   ]
  },
  {
   "cell_type": "markdown",
   "id": "5bc6db99",
   "metadata": {},
   "source": [
    "From the results of predicting on the test set using the tuned model, it can be seen that the performance on the accuracy metric of the [`Multinomial Naive Bayes`](https://scikit-learn.org/stable/modules/generated/sklearn.naive_bayes.MultinomialNB.html) model improved by 0.71%. Although, after tuning, the [`TF-IDF Vectorizer`](https://scikit-learn.org/stable/modules/generated/sklearn.feature_extraction.text.TfidfVectorizer.html) now has higher accuracy."
   ]
  },
  {
   "cell_type": "markdown",
   "id": "6a8f8711",
   "metadata": {},
   "source": [
    "### Feature Importance\n",
    "\n",
    "To determine which words our model uses more in predicting, let us determine the importance of each of the feature (word)."
   ]
  },
  {
   "cell_type": "code",
   "execution_count": null,
   "id": "32a30c33",
   "metadata": {},
   "outputs": [],
   "source": []
  },
  {
   "cell_type": "markdown",
   "id": "15025c92",
   "metadata": {},
   "source": [
    "## Random Forest Classifier (TF-IDF Vectorizer)\n",
    "Now, let us move on with the training and tuning of a [`Random Forest Classifier`](https://scikit-learn.org/stable/modules/generated/sklearn.ensemble.RandomForestClassifier.html) model on a document-term matrix generated by a [`TF-IDF Vectorizer`](https://scikit-learn.org/stable/modules/generated/sklearn.feature_extraction.text.TfidfVectorizer.html)."
   ]
  },
  {
   "cell_type": "markdown",
   "id": "48dc87c0",
   "metadata": {},
   "source": [
    "### Model Training\n",
    "To start with the model training, we will need to define an instance of a [`Random Forest Classifier`](https://scikit-learn.org/stable/modules/generated/sklearn.ensemble.RandomForestClassifier.html) model like we have done previously. Note that the **n_jobs = -1** just means that all processors can be used for its training."
   ]
  },
  {
   "cell_type": "code",
   "execution_count": 84,
   "id": "9b1568e3",
   "metadata": {},
   "outputs": [],
   "source": [
    "rf_classifier = RandomForestClassifier(n_jobs = -1)"
   ]
  },
  {
   "cell_type": "markdown",
   "id": "d6c7f70d",
   "metadata": {},
   "source": [
    "Using this instance, we will now be training the model using the function we previously created."
   ]
  },
  {
   "cell_type": "code",
   "execution_count": 85,
   "id": "d10f6349",
   "metadata": {},
   "outputs": [
    {
     "name": "stdout",
     "output_type": "stream",
     "text": [
      "Accuracy:  99.99139686272261 %\n",
      "F1 Macro Average:  99.9913968408511 %\n",
      "F1 Micro Average:  99.99139686272261 %\n",
      "Hamming Loss:  0.008603137277393823 %\n",
      "Precision:  99.99139686272261 %\n",
      "Recall:  99.99139686272261 %\n"
     ]
    }
   ],
   "source": [
    "rf_tfidf, rf_test_predictions_tfidf = train_model (rf_classifier,\n",
    "                                                   tfidf_train, y_train, \n",
    "                                                   tfidf_test, y_test, \n",
    "                                                   'rf', 'tfidf')"
   ]
  },
  {
   "cell_type": "markdown",
   "id": "fab27283",
   "metadata": {},
   "source": [
    "To fully understand how our model fares with the test data, we will be plotting the [`confusion_matrix`](https://scikit-learn.org/stable/modules/generated/sklearn.metrics.confusion_matrix.html) of the test data using the [`ConfusionMatrixDisplay`](https://scikit-learn.org/stable/modules/generated/sklearn.metrics.ConfusionMatrixDisplay.html) function."
   ]
  },
  {
   "cell_type": "code",
   "execution_count": 86,
   "id": "35687d59",
   "metadata": {},
   "outputs": [
    {
     "data": {
      "text/plain": [
       "<sklearn.metrics._plot.confusion_matrix.ConfusionMatrixDisplay at 0x26cb33a81c0>"
      ]
     },
     "execution_count": 86,
     "metadata": {},
     "output_type": "execute_result"
    },
    {
     "data": {
      "image/png": "[encoded data removed]",
      "text/plain": [
       "<Figure size 640x480 with 2 Axes>"
      ]
     },
     "metadata": {},
     "output_type": "display_data"
    }
   ],
   "source": [
    "ConfusionMatrixDisplay(confusion_matrix(y_test, rf_test_predictions_tfidf)).plot()"
   ]
  },
  {
   "cell_type": "markdown",
   "id": "00e9a076",
   "metadata": {},
   "source": [
    "From this, we can see that the model incorrectly 10.78% of the negative samples, and 11.79% of the positive samples. Now, let us compute the scores of the model on the test set using the metrics. "
   ]
  },
  {
   "cell_type": "code",
   "execution_count": 87,
   "id": "3bf19009",
   "metadata": {},
   "outputs": [
    {
     "name": "stdout",
     "output_type": "stream",
     "text": [
      "Accuracy:  88.70994383878428 %\n",
      "F1 Macro Average:  88.70948127409628 %\n",
      "F1 Micro Average:  88.70994383878428 %\n",
      "Hamming Loss:  11.290056161215725 %\n",
      "Precision:  88.70994383878428 %\n",
      "Recall:  88.70994383878428 %\n"
     ]
    }
   ],
   "source": [
    "accuracy, f1_micro_average, f1_macro_average, hamming_loss_score, precision, recall = scores (y_test, rf_test_predictions_tfidf)   \n",
    "print_scores (accuracy, f1_micro_average, f1_macro_average, hamming_loss_score, precision, recall)"
   ]
  },
  {
   "cell_type": "markdown",
   "id": "56ea93e5",
   "metadata": {},
   "source": [
    "From the scores, we can see that it managed to get 88.70% on the accuracy, which is lower than the score it received from the train data."
   ]
  },
  {
   "cell_type": "markdown",
   "id": "907adc08",
   "metadata": {},
   "source": [
    "### Hyperparameter Tuning\n",
    "Now, we can continue to tuning the model. To begin with, an instance of [`Random Forest Classifier`](https://scikit-learn.org/stable/modules/generated/sklearn.ensemble.RandomForestClassifier.html) will be generated."
   ]
  },
  {
   "cell_type": "code",
   "execution_count": 88,
   "id": "e166b153",
   "metadata": {},
   "outputs": [],
   "source": [
    "rf_classifier = RandomForestClassifier(n_jobs = -1)"
   ]
  },
  {
   "cell_type": "markdown",
   "id": "b0e2c89a",
   "metadata": {},
   "source": [
    "As we have already defined an instance of the model that we will be using as the base model, we can move on to tuning this model."
   ]
  },
  {
   "cell_type": "code",
   "execution_count": 89,
   "id": "228c0252",
   "metadata": {},
   "outputs": [
    {
     "name": "stdout",
     "output_type": "stream",
     "text": [
      "Tuning RandomForestClassifier(n_jobs=-1)...\n"
     ]
    }
   ],
   "source": [
    "rf_tuned_model_tfidf, rf_tuned_test_predictions_tfidf = tune_and_train_model (rf_classifier, rf_hp_space, \n",
    "                                                                              tfidf_train, y_train,\n",
    "                                                                              tfidf_test, y_test,\n",
    "                                                                              'rf_tuned', 'tfidf')"
   ]
  },
  {
   "cell_type": "markdown",
   "id": "e7a9d4d3",
   "metadata": {},
   "source": [
    "As a result of tuning process, the identified best values of the hyperparameters for this model was **150 for the number of trees in the forest**, with **no maximum number of value for its leaf nodes and depth**. "
   ]
  },
  {
   "cell_type": "code",
   "execution_count": 90,
   "id": "540df367",
   "metadata": {},
   "outputs": [
    {
     "data": {
      "text/html": [
       "<style>#sk-container-id-5 {color: black;background-color: white;}#sk-container-id-5 pre{padding: 0;}#sk-container-id-5 div.sk-toggleable {background-color: white;}#sk-container-id-5 label.sk-toggleable__label {cursor: pointer;display: block;width: 100%;margin-bottom: 0;padding: 0.3em;box-sizing: border-box;text-align: center;}#sk-container-id-5 label.sk-toggleable__label-arrow:before {content: \"▸\";float: left;margin-right: 0.25em;color: #696969;}#sk-container-id-5 label.sk-toggleable__label-arrow:hover:before {color: black;}#sk-container-id-5 div.sk-estimator:hover label.sk-toggleable__label-arrow:before {color: black;}#sk-container-id-5 div.sk-toggleable__content {max-height: 0;max-width: 0;overflow: hidden;text-align: left;background-color: #f0f8ff;}#sk-container-id-5 div.sk-toggleable__content pre {margin: 0.2em;color: black;border-radius: 0.25em;background-color: #f0f8ff;}#sk-container-id-5 input.sk-toggleable__control:checked~div.sk-toggleable__content {max-height: 200px;max-width: 100%;overflow: auto;}#sk-container-id-5 input.sk-toggleable__control:checked~label.sk-toggleable__label-arrow:before {content: \"▾\";}#sk-container-id-5 div.sk-estimator input.sk-toggleable__control:checked~label.sk-toggleable__label {background-color: #d4ebff;}#sk-container-id-5 div.sk-label input.sk-toggleable__control:checked~label.sk-toggleable__label {background-color: #d4ebff;}#sk-container-id-5 input.sk-hidden--visually {border: 0;clip: rect(1px 1px 1px 1px);clip: rect(1px, 1px, 1px, 1px);height: 1px;margin: -1px;overflow: hidden;padding: 0;position: absolute;width: 1px;}#sk-container-id-5 div.sk-estimator {font-family: monospace;background-color: #f0f8ff;border: 1px dotted black;border-radius: 0.25em;box-sizing: border-box;margin-bottom: 0.5em;}#sk-container-id-5 div.sk-estimator:hover {background-color: #d4ebff;}#sk-container-id-5 div.sk-parallel-item::after {content: \"\";width: 100%;border-bottom: 1px solid gray;flex-grow: 1;}#sk-container-id-5 div.sk-label:hover label.sk-toggleable__label {background-color: #d4ebff;}#sk-container-id-5 div.sk-serial::before {content: \"\";position: absolute;border-left: 1px solid gray;box-sizing: border-box;top: 0;bottom: 0;left: 50%;z-index: 0;}#sk-container-id-5 div.sk-serial {display: flex;flex-direction: column;align-items: center;background-color: white;padding-right: 0.2em;padding-left: 0.2em;position: relative;}#sk-container-id-5 div.sk-item {position: relative;z-index: 1;}#sk-container-id-5 div.sk-parallel {display: flex;align-items: stretch;justify-content: center;background-color: white;position: relative;}#sk-container-id-5 div.sk-item::before, #sk-container-id-5 div.sk-parallel-item::before {content: \"\";position: absolute;border-left: 1px solid gray;box-sizing: border-box;top: 0;bottom: 0;left: 50%;z-index: -1;}#sk-container-id-5 div.sk-parallel-item {display: flex;flex-direction: column;z-index: 1;position: relative;background-color: white;}#sk-container-id-5 div.sk-parallel-item:first-child::after {align-self: flex-end;width: 50%;}#sk-container-id-5 div.sk-parallel-item:last-child::after {align-self: flex-start;width: 50%;}#sk-container-id-5 div.sk-parallel-item:only-child::after {width: 0;}#sk-container-id-5 div.sk-dashed-wrapped {border: 1px dashed gray;margin: 0 0.4em 0.5em 0.4em;box-sizing: border-box;padding-bottom: 0.4em;background-color: white;}#sk-container-id-5 div.sk-label label {font-family: monospace;font-weight: bold;display: inline-block;line-height: 1.2em;}#sk-container-id-5 div.sk-label-container {text-align: center;}#sk-container-id-5 div.sk-container {/* jupyter's `normalize.less` sets `[hidden] { display: none; }` but bootstrap.min.css set `[hidden] { display: none !important; }` so we also need the `!important` here to be able to override the default hidden behavior on the sphinx rendered scikit-learn.org. See: https://github.com/scikit-learn/scikit-learn/issues/21755 */display: inline-block !important;position: relative;}#sk-container-id-5 div.sk-text-repr-fallback {display: none;}</style><div id=\"sk-container-id-5\" class=\"sk-top-container\"><div class=\"sk-text-repr-fallback\"><pre>RandomForestClassifier(n_estimators=150, n_jobs=-1)</pre><b>In a Jupyter environment, please rerun this cell to show the HTML representation or trust the notebook. <br />On GitHub, the HTML representation is unable to render, please try loading this page with nbviewer.org.</b></div><div class=\"sk-container\" hidden><div class=\"sk-item\"><div class=\"sk-estimator sk-toggleable\"><input class=\"sk-toggleable__control sk-hidden--visually\" id=\"sk-estimator-id-5\" type=\"checkbox\" checked><label for=\"sk-estimator-id-5\" class=\"sk-toggleable__label sk-toggleable__label-arrow\">RandomForestClassifier</label><div class=\"sk-toggleable__content\"><pre>RandomForestClassifier(n_estimators=150, n_jobs=-1)</pre></div></div></div></div></div>"
      ],
      "text/plain": [
       "RandomForestClassifier(n_estimators=150, n_jobs=-1)"
      ]
     },
     "execution_count": 90,
     "metadata": {},
     "output_type": "execute_result"
    }
   ],
   "source": [
    "rf_tuned_model_tfidf"
   ]
  },
  {
   "cell_type": "markdown",
   "id": "703887f9",
   "metadata": {},
   "source": [
    "To determine if there are more false positives or more false negatives in the predictions, we will be utilizing the [`ConfusionMatrixDisplay`](https://scikit-learn.org/stable/modules/generated/sklearn.metrics.ConfusionMatrixDisplay.html) to create a visualization for the [`confusion_matrix`](https://scikit-learn.org/stable/modules/generated/sklearn.metrics.confusion_matrix.html) of the test set. "
   ]
  },
  {
   "cell_type": "code",
   "execution_count": 91,
   "id": "62f8d646",
   "metadata": {},
   "outputs": [
    {
     "data": {
      "text/plain": [
       "<sklearn.metrics._plot.confusion_matrix.ConfusionMatrixDisplay at 0x26cb51770d0>"
      ]
     },
     "execution_count": 91,
     "metadata": {},
     "output_type": "execute_result"
    },
    {
     "data": {
      "image/png": "[encoded data removed]",
      "text/plain": [
       "<Figure size 640x480 with 2 Axes>"
      ]
     },
     "metadata": {},
     "output_type": "display_data"
    }
   ],
   "source": [
    "ConfusionMatrixDisplay(confusion_matrix(y_test, rf_tuned_test_predictions_tfidf)).plot()"
   ]
  },
  {
   "cell_type": "markdown",
   "id": "06cbceb9",
   "metadata": {},
   "source": [
    "In this resulting visualization, we can see that the number of false positive and the number of false negatives are actually near in value. "
   ]
  },
  {
   "cell_type": "markdown",
   "id": "455d8c55",
   "metadata": {},
   "source": [
    "### Evaluation\n",
    "Now, let us evaluate the performance of the model on the test set by computing the scores using the metrics. "
   ]
  },
  {
   "cell_type": "code",
   "execution_count": 92,
   "id": "ef59c58a",
   "metadata": {},
   "outputs": [
    {
     "name": "stdout",
     "output_type": "stream",
     "text": [
      "Accuracy:  88.85034687809713 %\n",
      "F1 Macro Average:  88.85012510304517 %\n",
      "F1 Micro Average:  88.85034687809713 %\n",
      "Hamming Loss:  11.149653121902874 %\n",
      "Precision:  88.85034687809713 %\n",
      "Recall:  88.85034687809713 %\n"
     ]
    }
   ],
   "source": [
    "accuracy, f1_micro_average, f1_macro_average, hamming_loss_score, precision, recall = scores (y_test, rf_tuned_test_predictions_tfidf)    \n",
    "\n",
    "temp_scores = {\n",
    "    'Model' : 'Random Forest Classifier',\n",
    "    'Vectorizer' : 'TF-IDF Vectorizer',\n",
    "    'Accuracy' : accuracy,\n",
    "    'F1 Micro Average' : f1_micro_average,\n",
    "    'F1 Macro Average' : f1_macro_average,\n",
    "    'Hamming Loss' : hamming_loss_score,\n",
    "    'Precision' : precision,\n",
    "    'Recall' : recall\n",
    "}  \n",
    "\n",
    "scores_list.append(temp_scores)\n",
    "\n",
    "print_scores (accuracy, f1_micro_average, f1_macro_average, hamming_loss_score, precision, recall)"
   ]
  },
  {
   "cell_type": "markdown",
   "id": "92bc980e",
   "metadata": {},
   "source": [
    "Comparing the tuned model with the base [`Random Forest Classifier`](https://scikit-learn.org/stable/modules/generated/sklearn.ensemble.RandomForestClassifier.html) model, we can see that the tuning process helped improve the model's accuracy by 0.15%."
   ]
  },
  {
   "cell_type": "markdown",
   "id": "8d1b8945",
   "metadata": {},
   "source": [
    "### Feature Importance\n",
    "Like in the previous model, we can move on with determining which words have more weights in labeling the samples as positive or negative. "
   ]
  },
  {
   "cell_type": "code",
   "execution_count": null,
   "id": "5049231f",
   "metadata": {},
   "outputs": [],
   "source": []
  },
  {
   "cell_type": "markdown",
   "id": "c6d7bb29",
   "metadata": {},
   "source": [
    "## Random Forest Classifier (Count Vectorizer)\n",
    "The last model that we will be training is a [`Random Forest Classifier`](https://scikit-learn.org/stable/modules/generated/sklearn.ensemble.RandomForestClassifier.html) model that was trained on a document-term matrix generated by a [`Count Vectorizer`](https://scikit-learn.org/stable/modules/generated/sklearn.feature_extraction.text.CountVectorizer.html)."
   ]
  },
  {
   "cell_type": "markdown",
   "id": "e416aa19",
   "metadata": {},
   "source": [
    "### Model Training \n",
    "As done previously, we will start by creating an instance of [`Random Forest Classifier`](https://scikit-learn.org/stable/modules/generated/sklearn.ensemble.RandomForestClassifier.html) class."
   ]
  },
  {
   "cell_type": "code",
   "execution_count": 93,
   "id": "f0c790c8",
   "metadata": {},
   "outputs": [],
   "source": [
    "rf_classifier = RandomForestClassifier(n_jobs = -1)"
   ]
  },
  {
   "cell_type": "markdown",
   "id": "2c01d216",
   "metadata": {},
   "source": [
    "With this, we can proceed with training the model."
   ]
  },
  {
   "cell_type": "code",
   "execution_count": 94,
   "id": "a12f609a",
   "metadata": {},
   "outputs": [
    {
     "name": "stdout",
     "output_type": "stream",
     "text": [
      "Accuracy:  99.99197040520777 %\n",
      "F1 Macro Average:  99.99197038580944 %\n",
      "F1 Micro Average:  99.99197040520777 %\n",
      "Hamming Loss:  0.008029594792234234 %\n",
      "Precision:  99.99197040520777 %\n",
      "Recall:  99.99197040520777 %\n"
     ]
    }
   ],
   "source": [
    "rf_count, rf_test_predictions_count = train_model (rf_classifier,\n",
    "                                                   count_train, y_train, \n",
    "                                                   count_test, y_test, \n",
    "                                                   'rf', 'count')"
   ]
  },
  {
   "cell_type": "markdown",
   "id": "58eb59bd",
   "metadata": {},
   "source": [
    "To fully understand how our model fares with the test data, we will be plotting the [`confusion_matrix`](https://scikit-learn.org/stable/modules/generated/sklearn.metrics.confusion_matrix.html) of the test data using the [`ConfusionMatrixDisplay`](https://scikit-learn.org/stable/modules/generated/sklearn.metrics.ConfusionMatrixDisplay.html) function."
   ]
  },
  {
   "cell_type": "code",
   "execution_count": 95,
   "id": "135fbed3",
   "metadata": {},
   "outputs": [
    {
     "data": {
      "text/plain": [
       "<sklearn.metrics._plot.confusion_matrix.ConfusionMatrixDisplay at 0x26cb518b460>"
      ]
     },
     "execution_count": 95,
     "metadata": {},
     "output_type": "execute_result"
    },
    {
     "data": {
      "image/png": "[encoded data removed]",
      "text/plain": [
       "<Figure size 640x480 with 2 Axes>"
      ]
     },
     "metadata": {},
     "output_type": "display_data"
    }
   ],
   "source": [
    "ConfusionMatrixDisplay(confusion_matrix(y_test, rf_test_predictions_count)).plot()"
   ]
  },
  {
   "cell_type": "markdown",
   "id": "4741459a",
   "metadata": {},
   "source": [
    "From this, we can see that the model incorrectly 12.72% of the negative samples, and 11.64% of the positive samples. Now, let us compute the scores of the model on the test set using the metrics. "
   ]
  },
  {
   "cell_type": "code",
   "execution_count": 96,
   "id": "d9a7e575",
   "metadata": {},
   "outputs": [
    {
     "name": "stdout",
     "output_type": "stream",
     "text": [
      "Accuracy:  87.81590683845391 %\n",
      "F1 Macro Average:  87.81570932136924 %\n",
      "F1 Micro Average:  87.81590683845391 %\n",
      "Hamming Loss:  12.184093161546086 %\n",
      "Precision:  87.81590683845391 %\n",
      "Recall:  87.81590683845391 %\n"
     ]
    }
   ],
   "source": [
    "accuracy, f1_micro_average, f1_macro_average, hamming_loss_score, precision, recall = scores (y_test, rf_test_predictions_count)   \n",
    "print_scores (accuracy, f1_micro_average, f1_macro_average, hamming_loss_score, precision, recall)"
   ]
  },
  {
   "cell_type": "markdown",
   "id": "80388813",
   "metadata": {},
   "source": [
    "In this, we can see that the untuned [`Random Forest Classifier`](https://scikit-learn.org/stable/modules/generated/sklearn.ensemble.RandomForestClassifier.html) model received 87.81% as its accuracy score."
   ]
  },
  {
   "cell_type": "markdown",
   "id": "f867c94d",
   "metadata": {},
   "source": [
    "### Hyperparameter Tuning\n",
    "We can now start tuning the [`Random Forest Classifier`](https://scikit-learn.org/stable/modules/generated/sklearn.ensemble.RandomForestClassifier.html) model by creating an instance of the model. "
   ]
  },
  {
   "cell_type": "code",
   "execution_count": 97,
   "id": "7a4e1c59",
   "metadata": {},
   "outputs": [],
   "source": [
    "rf_classifier = RandomForestClassifier(n_jobs = -1)"
   ]
  },
  {
   "cell_type": "markdown",
   "id": "6a8884b8",
   "metadata": {},
   "source": [
    "With this instance, we can now tune the model."
   ]
  },
  {
   "cell_type": "code",
   "execution_count": 98,
   "id": "190fcc84",
   "metadata": {},
   "outputs": [
    {
     "name": "stdout",
     "output_type": "stream",
     "text": [
      "Tuning RandomForestClassifier(n_jobs=-1)...\n"
     ]
    }
   ],
   "source": [
    "rf_tuned_model_count, rf_tuned_test_predictions_count = tune_and_train_model (rf_classifier, rf_hp_space, \n",
    "                                                                              count_train, y_train,\n",
    "                                                                              count_test, y_test,\n",
    "                                                                              'rf_tuned', 'count')"
   ]
  },
  {
   "cell_type": "markdown",
   "id": "d43249ff",
   "metadata": {},
   "source": [
    "From the tuning, we can see that the hyperparameter values received by the model trained on a [`Count Vectorizer`](https://scikit-learn.org/stable/modules/generated/sklearn.feature_extraction.text.CountVectorizer.html) document-term matrix is the same as the model trained on a [`TF-IDF Vectorizer`](https://scikit-learn.org/stable/modules/generated/sklearn.feature_extraction.text.TfidfVectorizer.html) document-term matrix. "
   ]
  },
  {
   "cell_type": "code",
   "execution_count": 99,
   "id": "87336f0c",
   "metadata": {},
   "outputs": [
    {
     "data": {
      "text/html": [
       "<style>#sk-container-id-6 {color: black;background-color: white;}#sk-container-id-6 pre{padding: 0;}#sk-container-id-6 div.sk-toggleable {background-color: white;}#sk-container-id-6 label.sk-toggleable__label {cursor: pointer;display: block;width: 100%;margin-bottom: 0;padding: 0.3em;box-sizing: border-box;text-align: center;}#sk-container-id-6 label.sk-toggleable__label-arrow:before {content: \"▸\";float: left;margin-right: 0.25em;color: #696969;}#sk-container-id-6 label.sk-toggleable__label-arrow:hover:before {color: black;}#sk-container-id-6 div.sk-estimator:hover label.sk-toggleable__label-arrow:before {color: black;}#sk-container-id-6 div.sk-toggleable__content {max-height: 0;max-width: 0;overflow: hidden;text-align: left;background-color: #f0f8ff;}#sk-container-id-6 div.sk-toggleable__content pre {margin: 0.2em;color: black;border-radius: 0.25em;background-color: #f0f8ff;}#sk-container-id-6 input.sk-toggleable__control:checked~div.sk-toggleable__content {max-height: 200px;max-width: 100%;overflow: auto;}#sk-container-id-6 input.sk-toggleable__control:checked~label.sk-toggleable__label-arrow:before {content: \"▾\";}#sk-container-id-6 div.sk-estimator input.sk-toggleable__control:checked~label.sk-toggleable__label {background-color: #d4ebff;}#sk-container-id-6 div.sk-label input.sk-toggleable__control:checked~label.sk-toggleable__label {background-color: #d4ebff;}#sk-container-id-6 input.sk-hidden--visually {border: 0;clip: rect(1px 1px 1px 1px);clip: rect(1px, 1px, 1px, 1px);height: 1px;margin: -1px;overflow: hidden;padding: 0;position: absolute;width: 1px;}#sk-container-id-6 div.sk-estimator {font-family: monospace;background-color: #f0f8ff;border: 1px dotted black;border-radius: 0.25em;box-sizing: border-box;margin-bottom: 0.5em;}#sk-container-id-6 div.sk-estimator:hover {background-color: #d4ebff;}#sk-container-id-6 div.sk-parallel-item::after {content: \"\";width: 100%;border-bottom: 1px solid gray;flex-grow: 1;}#sk-container-id-6 div.sk-label:hover label.sk-toggleable__label {background-color: #d4ebff;}#sk-container-id-6 div.sk-serial::before {content: \"\";position: absolute;border-left: 1px solid gray;box-sizing: border-box;top: 0;bottom: 0;left: 50%;z-index: 0;}#sk-container-id-6 div.sk-serial {display: flex;flex-direction: column;align-items: center;background-color: white;padding-right: 0.2em;padding-left: 0.2em;position: relative;}#sk-container-id-6 div.sk-item {position: relative;z-index: 1;}#sk-container-id-6 div.sk-parallel {display: flex;align-items: stretch;justify-content: center;background-color: white;position: relative;}#sk-container-id-6 div.sk-item::before, #sk-container-id-6 div.sk-parallel-item::before {content: \"\";position: absolute;border-left: 1px solid gray;box-sizing: border-box;top: 0;bottom: 0;left: 50%;z-index: -1;}#sk-container-id-6 div.sk-parallel-item {display: flex;flex-direction: column;z-index: 1;position: relative;background-color: white;}#sk-container-id-6 div.sk-parallel-item:first-child::after {align-self: flex-end;width: 50%;}#sk-container-id-6 div.sk-parallel-item:last-child::after {align-self: flex-start;width: 50%;}#sk-container-id-6 div.sk-parallel-item:only-child::after {width: 0;}#sk-container-id-6 div.sk-dashed-wrapped {border: 1px dashed gray;margin: 0 0.4em 0.5em 0.4em;box-sizing: border-box;padding-bottom: 0.4em;background-color: white;}#sk-container-id-6 div.sk-label label {font-family: monospace;font-weight: bold;display: inline-block;line-height: 1.2em;}#sk-container-id-6 div.sk-label-container {text-align: center;}#sk-container-id-6 div.sk-container {/* jupyter's `normalize.less` sets `[hidden] { display: none; }` but bootstrap.min.css set `[hidden] { display: none !important; }` so we also need the `!important` here to be able to override the default hidden behavior on the sphinx rendered scikit-learn.org. See: https://github.com/scikit-learn/scikit-learn/issues/21755 */display: inline-block !important;position: relative;}#sk-container-id-6 div.sk-text-repr-fallback {display: none;}</style><div id=\"sk-container-id-6\" class=\"sk-top-container\"><div class=\"sk-text-repr-fallback\"><pre>RandomForestClassifier(n_estimators=150, n_jobs=-1)</pre><b>In a Jupyter environment, please rerun this cell to show the HTML representation or trust the notebook. <br />On GitHub, the HTML representation is unable to render, please try loading this page with nbviewer.org.</b></div><div class=\"sk-container\" hidden><div class=\"sk-item\"><div class=\"sk-estimator sk-toggleable\"><input class=\"sk-toggleable__control sk-hidden--visually\" id=\"sk-estimator-id-6\" type=\"checkbox\" checked><label for=\"sk-estimator-id-6\" class=\"sk-toggleable__label sk-toggleable__label-arrow\">RandomForestClassifier</label><div class=\"sk-toggleable__content\"><pre>RandomForestClassifier(n_estimators=150, n_jobs=-1)</pre></div></div></div></div></div>"
      ],
      "text/plain": [
       "RandomForestClassifier(n_estimators=150, n_jobs=-1)"
      ]
     },
     "execution_count": 99,
     "metadata": {},
     "output_type": "execute_result"
    }
   ],
   "source": [
    "rf_tuned_model_count"
   ]
  },
  {
   "cell_type": "markdown",
   "id": "3e05fada",
   "metadata": {},
   "source": [
    "Now, let us visualize the [`confusion_matrix`](https://scikit-learn.org/stable/modules/generated/sklearn.metrics.confusion_matrix.html) of the test data through the [`ConfusionMatrixDisplay`](https://scikit-learn.org/stable/modules/generated/sklearn.metrics.ConfusionMatrixDisplay.html)."
   ]
  },
  {
   "cell_type": "code",
   "execution_count": 100,
   "id": "7ac0a41b",
   "metadata": {},
   "outputs": [
    {
     "data": {
      "text/plain": [
       "<sklearn.metrics._plot.confusion_matrix.ConfusionMatrixDisplay at 0x26cba7e87c0>"
      ]
     },
     "execution_count": 100,
     "metadata": {},
     "output_type": "execute_result"
    },
    {
     "data": {
      "image/png": "[encoded data removed]",
      "text/plain": [
       "<Figure size 640x480 with 2 Axes>"
      ]
     },
     "metadata": {},
     "output_type": "display_data"
    }
   ],
   "source": [
    "ConfusionMatrixDisplay(confusion_matrix(y_test, rf_tuned_test_predictions_count)).plot()"
   ]
  },
  {
   "cell_type": "markdown",
   "id": "3bde0dee",
   "metadata": {},
   "source": [
    "In this, we can see that the number of incorrectly labeled samples by the model decreased. It managed to correctly identify 34 more negative samples and 121 more positive samples."
   ]
  },
  {
   "cell_type": "markdown",
   "id": "bc4796b6",
   "metadata": {},
   "source": [
    "### Evaluation\n",
    "Now, let us evaluate the performance of the model on the test set by computing its scores on the metrics. "
   ]
  },
  {
   "cell_type": "code",
   "execution_count": 101,
   "id": "30a5280a",
   "metadata": {},
   "outputs": [
    {
     "name": "stdout",
     "output_type": "stream",
     "text": [
      "Accuracy:  88.1359431780641 %\n",
      "F1 Macro Average:  88.13554094168046 %\n",
      "F1 Micro Average:  88.1359431780641 %\n",
      "Hamming Loss:  11.864056821935911 %\n",
      "Precision:  88.1359431780641 %\n",
      "Recall:  88.1359431780641 %\n"
     ]
    }
   ],
   "source": [
    "accuracy, f1_micro_average, f1_macro_average, hamming_loss_score, precision, recall = scores (y_test, rf_tuned_test_predictions_count)    \n",
    "\n",
    "temp_scores = {\n",
    "    'Model' : 'Random Forest Classifier',\n",
    "    'Vectorizer' : 'Count Vectorizer',\n",
    "    'Accuracy' : accuracy,\n",
    "    'F1 Micro Average' : f1_micro_average,\n",
    "    'F1 Macro Average' : f1_macro_average,\n",
    "    'Hamming Loss' : hamming_loss_score,\n",
    "    'Precision' : precision,\n",
    "    'Recall' : recall\n",
    "}  \n",
    "\n",
    "scores_list.append(temp_scores)\n",
    "\n",
    "print_scores (accuracy, f1_micro_average, f1_macro_average, hamming_loss_score, precision, recall)"
   ]
  },
  {
   "cell_type": "markdown",
   "id": "bf032ed2",
   "metadata": {},
   "source": [
    "From these scores, we can see that the accuracy score of the [`Random Forest Classifier`](https://scikit-learn.org/stable/modules/generated/sklearn.ensemble.RandomForestClassifier.html) model that was trained on a document-term matrix generated by a [`Count Vectorizer`](https://scikit-learn.org/stable/modules/generated/sklearn.feature_extraction.text.CountVectorizer.html) has increased by 0.32%."
   ]
  },
  {
   "cell_type": "markdown",
   "id": "84b5a227",
   "metadata": {},
   "source": [
    "### Feature Importance\n",
    "To determine which words our model uses more in predicting, let us determine the importance of each of the feature (word)."
   ]
  },
  {
   "cell_type": "code",
   "execution_count": null,
   "id": "f79a9f01",
   "metadata": {},
   "outputs": [],
   "source": []
  },
  {
   "cell_type": "markdown",
   "id": "e36c6680",
   "metadata": {},
   "source": [
    "# **Model Scores Summary**\n",
    "\n",
    "As a summary, we can see the the model that received the best  score for all of the metrics is the tuned [`Logistic Regression`](https://scikit-learn.org/stable/modules/generated/sklearn.linear_model.LogisticRegression.html) model, which utilized [`TF-IDF Vectorizer`](https://scikit-learn.org/stable/modules/generated/sklearn.feature_extraction.text.TfidfVectorizer.html) as its feature engineering. Meanwhile, the model with the worst scores is the [`Random Forest Classifier`](https://scikit-learn.org/stable/modules/generated/sklearn.ensemble.RandomForestClassifier.html) with [`Count Vectorizer`](https://scikit-learn.org/stable/modules/generated/sklearn.feature_extraction.text.CountVectorizer.html) as its feature engineering. \n",
    "\n",
    "\n",
    "Also, it is important to note that for all of the models, the [`TF-IDF Vectorizer`](https://scikit-learn.org/stable/modules/generated/sklearn.feature_extraction.text.TfidfVectorizer.html) performed better than the [`Count Vectorizer`](https://scikit-learn.org/stable/modules/generated/sklearn.feature_extraction.text.CountVectorizer.html)."
   ]
  },
  {
   "cell_type": "code",
   "execution_count": 102,
   "id": "0c0c97b4",
   "metadata": {},
   "outputs": [
    {
     "data": {
      "text/html": [
       "<div>\n",
       "<style scoped>\n",
       "    .dataframe tbody tr th:only-of-type {\n",
       "        vertical-align: middle;\n",
       "    }\n",
       "\n",
       "    .dataframe tbody tr th {\n",
       "        vertical-align: top;\n",
       "    }\n",
       "\n",
       "    .dataframe thead th {\n",
       "        text-align: right;\n",
       "    }\n",
       "</style>\n",
       "<table border=\"1\" class=\"dataframe\">\n",
       "  <thead>\n",
       "    <tr style=\"text-align: right;\">\n",
       "      <th></th>\n",
       "      <th>Model</th>\n",
       "      <th>Vectorizer</th>\n",
       "      <th>Accuracy</th>\n",
       "      <th>F1 Micro Average</th>\n",
       "      <th>F1 Macro Average</th>\n",
       "      <th>Hamming Loss</th>\n",
       "      <th>Precision</th>\n",
       "      <th>Recall</th>\n",
       "    </tr>\n",
       "  </thead>\n",
       "  <tbody>\n",
       "    <tr>\n",
       "      <th>0</th>\n",
       "      <td>Logistic Regression</td>\n",
       "      <td>TF-IDF Vectorizer</td>\n",
       "      <td>93.878015</td>\n",
       "      <td>93.878015</td>\n",
       "      <td>93.877440</td>\n",
       "      <td>6.121985</td>\n",
       "      <td>93.878015</td>\n",
       "      <td>93.878015</td>\n",
       "    </tr>\n",
       "    <tr>\n",
       "      <th>1</th>\n",
       "      <td>Logistic Regression</td>\n",
       "      <td>Count Vectorizer</td>\n",
       "      <td>93.002560</td>\n",
       "      <td>93.002560</td>\n",
       "      <td>92.997844</td>\n",
       "      <td>6.997440</td>\n",
       "      <td>93.002560</td>\n",
       "      <td>93.002560</td>\n",
       "    </tr>\n",
       "    <tr>\n",
       "      <th>2</th>\n",
       "      <td>Multinomial Naive Bayes</td>\n",
       "      <td>TF-IDF Vectorizer</td>\n",
       "      <td>90.489759</td>\n",
       "      <td>90.489759</td>\n",
       "      <td>90.461761</td>\n",
       "      <td>9.510241</td>\n",
       "      <td>90.489759</td>\n",
       "      <td>90.489759</td>\n",
       "    </tr>\n",
       "    <tr>\n",
       "      <th>3</th>\n",
       "      <td>Multinomial Naive Bayes</td>\n",
       "      <td>Count Vectorizer</td>\n",
       "      <td>90.398910</td>\n",
       "      <td>90.398910</td>\n",
       "      <td>90.369641</td>\n",
       "      <td>9.601090</td>\n",
       "      <td>90.398910</td>\n",
       "      <td>90.398910</td>\n",
       "    </tr>\n",
       "    <tr>\n",
       "      <th>4</th>\n",
       "      <td>Random Forest Classifier</td>\n",
       "      <td>TF-IDF Vectorizer</td>\n",
       "      <td>88.850347</td>\n",
       "      <td>88.850347</td>\n",
       "      <td>88.850125</td>\n",
       "      <td>11.149653</td>\n",
       "      <td>88.850347</td>\n",
       "      <td>88.850347</td>\n",
       "    </tr>\n",
       "    <tr>\n",
       "      <th>5</th>\n",
       "      <td>Random Forest Classifier</td>\n",
       "      <td>Count Vectorizer</td>\n",
       "      <td>88.135943</td>\n",
       "      <td>88.135943</td>\n",
       "      <td>88.135541</td>\n",
       "      <td>11.864057</td>\n",
       "      <td>88.135943</td>\n",
       "      <td>88.135943</td>\n",
       "    </tr>\n",
       "  </tbody>\n",
       "</table>\n",
       "</div>"
      ],
      "text/plain": [
       "                      Model         Vectorizer   Accuracy  F1 Micro Average  \\\n",
       "0       Logistic Regression  TF-IDF Vectorizer  93.878015         93.878015   \n",
       "1       Logistic Regression   Count Vectorizer  93.002560         93.002560   \n",
       "2   Multinomial Naive Bayes  TF-IDF Vectorizer  90.489759         90.489759   \n",
       "3   Multinomial Naive Bayes   Count Vectorizer  90.398910         90.398910   \n",
       "4  Random Forest Classifier  TF-IDF Vectorizer  88.850347         88.850347   \n",
       "5  Random Forest Classifier   Count Vectorizer  88.135943         88.135943   \n",
       "\n",
       "   F1 Macro Average  Hamming Loss  Precision     Recall  \n",
       "0         93.877440      6.121985  93.878015  93.878015  \n",
       "1         92.997844      6.997440  93.002560  93.002560  \n",
       "2         90.461761      9.510241  90.489759  90.489759  \n",
       "3         90.369641      9.601090  90.398910  90.398910  \n",
       "4         88.850125     11.149653  88.850347  88.850347  \n",
       "5         88.135541     11.864057  88.135943  88.135943  "
      ]
     },
     "execution_count": 102,
     "metadata": {},
     "output_type": "execute_result"
    }
   ],
   "source": [
    "pd.DataFrame(scores_list).sort_values(['Accuracy', 'F1 Micro Average', 'F1 Macro Average', 'Hamming Loss', 'Precision', 'Recall'], ascending = False).reset_index(drop = True)"
   ]
  }
 ],
 "metadata": {
  "kernelspec": {
   "display_name": "Python 3 (ipykernel)",
   "language": "python",
   "name": "python3"
  },
  "language_info": {
   "codemirror_mode": {
    "name": "ipython",
    "version": 3
   },
   "file_extension": ".py",
   "mimetype": "text/x-python",
   "name": "python",
   "nbconvert_exporter": "python",
   "pygments_lexer": "ipython3",
   "version": "3.9.16"
  }
 },
 "nbformat": 4,
 "nbformat_minor": 5
}
