{
 "cells": [
  {
   "cell_type": "markdown",
   "id": "da138947",
   "metadata": {},
   "source": [
    "# **Insert Title Here**\n",
    "**DATA103 S11 Group 4**\n",
    "- GOZON, Jean Pauline D.\n",
    "- JAMIAS, Gillian Nicole A.\n",
    "- MARCELO Andrea Jean C. \n",
    "- REYES, Anton Gabriel G.\n",
    "- VICENTE, Francheska Josefa"
   ]
  },
  {
   "cell_type": "markdown",
   "id": "984d7166",
   "metadata": {},
   "source": [
    "## Requirements and Imports"
   ]
  },
  {
   "cell_type": "markdown",
   "id": "75a48c0b",
   "metadata": {},
   "source": [
    "### Imports"
   ]
  },
  {
   "cell_type": "markdown",
   "id": "ad43b064",
   "metadata": {},
   "source": [
    "**Basic Libraries**\n",
    "\n",
    "* `numpy` contains a large collection of mathematical functions\n",
    "* `pandas` contains functions that are designed for data manipulation and data analysis"
   ]
  },
  {
   "cell_type": "code",
   "execution_count": null,
   "id": "a0e52506",
   "metadata": {},
   "outputs": [],
   "source": [
    "import numpy as np\n",
    "import pandas as pd\n",
    "import datasets"
   ]
  },
  {
   "cell_type": "markdown",
   "id": "3207e8eb",
   "metadata": {},
   "source": [
    "**Natural Language Processing Libraries**\n",
    "* `TFidfVectorizer` converts the given text documents into a matrix, which has TF-IDF features\n",
    "* `CountVectorizer` converts the given text documents into a matrix, which has the counts of the tokens"
   ]
  },
  {
   "cell_type": "code",
   "execution_count": null,
   "id": "fc19f669",
   "metadata": {},
   "outputs": [],
   "source": [
    "from sklearn.model_selection import train_test_split\n",
    "from sklearn.feature_extraction.text import TfidfVectorizer\n",
    "from sklearn.feature_extraction.text import CountVectorizer"
   ]
  },
  {
   "cell_type": "markdown",
   "id": "b84cbc10",
   "metadata": {},
   "source": [
    "**Machine Learning Libraries**"
   ]
  },
  {
   "cell_type": "code",
   "execution_count": null,
   "id": "0d2e3794",
   "metadata": {},
   "outputs": [],
   "source": [
    "from sklearn.linear_model import LogisticRegression\n",
    "from sklearn.ensemble import RandomForestClassifier\n",
    "from sklearn.naive_bayes import MultinomialNB"
   ]
  },
  {
   "cell_type": "code",
   "execution_count": null,
   "id": "3863b09b",
   "metadata": {},
   "outputs": [],
   "source": [
    "import pickle"
   ]
  },
  {
   "cell_type": "code",
   "execution_count": null,
   "id": "2635164f",
   "metadata": {},
   "outputs": [],
   "source": [
    "df = pd.read_csv ('cleaned_data_with_char_seq_removal.csv')\n",
    "df"
   ]
  },
  {
   "cell_type": "markdown",
   "id": "7043f4f4",
   "metadata": {},
   "source": [
    "## Feature Engineering"
   ]
  },
  {
   "cell_type": "markdown",
   "id": "8065ddb6",
   "metadata": {},
   "source": [
    "### Splitting the Dataset into Train, Val, and Test Split"
   ]
  },
  {
   "cell_type": "code",
   "execution_count": null,
   "id": "9f62e98e",
   "metadata": {},
   "outputs": [],
   "source": [
    "X = df ['text']\n",
    "X"
   ]
  },
  {
   "cell_type": "code",
   "execution_count": null,
   "id": "25606e9e",
   "metadata": {},
   "outputs": [],
   "source": [
    "y = df ['class']\n",
    "y"
   ]
  },
  {
   "cell_type": "code",
   "execution_count": null,
   "id": "8b6e71aa",
   "metadata": {},
   "outputs": [],
   "source": [
    "X_train, X_test, y_train, y_test = train_test_split(X, y, test_size = 0.2,\n",
    "                                                    stratify = y,\n",
    "                                                    random_state = 42, \n",
    "                                                    shuffle = True)"
   ]
  },
  {
   "cell_type": "code",
   "execution_count": null,
   "id": "d964d5fd",
   "metadata": {},
   "outputs": [],
   "source": [
    "X_train, X_val, y_train, y_val = train_test_split(X_train, \n",
    "                                                  y_train, \n",
    "                                                  test_size = 0.1,\n",
    "                                                  stratify = y_train,\n",
    "                                                  random_state = 42, \n",
    "                                                  shuffle = True)"
   ]
  },
  {
   "cell_type": "code",
   "execution_count": null,
   "id": "bacbcee8",
   "metadata": {},
   "outputs": [],
   "source": [
    "print('Train input  shape: ', X_train.shape)\n",
    "print('Train output shape: ', y_train.shape)"
   ]
  },
  {
   "cell_type": "code",
   "execution_count": null,
   "id": "fe3868a5",
   "metadata": {},
   "outputs": [],
   "source": [
    "print('Val input  shape: ', X_val.shape)\n",
    "print('Val output shape: ', y_val.shape)"
   ]
  },
  {
   "cell_type": "code",
   "execution_count": null,
   "id": "afc8d96a",
   "metadata": {},
   "outputs": [],
   "source": [
    "print('Test input  shape: ', X_test.shape)\n",
    "print('Test output shape: ', y_test.shape)"
   ]
  },
  {
   "cell_type": "code",
   "execution_count": null,
   "id": "b0139b73",
   "metadata": {},
   "outputs": [],
   "source": [
    "train_df = pd.concat([X_train, y_train], axis = 1).reset_index(drop = True)\n",
    "train_df"
   ]
  },
  {
   "cell_type": "code",
   "execution_count": null,
   "id": "25b65055",
   "metadata": {},
   "outputs": [],
   "source": [
    "val_df = pd.concat([X_val, y_val], axis = 1).reset_index(drop = True)\n",
    "val_df"
   ]
  },
  {
   "cell_type": "code",
   "execution_count": null,
   "id": "4ceb3a27",
   "metadata": {},
   "outputs": [],
   "source": [
    "test_df = pd.concat([X_test, y_test], axis = 1).reset_index(drop = True)\n",
    "test_df"
   ]
  },
  {
   "cell_type": "markdown",
   "id": "bc529354",
   "metadata": {},
   "source": [
    "### Tokenizing with TF-IDF Vectorizer"
   ]
  },
  {
   "cell_type": "markdown",
   "id": "bcae0394",
   "metadata": {},
   "source": [
    "We create a `TfidfVectorizer` object."
   ]
  },
  {
   "cell_type": "code",
   "execution_count": null,
   "id": "19a4e751",
   "metadata": {},
   "outputs": [],
   "source": [
    "tfidf_vectorizer = TfidfVectorizer()"
   ]
  },
  {
   "cell_type": "markdown",
   "id": "d9f2686b",
   "metadata": {},
   "source": [
    "We make another vectorizer object that takes the top 5000 features."
   ]
  },
  {
   "cell_type": "code",
   "execution_count": null,
   "id": "2084a52f",
   "metadata": {},
   "outputs": [],
   "source": [
    "tfidf_vectorizer_5000 = TfidfVectorizer(max_features = 5000)"
   ]
  },
  {
   "cell_type": "markdown",
   "id": "2b485ead",
   "metadata": {},
   "source": [
    "**Train Data**"
   ]
  },
  {
   "cell_type": "code",
   "execution_count": null,
   "id": "20ccc8e6",
   "metadata": {},
   "outputs": [],
   "source": [
    "tfidf_train = tfidf_vectorizer.fit_transform(X_train)"
   ]
  },
  {
   "cell_type": "code",
   "execution_count": null,
   "id": "417ac3e4",
   "metadata": {},
   "outputs": [],
   "source": [
    "tfidf_train_5000 = tfidf_vectorizer_5000.fit_transform(X_train)"
   ]
  },
  {
   "cell_type": "markdown",
   "id": "5cec4e0f",
   "metadata": {},
   "source": [
    "**Validation Data**"
   ]
  },
  {
   "cell_type": "code",
   "execution_count": null,
   "id": "91d6b5c3",
   "metadata": {},
   "outputs": [],
   "source": [
    "tfidf_val = tfidf_vectorizer.transform(X_val)"
   ]
  },
  {
   "cell_type": "code",
   "execution_count": null,
   "id": "b30b3401",
   "metadata": {},
   "outputs": [],
   "source": [
    "tfidf_val_5000 = tfidf_vectorizer_5000.transform(X_val)"
   ]
  },
  {
   "cell_type": "markdown",
   "id": "b93ba04a",
   "metadata": {},
   "source": [
    "**Test Data**"
   ]
  },
  {
   "cell_type": "code",
   "execution_count": null,
   "id": "ef62d031",
   "metadata": {},
   "outputs": [],
   "source": [
    "tfidf_test = tfidf_vectorizer.transform(X_test)"
   ]
  },
  {
   "cell_type": "code",
   "execution_count": null,
   "id": "84ef0015",
   "metadata": {},
   "outputs": [],
   "source": [
    "tfidf_test_5000 = tfidf_vectorizer_5000.transform(X_test)"
   ]
  },
  {
   "cell_type": "markdown",
   "id": "f054e945",
   "metadata": {},
   "source": [
    "### Tokenizing with Count Vectorizer"
   ]
  },
  {
   "cell_type": "markdown",
   "id": "5a0b2f85",
   "metadata": {},
   "source": [
    "We create a `CountVectorizer` object."
   ]
  },
  {
   "cell_type": "code",
   "execution_count": null,
   "id": "e7b22bc5",
   "metadata": {},
   "outputs": [],
   "source": [
    "count_vectorizer = CountVectorizer()"
   ]
  },
  {
   "cell_type": "markdown",
   "id": "3a578133",
   "metadata": {},
   "source": [
    "We make another vectorizer object that takes the top 5000 features."
   ]
  },
  {
   "cell_type": "code",
   "execution_count": null,
   "id": "d5ab496e",
   "metadata": {},
   "outputs": [],
   "source": [
    "count_vectorizer_5000 = CountVectorizer(max_features = 5000)"
   ]
  },
  {
   "cell_type": "markdown",
   "id": "ca4b67bc",
   "metadata": {},
   "source": [
    "**Train Data**"
   ]
  },
  {
   "cell_type": "code",
   "execution_count": null,
   "id": "6bd1990d",
   "metadata": {},
   "outputs": [],
   "source": [
    "count_train = count_vectorizer.fit_transform(X_train)"
   ]
  },
  {
   "cell_type": "code",
   "execution_count": null,
   "id": "910630c3",
   "metadata": {},
   "outputs": [],
   "source": [
    "count_train_5000 = count_vectorizer_5000.fit_transform(X_train)"
   ]
  },
  {
   "cell_type": "markdown",
   "id": "5da38726",
   "metadata": {},
   "source": [
    "**Validation Data**"
   ]
  },
  {
   "cell_type": "code",
   "execution_count": null,
   "id": "6388c235",
   "metadata": {},
   "outputs": [],
   "source": [
    "count_val = count_vectorizer.transform(X_val)"
   ]
  },
  {
   "cell_type": "code",
   "execution_count": null,
   "id": "23954250",
   "metadata": {},
   "outputs": [],
   "source": [
    "count_val_5000 = count_vectorizer_5000.transform(X_val)"
   ]
  },
  {
   "cell_type": "markdown",
   "id": "f3bf38c8",
   "metadata": {},
   "source": [
    "**Test Data**"
   ]
  },
  {
   "cell_type": "code",
   "execution_count": null,
   "id": "3d6434d4",
   "metadata": {},
   "outputs": [],
   "source": [
    "count_test = count_vectorizer.transform(X_test)"
   ]
  },
  {
   "cell_type": "code",
   "execution_count": null,
   "id": "aae45ddb",
   "metadata": {},
   "outputs": [],
   "source": [
    "count_test_500 = count_vectorizer.transform(X_test)"
   ]
  },
  {
   "cell_type": "markdown",
   "id": "ac90acc4",
   "metadata": {},
   "source": [
    "## Modeling and Evaluation"
   ]
  },
  {
   "cell_type": "markdown",
   "id": "8aa8d09a",
   "metadata": {},
   "source": [
    "### Defining the Functions"
   ]
  },
  {
   "cell_type": "code",
   "execution_count": null,
   "id": "baa1460d",
   "metadata": {},
   "outputs": [],
   "source": [
    "def scores (y_true, y_pred):\n",
    "    accuracy = accuracy_score(y_true = y_true, y_pred = y_pred) * 100\n",
    "    f1_micro_average = f1_score(y_true = y_true, y_pred = y_pred, average = 'micro') * 100\n",
    "    f1_macro_average = f1_score(y_true = y_true, y_pred = y_pred, average = 'macro') * 100\n",
    "    hamming_loss_score = hamming_loss(y_true = y_true, y_pred = y_pred) * 100\n",
    "    \n",
    "    return accuracy, f1_micro_average, f1_macro_average, hamming_loss_score"
   ]
  },
  {
   "cell_type": "code",
   "execution_count": null,
   "id": "8672919d",
   "metadata": {},
   "outputs": [],
   "source": [
    "def print_scores (accuracy, f1_micro_average, f1_macro_average, hamming_loss_score):\n",
    "    print('Accuracy: ', accuracy, '%')\n",
    "    print('F1 Macro Average: ', f1_macro_average, '%')\n",
    "    print('F1 Micro Average: ', f1_micro_average, '%')\n",
    "    print('Hamming Loss: ', hamming_loss_score, '%')"
   ]
  },
  {
   "cell_type": "code",
   "execution_count": null,
   "id": "e093db09",
   "metadata": {},
   "outputs": [],
   "source": [
    "def train_model(base_model, X_train, y_train, X_test, y_test):\n",
    "    test_predictions = np.zeros((len(y_test), 1))   \n",
    "                                                       \n",
    "    model = base_model\n",
    "    model.fit(X_train, y_train)   \n",
    "    \n",
    "    train_predictions = model.predict(X_train)                      \n",
    "    accuracy, f1_micro_average, f1_macro_average, hamming_loss_score = scores (y_train, train_predictions)    \n",
    "    print_scores (accuracy, f1_micro_average, f1_macro_average, hamming_loss_score)\n",
    "\n",
    "    test_predictions = model.predict(X_test)       \n",
    "                  \n",
    "    return model, test_predictions"
   ]
  },
  {
   "cell_type": "code",
   "execution_count": null,
   "id": "5ed3b2af",
   "metadata": {},
   "outputs": [],
   "source": [
    "def tune_and_train_model(model, hyperparameters,\n",
    "                          X_train, y_train, \n",
    "                          X_test, y_test, \n",
    "                          scoring='accuracy', cv = 5):\n",
    "    \n",
    "    print('Tuning', str(model) + '...')\n",
    "        \n",
    "    model_cv = GridSearchCV(model, hyperparameters, cv = cv, scoring = scoring)\n",
    "    model_cv.fit(X_train, y_train)\n",
    "        \n",
    "    train_predictions = model_cv.predict(X_train)                              \n",
    "    accuracy = accuracy_score(train_predictions, y_train)           \n",
    "        \n",
    "    test_predictions = model_cv.predict(X_test)               \n",
    "    \n",
    "    return model_cv.best_estimator_, test_predictions"
   ]
  },
  {
   "cell_type": "markdown",
   "id": "53b33893",
   "metadata": {},
   "source": [
    "### Logistic Regression"
   ]
  },
  {
   "cell_type": "markdown",
   "id": "088babf6",
   "metadata": {},
   "source": [
    "#### Model Training "
   ]
  },
  {
   "cell_type": "code",
   "execution_count": null,
   "id": "d58cb605",
   "metadata": {},
   "outputs": [],
   "source": [
    "log_reg = LogisticRegression()"
   ]
  },
  {
   "cell_type": "code",
   "execution_count": null,
   "id": "17bcc8c8",
   "metadata": {},
   "outputs": [],
   "source": [
    "log_reg, lr_test_predictions = train_model (log_reg, X_train, y_train, X_test, y_test)"
   ]
  },
  {
   "cell_type": "code",
   "execution_count": null,
   "id": "8291fc31",
   "metadata": {},
   "outputs": [],
   "source": [
    "ConfusionMatrixDisplay(confusion_matrix(y_test, lr_test_predictions)).plot()"
   ]
  },
  {
   "cell_type": "code",
   "execution_count": null,
   "id": "85048d2c",
   "metadata": {},
   "outputs": [],
   "source": [
    "accuracy, f1_micro_average, f1_macro_average, hamming_loss_score = scores (y_test, lr_test_predictions)   \n",
    "print_scores (accuracy, f1_micro_average, f1_macro_average, hamming_loss_score)"
   ]
  },
  {
   "cell_type": "markdown",
   "id": "50b39953",
   "metadata": {},
   "source": [
    "#### Hyperparameter Tuning"
   ]
  },
  {
   "cell_type": "code",
   "execution_count": null,
   "id": "64898cea",
   "metadata": {},
   "outputs": [],
   "source": [
    "lr_hp_space = [{\n",
    "    'C' : [0.01, 0.1, 1, 10],\n",
    "    'max_iter' : [50, 100, 300, 600, 900, 1100] \n",
    "}]"
   ]
  },
  {
   "cell_type": "code",
   "execution_count": null,
   "id": "3f2293d1",
   "metadata": {},
   "outputs": [],
   "source": [
    "log_reg = LogisticRegression()"
   ]
  },
  {
   "cell_type": "code",
   "execution_count": null,
   "id": "e327fa72",
   "metadata": {},
   "outputs": [],
   "source": [
    "lr_tuned_model, lr_tuned_test_predictions = tune_and_train_model (log_reg, lr_hp_space, \n",
    "                                                                  X_train, y_train, \n",
    "                                                                  X_test, y_test)"
   ]
  },
  {
   "cell_type": "markdown",
   "id": "5242d571",
   "metadata": {},
   "source": [
    "#### Evaluation"
   ]
  },
  {
   "cell_type": "code",
   "execution_count": null,
   "id": "7f5fbb64",
   "metadata": {},
   "outputs": [],
   "source": []
  },
  {
   "cell_type": "markdown",
   "id": "c5881e5e",
   "metadata": {},
   "source": [
    "#### Feature Importance"
   ]
  },
  {
   "cell_type": "code",
   "execution_count": null,
   "id": "29878722",
   "metadata": {},
   "outputs": [],
   "source": []
  },
  {
   "cell_type": "markdown",
   "id": "cc8b739c",
   "metadata": {},
   "source": [
    "### Multinomial Naive Bayes"
   ]
  },
  {
   "cell_type": "markdown",
   "id": "4f7c7419",
   "metadata": {},
   "source": [
    "#### Model Training "
   ]
  },
  {
   "cell_type": "code",
   "execution_count": null,
   "id": "535848a2",
   "metadata": {},
   "outputs": [],
   "source": []
  },
  {
   "cell_type": "markdown",
   "id": "3c5b01a0",
   "metadata": {},
   "source": [
    "#### Hyperparameter Tuning"
   ]
  },
  {
   "cell_type": "code",
   "execution_count": null,
   "id": "a00b09a9",
   "metadata": {},
   "outputs": [],
   "source": []
  },
  {
   "cell_type": "markdown",
   "id": "8f89b956",
   "metadata": {},
   "source": [
    "#### Evaluation"
   ]
  },
  {
   "cell_type": "code",
   "execution_count": null,
   "id": "d719e947",
   "metadata": {},
   "outputs": [],
   "source": []
  },
  {
   "cell_type": "markdown",
   "id": "9708b173",
   "metadata": {},
   "source": [
    "#### Feature Importance"
   ]
  },
  {
   "cell_type": "code",
   "execution_count": null,
   "id": "752308c8",
   "metadata": {},
   "outputs": [],
   "source": []
  },
  {
   "cell_type": "markdown",
   "id": "4943feeb",
   "metadata": {},
   "source": [
    "### Random Forest Classifier"
   ]
  },
  {
   "cell_type": "markdown",
   "id": "b737c86c",
   "metadata": {},
   "source": [
    "#### Model Training "
   ]
  },
  {
   "cell_type": "code",
   "execution_count": null,
   "id": "5128f5f8",
   "metadata": {},
   "outputs": [],
   "source": []
  },
  {
   "cell_type": "markdown",
   "id": "c69c72e9",
   "metadata": {},
   "source": [
    "#### Hyperparameter Tuning"
   ]
  },
  {
   "cell_type": "code",
   "execution_count": null,
   "id": "9a15df10",
   "metadata": {},
   "outputs": [],
   "source": []
  },
  {
   "cell_type": "markdown",
   "id": "702de348",
   "metadata": {},
   "source": [
    "#### Evaluation"
   ]
  },
  {
   "cell_type": "code",
   "execution_count": null,
   "id": "52ce798a",
   "metadata": {},
   "outputs": [],
   "source": []
  },
  {
   "cell_type": "markdown",
   "id": "c7d2a85a",
   "metadata": {},
   "source": [
    "#### Feature Importance"
   ]
  },
  {
   "cell_type": "code",
   "execution_count": null,
   "id": "590c49e0",
   "metadata": {},
   "outputs": [],
   "source": []
  }
 ],
 "metadata": {
  "kernelspec": {
   "display_name": "Python 3 (ipykernel)",
   "language": "python",
   "name": "python3"
  },
  "language_info": {
   "codemirror_mode": {
    "name": "ipython",
    "version": 3
   },
   "file_extension": ".py",
   "mimetype": "text/x-python",
   "name": "python",
   "nbconvert_exporter": "python",
   "pygments_lexer": "ipython3",
   "version": "3.9.16"
  }
 },
 "nbformat": 4,
 "nbformat_minor": 5
}
