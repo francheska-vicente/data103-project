{
 "cells": [
  {
   "cell_type": "markdown",
   "id": "86c1ebb4",
   "metadata": {},
   "source": [
    "# **Insert Title Here**\n",
    "**DATA103 S11 Group 4**\n",
    "- GOZON, Jean Pauline D.\n",
    "- JAMIAS, Gillian Nicole A.\n",
    "- MARCELO Andrea Jean C. \n",
    "- REYES, Anton Gabriel G.\n",
    "- VICENTE, Francheska Josefa"
   ]
  },
  {
   "cell_type": "markdown",
   "id": "5b0aebb6",
   "metadata": {},
   "source": [
    "## Requirements and Imports"
   ]
  },
  {
   "cell_type": "markdown",
   "id": "13661a63",
   "metadata": {},
   "source": [
    "### Imports"
   ]
  },
  {
   "cell_type": "markdown",
   "id": "8b3cc136",
   "metadata": {},
   "source": [
    "**Basic Libraries**\n",
    "\n",
    "* `numpy` contains a large collection of mathematical functions\n",
    "* `pandas` contains functions that are designed for data manipulation and data analysis"
   ]
  },
  {
   "cell_type": "code",
   "execution_count": 1,
   "id": "b9ca2cb7",
   "metadata": {},
   "outputs": [],
   "source": [
    "import numpy as np\n",
    "import pandas as pd\n",
    "import datasets"
   ]
  },
  {
   "cell_type": "markdown",
   "id": "ec8bcdf0",
   "metadata": {},
   "source": [
    "**Natural Language Processing Libraries**\n",
    "* `TFidfVectorizer` converts the given text documents into a matrix, which has TF-IDF features\n",
    "* `CountVectorizer` converts the given text documents into a matrix, which has the counts of the tokens"
   ]
  },
  {
   "cell_type": "code",
   "execution_count": 2,
   "id": "ffb97206",
   "metadata": {},
   "outputs": [],
   "source": [
    "from sklearn.model_selection import train_test_split\n",
    "from sklearn.feature_extraction.text import TfidfVectorizer\n",
    "from sklearn.feature_extraction.text import CountVectorizer"
   ]
  },
  {
   "cell_type": "markdown",
   "id": "279a18b7",
   "metadata": {},
   "source": [
    "**Machine Learning Libraries**"
   ]
  },
  {
   "cell_type": "code",
   "execution_count": 3,
   "id": "3dbf0cde",
   "metadata": {},
   "outputs": [],
   "source": [
    "from sklearn.linear_model import LogisticRegression\n",
    "from sklearn.ensemble import RandomForestClassifier\n",
    "from sklearn.naive_bayes import MultinomialNB"
   ]
  },
  {
   "cell_type": "code",
   "execution_count": 4,
   "id": "1627854b",
   "metadata": {},
   "outputs": [],
   "source": [
    "import pickle"
   ]
  },
  {
   "cell_type": "code",
   "execution_count": 5,
   "id": "28eb7b2a",
   "metadata": {},
   "outputs": [
    {
     "data": {
      "text/html": [
       "<div>\n",
       "<style scoped>\n",
       "    .dataframe tbody tr th:only-of-type {\n",
       "        vertical-align: middle;\n",
       "    }\n",
       "\n",
       "    .dataframe tbody tr th {\n",
       "        vertical-align: top;\n",
       "    }\n",
       "\n",
       "    .dataframe thead th {\n",
       "        text-align: right;\n",
       "    }\n",
       "</style>\n",
       "<table border=\"1\" class=\"dataframe\">\n",
       "  <thead>\n",
       "    <tr style=\"text-align: right;\">\n",
       "      <th></th>\n",
       "      <th>class</th>\n",
       "      <th>text</th>\n",
       "    </tr>\n",
       "  </thead>\n",
       "  <tbody>\n",
       "    <tr>\n",
       "      <th>0</th>\n",
       "      <td>0</td>\n",
       "      <td>'Its not a viable option, and youll be leaving...</td>\n",
       "    </tr>\n",
       "    <tr>\n",
       "      <th>1</th>\n",
       "      <td>1</td>\n",
       "      <td>'It can be hard to appreciate the notion that ...</td>\n",
       "    </tr>\n",
       "    <tr>\n",
       "      <th>2</th>\n",
       "      <td>1</td>\n",
       "      <td>'Hi, so last night i was sitting on the ledge ...</td>\n",
       "    </tr>\n",
       "    <tr>\n",
       "      <th>3</th>\n",
       "      <td>1</td>\n",
       "      <td>'I tried to kill my self once and failed badly...</td>\n",
       "    </tr>\n",
       "    <tr>\n",
       "      <th>4</th>\n",
       "      <td>1</td>\n",
       "      <td>'Hi NEM3030. What sorts of things do you enjoy...</td>\n",
       "    </tr>\n",
       "    <tr>\n",
       "      <th>...</th>\n",
       "      <td>...</td>\n",
       "      <td>...</td>\n",
       "    </tr>\n",
       "    <tr>\n",
       "      <th>242155</th>\n",
       "      <td>0</td>\n",
       "      <td>If you don't like rock then your not going to ...</td>\n",
       "    </tr>\n",
       "    <tr>\n",
       "      <th>242156</th>\n",
       "      <td>0</td>\n",
       "      <td>You how you can tell i have so many friends an...</td>\n",
       "    </tr>\n",
       "    <tr>\n",
       "      <th>242157</th>\n",
       "      <td>0</td>\n",
       "      <td>pee probably tastes like salty tea😏💦‼️ can som...</td>\n",
       "    </tr>\n",
       "    <tr>\n",
       "      <th>242158</th>\n",
       "      <td>1</td>\n",
       "      <td>The usual stuff you find hereI'm not posting t...</td>\n",
       "    </tr>\n",
       "    <tr>\n",
       "      <th>242159</th>\n",
       "      <td>0</td>\n",
       "      <td>I still haven't beaten the first boss in Hollo...</td>\n",
       "    </tr>\n",
       "  </tbody>\n",
       "</table>\n",
       "<p>242160 rows × 2 columns</p>\n",
       "</div>"
      ],
      "text/plain": [
       "        class                                               text\n",
       "0           0  'Its not a viable option, and youll be leaving...\n",
       "1           1  'It can be hard to appreciate the notion that ...\n",
       "2           1  'Hi, so last night i was sitting on the ledge ...\n",
       "3           1  'I tried to kill my self once and failed badly...\n",
       "4           1  'Hi NEM3030. What sorts of things do you enjoy...\n",
       "...       ...                                                ...\n",
       "242155      0  If you don't like rock then your not going to ...\n",
       "242156      0  You how you can tell i have so many friends an...\n",
       "242157      0  pee probably tastes like salty tea😏💦‼️ can som...\n",
       "242158      1  The usual stuff you find hereI'm not posting t...\n",
       "242159      0  I still haven't beaten the first boss in Hollo...\n",
       "\n",
       "[242160 rows x 2 columns]"
      ]
     },
     "execution_count": 5,
     "metadata": {},
     "output_type": "execute_result"
    }
   ],
   "source": [
    "df = pd.read_csv ('cleaned_data_with_char_seq_removal.csv')\n",
    "df"
   ]
  },
  {
   "cell_type": "markdown",
   "id": "21732b0e",
   "metadata": {},
   "source": [
    "## Feature Engineering"
   ]
  },
  {
   "cell_type": "code",
   "execution_count": 6,
   "id": "6087e0df",
   "metadata": {},
   "outputs": [],
   "source": [
    "main_directory = './saved_models/trad_ml/vectorizers/'"
   ]
  },
  {
   "cell_type": "code",
   "execution_count": 7,
   "id": "6767f7ff",
   "metadata": {},
   "outputs": [],
   "source": [
    "def save_vectorizers (vectorizer, vectorizer_name):\n",
    "    vectorizer_filename = main_directory + vectorizer_name + '.pkl'\n",
    "    \n",
    "    with open(vectorizer_filename, 'wb') as file:\n",
    "        pickle.dump(vectorizer, file)"
   ]
  },
  {
   "cell_type": "markdown",
   "id": "8e37fb5e",
   "metadata": {},
   "source": [
    "### Splitting the Dataset into Train, Val, and Test Split"
   ]
  },
  {
   "cell_type": "code",
   "execution_count": 8,
   "id": "465abc6a",
   "metadata": {},
   "outputs": [
    {
     "data": {
      "text/plain": [
       "0         'Its not a viable option, and youll be leaving...\n",
       "1         'It can be hard to appreciate the notion that ...\n",
       "2         'Hi, so last night i was sitting on the ledge ...\n",
       "3         'I tried to kill my self once and failed badly...\n",
       "4         'Hi NEM3030. What sorts of things do you enjoy...\n",
       "                                ...                        \n",
       "242155    If you don't like rock then your not going to ...\n",
       "242156    You how you can tell i have so many friends an...\n",
       "242157    pee probably tastes like salty tea😏💦‼️ can som...\n",
       "242158    The usual stuff you find hereI'm not posting t...\n",
       "242159    I still haven't beaten the first boss in Hollo...\n",
       "Name: text, Length: 242160, dtype: object"
      ]
     },
     "execution_count": 8,
     "metadata": {},
     "output_type": "execute_result"
    }
   ],
   "source": [
    "X = df ['text']\n",
    "X"
   ]
  },
  {
   "cell_type": "code",
   "execution_count": 9,
   "id": "742f0e0a",
   "metadata": {},
   "outputs": [
    {
     "data": {
      "text/plain": [
       "0         0\n",
       "1         1\n",
       "2         1\n",
       "3         1\n",
       "4         1\n",
       "         ..\n",
       "242155    0\n",
       "242156    0\n",
       "242157    0\n",
       "242158    1\n",
       "242159    0\n",
       "Name: class, Length: 242160, dtype: int64"
      ]
     },
     "execution_count": 9,
     "metadata": {},
     "output_type": "execute_result"
    }
   ],
   "source": [
    "y = df ['class']\n",
    "y"
   ]
  },
  {
   "cell_type": "code",
   "execution_count": 10,
   "id": "6eedd5d1",
   "metadata": {},
   "outputs": [],
   "source": [
    "X_train, X_test, y_train, y_test = train_test_split(X, y, test_size = 0.2,\n",
    "                                                    stratify = y,\n",
    "                                                    random_state = 42, \n",
    "                                                    shuffle = True)"
   ]
  },
  {
   "cell_type": "code",
   "execution_count": 11,
   "id": "c5c5a13f",
   "metadata": {},
   "outputs": [],
   "source": [
    "X_train, X_val, y_train, y_val = train_test_split(X_train, \n",
    "                                                  y_train, \n",
    "                                                  test_size = 0.1,\n",
    "                                                  stratify = y_train,\n",
    "                                                  random_state = 42, \n",
    "                                                  shuffle = True)"
   ]
  },
  {
   "cell_type": "code",
   "execution_count": 12,
   "id": "b373e898",
   "metadata": {},
   "outputs": [
    {
     "name": "stdout",
     "output_type": "stream",
     "text": [
      "Train input  shape:  (174355,)\n",
      "Train output shape:  (174355,)\n"
     ]
    }
   ],
   "source": [
    "print('Train input  shape: ', X_train.shape)\n",
    "print('Train output shape: ', y_train.shape)"
   ]
  },
  {
   "cell_type": "code",
   "execution_count": 13,
   "id": "8c5382c8",
   "metadata": {},
   "outputs": [
    {
     "name": "stdout",
     "output_type": "stream",
     "text": [
      "Val input  shape:  (19373,)\n",
      "Val output shape:  (19373,)\n"
     ]
    }
   ],
   "source": [
    "print('Val input  shape: ', X_val.shape)\n",
    "print('Val output shape: ', y_val.shape)"
   ]
  },
  {
   "cell_type": "code",
   "execution_count": 14,
   "id": "0a75c996",
   "metadata": {},
   "outputs": [
    {
     "name": "stdout",
     "output_type": "stream",
     "text": [
      "Test input  shape:  (48432,)\n",
      "Test output shape:  (48432,)\n"
     ]
    }
   ],
   "source": [
    "print('Test input  shape: ', X_test.shape)\n",
    "print('Test output shape: ', y_test.shape)"
   ]
  },
  {
   "cell_type": "code",
   "execution_count": 15,
   "id": "32e29f54",
   "metadata": {},
   "outputs": [
    {
     "data": {
      "text/html": [
       "<div>\n",
       "<style scoped>\n",
       "    .dataframe tbody tr th:only-of-type {\n",
       "        vertical-align: middle;\n",
       "    }\n",
       "\n",
       "    .dataframe tbody tr th {\n",
       "        vertical-align: top;\n",
       "    }\n",
       "\n",
       "    .dataframe thead th {\n",
       "        text-align: right;\n",
       "    }\n",
       "</style>\n",
       "<table border=\"1\" class=\"dataframe\">\n",
       "  <thead>\n",
       "    <tr style=\"text-align: right;\">\n",
       "      <th></th>\n",
       "      <th>text</th>\n",
       "      <th>class</th>\n",
       "    </tr>\n",
       "  </thead>\n",
       "  <tbody>\n",
       "    <tr>\n",
       "      <th>0</th>\n",
       "      <td>How do you explain to your family that you wer...</td>\n",
       "      <td>0</td>\n",
       "    </tr>\n",
       "    <tr>\n",
       "      <th>1</th>\n",
       "      <td>I DONT UNDERSTAND THE US DEBT WHO DO THEY OWE ...</td>\n",
       "      <td>0</td>\n",
       "    </tr>\n",
       "    <tr>\n",
       "      <th>2</th>\n",
       "      <td>FireIt’s been a bit but I still think of her a...</td>\n",
       "      <td>1</td>\n",
       "    </tr>\n",
       "    <tr>\n",
       "      <th>3</th>\n",
       "      <td>AITA for telling my wife (34F) that reddit agr...</td>\n",
       "      <td>0</td>\n",
       "    </tr>\n",
       "    <tr>\n",
       "      <th>4</th>\n",
       "      <td>Join among us SGGFIF Jesjeuejjejejeeieieijdjdj...</td>\n",
       "      <td>0</td>\n",
       "    </tr>\n",
       "    <tr>\n",
       "      <th>...</th>\n",
       "      <td>...</td>\n",
       "      <td>...</td>\n",
       "    </tr>\n",
       "    <tr>\n",
       "      <th>174350</th>\n",
       "      <td>Fellow teenagers, I have been influenced by th...</td>\n",
       "      <td>0</td>\n",
       "    </tr>\n",
       "    <tr>\n",
       "      <th>174351</th>\n",
       "      <td>I felt like talkingSo I was just outside at 01...</td>\n",
       "      <td>1</td>\n",
       "    </tr>\n",
       "    <tr>\n",
       "      <th>174352</th>\n",
       "      <td>i am trying to but i just cant i have everythi...</td>\n",
       "      <td>1</td>\n",
       "    </tr>\n",
       "    <tr>\n",
       "      <th>174353</th>\n",
       "      <td>I just want my suffering to endAll I have hear...</td>\n",
       "      <td>1</td>\n",
       "    </tr>\n",
       "    <tr>\n",
       "      <th>174354</th>\n",
       "      <td>How can you stand the pain?While I was student...</td>\n",
       "      <td>1</td>\n",
       "    </tr>\n",
       "  </tbody>\n",
       "</table>\n",
       "<p>174355 rows × 2 columns</p>\n",
       "</div>"
      ],
      "text/plain": [
       "                                                     text  class\n",
       "0       How do you explain to your family that you wer...      0\n",
       "1       I DONT UNDERSTAND THE US DEBT WHO DO THEY OWE ...      0\n",
       "2       FireIt’s been a bit but I still think of her a...      1\n",
       "3       AITA for telling my wife (34F) that reddit agr...      0\n",
       "4       Join among us SGGFIF Jesjeuejjejejeeieieijdjdj...      0\n",
       "...                                                   ...    ...\n",
       "174350  Fellow teenagers, I have been influenced by th...      0\n",
       "174351  I felt like talkingSo I was just outside at 01...      1\n",
       "174352  i am trying to but i just cant i have everythi...      1\n",
       "174353  I just want my suffering to endAll I have hear...      1\n",
       "174354  How can you stand the pain?While I was student...      1\n",
       "\n",
       "[174355 rows x 2 columns]"
      ]
     },
     "execution_count": 15,
     "metadata": {},
     "output_type": "execute_result"
    }
   ],
   "source": [
    "train_df = pd.concat([X_train, y_train], axis = 1).reset_index(drop = True)\n",
    "train_df"
   ]
  },
  {
   "cell_type": "code",
   "execution_count": 16,
   "id": "c7911f04",
   "metadata": {},
   "outputs": [
    {
     "data": {
      "text/html": [
       "<div>\n",
       "<style scoped>\n",
       "    .dataframe tbody tr th:only-of-type {\n",
       "        vertical-align: middle;\n",
       "    }\n",
       "\n",
       "    .dataframe tbody tr th {\n",
       "        vertical-align: top;\n",
       "    }\n",
       "\n",
       "    .dataframe thead th {\n",
       "        text-align: right;\n",
       "    }\n",
       "</style>\n",
       "<table border=\"1\" class=\"dataframe\">\n",
       "  <thead>\n",
       "    <tr style=\"text-align: right;\">\n",
       "      <th></th>\n",
       "      <th>text</th>\n",
       "      <th>class</th>\n",
       "    </tr>\n",
       "  </thead>\n",
       "  <tbody>\n",
       "    <tr>\n",
       "      <th>0</th>\n",
       "      <td>Really down........just need some words of enc...</td>\n",
       "      <td>1</td>\n",
       "    </tr>\n",
       "    <tr>\n",
       "      <th>1</th>\n",
       "      <td>I’m not gonna buy a carThe day gets closer. I’...</td>\n",
       "      <td>1</td>\n",
       "    </tr>\n",
       "    <tr>\n",
       "      <th>2</th>\n",
       "      <td>Help me kill myself. Please. Please. Please.I’...</td>\n",
       "      <td>1</td>\n",
       "    </tr>\n",
       "    <tr>\n",
       "      <th>3</th>\n",
       "      <td>The only thing keeping me alive is the fact th...</td>\n",
       "      <td>1</td>\n",
       "    </tr>\n",
       "    <tr>\n",
       "      <th>4</th>\n",
       "      <td>I'm not.I'm not the sweet, determined girl eve...</td>\n",
       "      <td>1</td>\n",
       "    </tr>\n",
       "    <tr>\n",
       "      <th>...</th>\n",
       "      <td>...</td>\n",
       "      <td>...</td>\n",
       "    </tr>\n",
       "    <tr>\n",
       "      <th>19368</th>\n",
       "      <td>when she says Hi! This post seems to be relate...</td>\n",
       "      <td>0</td>\n",
       "    </tr>\n",
       "    <tr>\n",
       "      <th>19369</th>\n",
       "      <td>I gotta go to school tmmr for orientation at 9...</td>\n",
       "      <td>0</td>\n",
       "    </tr>\n",
       "    <tr>\n",
       "      <th>19370</th>\n",
       "      <td>Hey lads! Can I get some help from y'all? So.....</td>\n",
       "      <td>0</td>\n",
       "    </tr>\n",
       "    <tr>\n",
       "      <th>19371</th>\n",
       "      <td>My birthday is this coming month and it will b...</td>\n",
       "      <td>1</td>\n",
       "    </tr>\n",
       "    <tr>\n",
       "      <th>19372</th>\n",
       "      <td>Posting songs I like day 20 \\n\\nThis song is j...</td>\n",
       "      <td>0</td>\n",
       "    </tr>\n",
       "  </tbody>\n",
       "</table>\n",
       "<p>19373 rows × 2 columns</p>\n",
       "</div>"
      ],
      "text/plain": [
       "                                                    text  class\n",
       "0      Really down........just need some words of enc...      1\n",
       "1      I’m not gonna buy a carThe day gets closer. I’...      1\n",
       "2      Help me kill myself. Please. Please. Please.I’...      1\n",
       "3      The only thing keeping me alive is the fact th...      1\n",
       "4      I'm not.I'm not the sweet, determined girl eve...      1\n",
       "...                                                  ...    ...\n",
       "19368  when she says Hi! This post seems to be relate...      0\n",
       "19369  I gotta go to school tmmr for orientation at 9...      0\n",
       "19370  Hey lads! Can I get some help from y'all? So.....      0\n",
       "19371  My birthday is this coming month and it will b...      1\n",
       "19372  Posting songs I like day 20 \\n\\nThis song is j...      0\n",
       "\n",
       "[19373 rows x 2 columns]"
      ]
     },
     "execution_count": 16,
     "metadata": {},
     "output_type": "execute_result"
    }
   ],
   "source": [
    "val_df = pd.concat([X_val, y_val], axis = 1).reset_index(drop = True)\n",
    "val_df"
   ]
  },
  {
   "cell_type": "code",
   "execution_count": 17,
   "id": "141a0ccc",
   "metadata": {},
   "outputs": [
    {
     "data": {
      "text/html": [
       "<div>\n",
       "<style scoped>\n",
       "    .dataframe tbody tr th:only-of-type {\n",
       "        vertical-align: middle;\n",
       "    }\n",
       "\n",
       "    .dataframe tbody tr th {\n",
       "        vertical-align: top;\n",
       "    }\n",
       "\n",
       "    .dataframe thead th {\n",
       "        text-align: right;\n",
       "    }\n",
       "</style>\n",
       "<table border=\"1\" class=\"dataframe\">\n",
       "  <thead>\n",
       "    <tr style=\"text-align: right;\">\n",
       "      <th></th>\n",
       "      <th>text</th>\n",
       "      <th>class</th>\n",
       "    </tr>\n",
       "  </thead>\n",
       "  <tbody>\n",
       "    <tr>\n",
       "      <th>0</th>\n",
       "      <td>I just felt myself snapI have to pretend to be...</td>\n",
       "      <td>1</td>\n",
       "    </tr>\n",
       "    <tr>\n",
       "      <th>1</th>\n",
       "      <td>Are you envious of something about the opposit...</td>\n",
       "      <td>0</td>\n",
       "    </tr>\n",
       "    <tr>\n",
       "      <th>2</th>\n",
       "      <td>We get it. Men have problems, too. We never sa...</td>\n",
       "      <td>0</td>\n",
       "    </tr>\n",
       "    <tr>\n",
       "      <th>3</th>\n",
       "      <td>Happy Birthday to everyone having Birthday on ...</td>\n",
       "      <td>0</td>\n",
       "    </tr>\n",
       "    <tr>\n",
       "      <th>4</th>\n",
       "      <td>i cant deal with life any longer but ive tried...</td>\n",
       "      <td>1</td>\n",
       "    </tr>\n",
       "    <tr>\n",
       "      <th>...</th>\n",
       "      <td>...</td>\n",
       "      <td>...</td>\n",
       "    </tr>\n",
       "    <tr>\n",
       "      <th>48427</th>\n",
       "      <td>I just need to go for everyone's sakeI can't e...</td>\n",
       "      <td>1</td>\n",
       "    </tr>\n",
       "    <tr>\n",
       "      <th>48428</th>\n",
       "      <td>Hope is now goneI'm 17m and I'm considering ta...</td>\n",
       "      <td>1</td>\n",
       "    </tr>\n",
       "    <tr>\n",
       "      <th>48429</th>\n",
       "      <td>18f needs someone to talk toI understand if th...</td>\n",
       "      <td>1</td>\n",
       "    </tr>\n",
       "    <tr>\n",
       "      <th>48430</th>\n",
       "      <td>Help mePlease someone help me, just pm me.\\nI'...</td>\n",
       "      <td>1</td>\n",
       "    </tr>\n",
       "    <tr>\n",
       "      <th>48431</th>\n",
       "      <td>bf application 😎 yo. i’m 17 i’m a gorl. and th...</td>\n",
       "      <td>0</td>\n",
       "    </tr>\n",
       "  </tbody>\n",
       "</table>\n",
       "<p>48432 rows × 2 columns</p>\n",
       "</div>"
      ],
      "text/plain": [
       "                                                    text  class\n",
       "0      I just felt myself snapI have to pretend to be...      1\n",
       "1      Are you envious of something about the opposit...      0\n",
       "2      We get it. Men have problems, too. We never sa...      0\n",
       "3      Happy Birthday to everyone having Birthday on ...      0\n",
       "4      i cant deal with life any longer but ive tried...      1\n",
       "...                                                  ...    ...\n",
       "48427  I just need to go for everyone's sakeI can't e...      1\n",
       "48428  Hope is now goneI'm 17m and I'm considering ta...      1\n",
       "48429  18f needs someone to talk toI understand if th...      1\n",
       "48430  Help mePlease someone help me, just pm me.\\nI'...      1\n",
       "48431  bf application 😎 yo. i’m 17 i’m a gorl. and th...      0\n",
       "\n",
       "[48432 rows x 2 columns]"
      ]
     },
     "execution_count": 17,
     "metadata": {},
     "output_type": "execute_result"
    }
   ],
   "source": [
    "test_df = pd.concat([X_test, y_test], axis = 1).reset_index(drop = True)\n",
    "test_df"
   ]
  },
  {
   "cell_type": "markdown",
   "id": "08ce9ccb",
   "metadata": {},
   "source": [
    "### Tokenizing with TF-IDF Vectorizer"
   ]
  },
  {
   "cell_type": "markdown",
   "id": "db94a74f",
   "metadata": {},
   "source": [
    "We create a `TfidfVectorizer` object."
   ]
  },
  {
   "cell_type": "code",
   "execution_count": 18,
   "id": "eb2d0aba",
   "metadata": {},
   "outputs": [],
   "source": [
    "tfidf_vectorizer = TfidfVectorizer()"
   ]
  },
  {
   "cell_type": "code",
   "execution_count": 19,
   "id": "70e06082",
   "metadata": {},
   "outputs": [],
   "source": [
    "save_vectorizers(tfidf_vectorizer, 'tfidf')"
   ]
  },
  {
   "cell_type": "markdown",
   "id": "5da6a522",
   "metadata": {},
   "source": [
    "We make another vectorizer object that takes the top 5000 features."
   ]
  },
  {
   "cell_type": "code",
   "execution_count": 20,
   "id": "213c674f",
   "metadata": {},
   "outputs": [],
   "source": [
    "tfidf_vectorizer_5000 = TfidfVectorizer(max_features = 5000)"
   ]
  },
  {
   "cell_type": "code",
   "execution_count": 21,
   "id": "fb470ea3",
   "metadata": {},
   "outputs": [],
   "source": [
    "save_vectorizers(tfidf_vectorizer_5000, 'tfidf_5000')"
   ]
  },
  {
   "cell_type": "markdown",
   "id": "16d8ec72",
   "metadata": {},
   "source": [
    "**Train Data**"
   ]
  },
  {
   "cell_type": "code",
   "execution_count": 25,
   "id": "35b6ba2d",
   "metadata": {},
   "outputs": [],
   "source": [
    "tfidf_train = tfidf_vectorizer.fit_transform(X_train.values.astype('U'))"
   ]
  },
  {
   "cell_type": "code",
   "execution_count": 26,
   "id": "4e5f5cb4",
   "metadata": {},
   "outputs": [],
   "source": [
    "tfidf_train_5000 = tfidf_vectorizer_5000.fit_transform(X_train.values.astype('U'))"
   ]
  },
  {
   "cell_type": "markdown",
   "id": "1c187fea",
   "metadata": {},
   "source": [
    "**Validation Data**"
   ]
  },
  {
   "cell_type": "code",
   "execution_count": 27,
   "id": "e95b482f",
   "metadata": {},
   "outputs": [],
   "source": [
    "tfidf_val = tfidf_vectorizer.transform(X_val.values.astype('U'))"
   ]
  },
  {
   "cell_type": "code",
   "execution_count": 28,
   "id": "ca3150c1",
   "metadata": {},
   "outputs": [],
   "source": [
    "tfidf_val_5000 = tfidf_vectorizer_5000.transform(X_val.values.astype('U'))"
   ]
  },
  {
   "cell_type": "markdown",
   "id": "a7cd689f",
   "metadata": {},
   "source": [
    "**Test Data**"
   ]
  },
  {
   "cell_type": "code",
   "execution_count": 29,
   "id": "05bcfa80",
   "metadata": {},
   "outputs": [],
   "source": [
    "tfidf_test = tfidf_vectorizer.transform(X_test.values.astype('U'))"
   ]
  },
  {
   "cell_type": "code",
   "execution_count": 30,
   "id": "3bc0b304",
   "metadata": {},
   "outputs": [],
   "source": [
    "tfidf_test_5000 = tfidf_vectorizer_5000.transform(X_test.values.astype('U'))"
   ]
  },
  {
   "cell_type": "markdown",
   "id": "fc2561bb",
   "metadata": {},
   "source": [
    "### Tokenizing with Count Vectorizer"
   ]
  },
  {
   "cell_type": "markdown",
   "id": "8baf2db6",
   "metadata": {},
   "source": [
    "We create a `CountVectorizer` object."
   ]
  },
  {
   "cell_type": "code",
   "execution_count": 31,
   "id": "f32ada95",
   "metadata": {},
   "outputs": [],
   "source": [
    "count_vectorizer = CountVectorizer()"
   ]
  },
  {
   "cell_type": "code",
   "execution_count": 32,
   "id": "e24ef156",
   "metadata": {},
   "outputs": [],
   "source": [
    "save_vectorizers(count_vectorizer, 'count')"
   ]
  },
  {
   "cell_type": "markdown",
   "id": "a3d2b463",
   "metadata": {},
   "source": [
    "We make another vectorizer object that takes the top 5000 features."
   ]
  },
  {
   "cell_type": "code",
   "execution_count": 33,
   "id": "7ce94e0b",
   "metadata": {},
   "outputs": [],
   "source": [
    "count_vectorizer_5000 = CountVectorizer(max_features = 5000)"
   ]
  },
  {
   "cell_type": "code",
   "execution_count": 34,
   "id": "2324aa62",
   "metadata": {},
   "outputs": [],
   "source": [
    "save_vectorizers(count_vectorizer_5000, 'count_5000')"
   ]
  },
  {
   "cell_type": "markdown",
   "id": "ad2fa7cb",
   "metadata": {},
   "source": [
    "**Train Data**"
   ]
  },
  {
   "cell_type": "code",
   "execution_count": null,
   "id": "1b25059a",
   "metadata": {},
   "outputs": [],
   "source": [
    "count_train = count_vectorizer.fit_transform(X_train.values.astype('U'))"
   ]
  },
  {
   "cell_type": "code",
   "execution_count": null,
   "id": "1a1e2ae5",
   "metadata": {},
   "outputs": [],
   "source": [
    "count_train_5000 = count_vectorizer_5000.fit_transform(X_train.values.astype('U'))"
   ]
  },
  {
   "cell_type": "markdown",
   "id": "6673ab37",
   "metadata": {},
   "source": [
    "**Validation Data**"
   ]
  },
  {
   "cell_type": "code",
   "execution_count": null,
   "id": "334cdeaa",
   "metadata": {},
   "outputs": [],
   "source": [
    "count_val = count_vectorizer.transform(X_val.values.astype('U'))"
   ]
  },
  {
   "cell_type": "code",
   "execution_count": null,
   "id": "863f90c6",
   "metadata": {},
   "outputs": [],
   "source": [
    "count_val_5000 = count_vectorizer_5000.transform(X_val.values.astype('U'))"
   ]
  },
  {
   "cell_type": "markdown",
   "id": "c819764f",
   "metadata": {},
   "source": [
    "**Test Data**"
   ]
  },
  {
   "cell_type": "code",
   "execution_count": null,
   "id": "68b897f7",
   "metadata": {},
   "outputs": [],
   "source": [
    "count_test = count_vectorizer.transform(X_test.values.astype('U'))"
   ]
  },
  {
   "cell_type": "code",
   "execution_count": null,
   "id": "f12124e0",
   "metadata": {},
   "outputs": [],
   "source": [
    "count_test_500 = count_vectorizer.transform(X_test.values.astype('U'))"
   ]
  },
  {
   "cell_type": "markdown",
   "id": "90a9ae7f",
   "metadata": {},
   "source": [
    "## Modeling and Evaluation"
   ]
  },
  {
   "cell_type": "markdown",
   "id": "29b34439",
   "metadata": {},
   "source": [
    "### Defining the Functions"
   ]
  },
  {
   "cell_type": "code",
   "execution_count": null,
   "id": "25ab4c8c",
   "metadata": {},
   "outputs": [],
   "source": [
    "main_directory = './saved_models/trad_ml/'"
   ]
  },
  {
   "cell_type": "code",
   "execution_count": null,
   "id": "70b3af3d",
   "metadata": {},
   "outputs": [],
   "source": [
    "def save_models (model, model_name, vectorizer_name):\n",
    "    curr_directory = main_directory + model_name + '/' + vectorizer_name + '/'\n",
    "    \n",
    "    model_filename = curr_directory + 'model' + '.pkl'\n",
    "    \n",
    "    with open(model_filename, 'wb') as file:\n",
    "        pickle.dump(model, file)"
   ]
  },
  {
   "cell_type": "code",
   "execution_count": null,
   "id": "e57def7c",
   "metadata": {},
   "outputs": [],
   "source": [
    "def scores (y_true, y_pred):\n",
    "    accuracy = accuracy_score(y_true = y_true, y_pred = y_pred) * 100\n",
    "    f1_micro_average = f1_score(y_true = y_true, y_pred = y_pred, average = 'micro') * 100\n",
    "    f1_macro_average = f1_score(y_true = y_true, y_pred = y_pred, average = 'macro') * 100\n",
    "    hamming_loss_score = hamming_loss(y_true = y_true, y_pred = y_pred) * 100\n",
    "    \n",
    "    return accuracy, f1_micro_average, f1_macro_average, hamming_loss_score"
   ]
  },
  {
   "cell_type": "code",
   "execution_count": null,
   "id": "b453625e",
   "metadata": {},
   "outputs": [],
   "source": [
    "def print_scores (accuracy, f1_micro_average, f1_macro_average, hamming_loss_score):\n",
    "    print('Accuracy: ', accuracy, '%')\n",
    "    print('F1 Macro Average: ', f1_macro_average, '%')\n",
    "    print('F1 Micro Average: ', f1_micro_average, '%')\n",
    "    print('Hamming Loss: ', hamming_loss_score, '%')"
   ]
  },
  {
   "cell_type": "code",
   "execution_count": null,
   "id": "c99288ab",
   "metadata": {},
   "outputs": [],
   "source": [
    "def train_model(base_model, X_train, y_train, X_test, y_test, model_name, vectorizer_name):\n",
    "    test_predictions = np.zeros((len(y_test), 1))   \n",
    "                                                       \n",
    "    model = base_model\n",
    "    model.fit(X_train, y_train)   \n",
    "    \n",
    "    train_predictions = model.predict(X_train)                      \n",
    "    accuracy, f1_micro_average, f1_macro_average, hamming_loss_score = scores (y_train, train_predictions)    \n",
    "    print_scores (accuracy, f1_micro_average, f1_macro_average, hamming_loss_score)\n",
    "\n",
    "    test_predictions = model.predict(X_test)       \n",
    "    \n",
    "    save_models(model, model_name, vectorizer_name)\n",
    "    \n",
    "    return model, test_predictions"
   ]
  },
  {
   "cell_type": "code",
   "execution_count": null,
   "id": "c4ac1621",
   "metadata": {},
   "outputs": [],
   "source": [
    "def tune_and_train_model(model, hyperparameters,\n",
    "                         X_train, y_train, \n",
    "                         X_test, y_test, \n",
    "                         scoring='accuracy', cv = 5, \n",
    "                         model_name, vectorizer_name):\n",
    "    \n",
    "    print('Tuning', str(model) + '...')\n",
    "        \n",
    "    model_cv = GridSearchCV(model, hyperparameters, cv = cv, scoring = scoring, n_jobs = -1)\n",
    "    model_cv.fit(X_train, y_train)\n",
    "        \n",
    "    train_predictions = model_cv.predict(X_train)                              \n",
    "    accuracy = accuracy_score(train_predictions, y_train)           \n",
    "        \n",
    "    test_predictions = model_cv.predict(X_test)               \n",
    "    \n",
    "    save_models(model_cv.best_estimator_, model_name, vectorizer_name)\n",
    "    \n",
    "    return model_cv.best_estimator_, test_predictions"
   ]
  },
  {
   "cell_type": "markdown",
   "id": "dc70e430",
   "metadata": {},
   "source": [
    "### Declaration of Hyperparameter Space"
   ]
  },
  {
   "cell_type": "code",
   "execution_count": null,
   "id": "63411683",
   "metadata": {},
   "outputs": [],
   "source": [
    "lr_hp_space = [{\n",
    "    'C' : [0.01, 0.1, 1, 10],\n",
    "    'max_iter' : [50, 100, 300, 600, 900, 1100] \n",
    "}]"
   ]
  },
  {
   "cell_type": "code",
   "execution_count": null,
   "id": "f5d3c0ef",
   "metadata": {},
   "outputs": [],
   "source": [
    "mnb_hp_space = [{\n",
    "    'alpha' : [0.0001, 0.001, 0.1, 1, 10, 100, 1000],\n",
    "    'fit_prior' : [True, False]\n",
    "}]"
   ]
  },
  {
   "cell_type": "code",
   "execution_count": null,
   "id": "2ec0ed89",
   "metadata": {},
   "outputs": [],
   "source": [
    "rf_hp_space = [{\n",
    "    'criterion' : ['gini', 'entropy'],\n",
    "    'n_estimators' : [50, 100, 150],\n",
    "    'min_samples_split' : [2, 4, 10, 15],\n",
    "    'max_depth' : [None, 50, 100, 150],\n",
    "    'max_leaf_nodes' : [None, 50, 75, 100]\n",
    "}]"
   ]
  },
  {
   "cell_type": "markdown",
   "id": "9e30a140",
   "metadata": {},
   "source": [
    "### Logistic Regression (TF-IDF Vectorizer)"
   ]
  },
  {
   "cell_type": "markdown",
   "id": "5c2c5cf8",
   "metadata": {},
   "source": [
    "#### Model Training "
   ]
  },
  {
   "cell_type": "code",
   "execution_count": null,
   "id": "2e1fa5e6",
   "metadata": {},
   "outputs": [],
   "source": [
    "log_reg = LogisticRegression(n_jobs = -1)"
   ]
  },
  {
   "cell_type": "code",
   "execution_count": null,
   "id": "39bc9195",
   "metadata": {},
   "outputs": [],
   "source": [
    "log_reg_tfidf, lr_test_predictions_tfidf = train_model (log_reg, \n",
    "                                                        tfidf_train, y_train, \n",
    "                                                        tfidf_test, y_test, \n",
    "                                                        'logreg', 'tfidf')"
   ]
  },
  {
   "cell_type": "code",
   "execution_count": null,
   "id": "2e72165c",
   "metadata": {},
   "outputs": [],
   "source": [
    "ConfusionMatrixDisplay(confusion_matrix(y_test, lr_test_predictions_tfidf)).plot()"
   ]
  },
  {
   "cell_type": "code",
   "execution_count": null,
   "id": "a5797654",
   "metadata": {},
   "outputs": [],
   "source": [
    "accuracy, f1_micro_average, f1_macro_average, hamming_loss_score = scores (y_test, lr_test_predictions_tfidf)   \n",
    "print_scores (accuracy, f1_micro_average, f1_macro_average, hamming_loss_score)"
   ]
  },
  {
   "cell_type": "markdown",
   "id": "69dc06ef",
   "metadata": {},
   "source": [
    "#### Hyperparameter Tuning"
   ]
  },
  {
   "cell_type": "code",
   "execution_count": null,
   "id": "f315c86c",
   "metadata": {},
   "outputs": [],
   "source": [
    "log_reg = LogisticRegression(n_jobs = -1)"
   ]
  },
  {
   "cell_type": "code",
   "execution_count": null,
   "id": "f393e82a",
   "metadata": {},
   "outputs": [],
   "source": [
    "lr_tuned_model_tfidf, lr_tuned_test_predictions_tfidf = tune_and_train_model (log_reg, lr_hp_space, \n",
    "                                                                              tfidf_train, y_train, \n",
    "                                                                              tfidf_test, y_test,\n",
    "                                                                              'logreg_tuned', 'tfidf')"
   ]
  },
  {
   "cell_type": "code",
   "execution_count": null,
   "id": "e5acb9c0",
   "metadata": {},
   "outputs": [],
   "source": [
    "lr_tuned_model_tfidf"
   ]
  },
  {
   "cell_type": "code",
   "execution_count": null,
   "id": "0f041cc2",
   "metadata": {},
   "outputs": [],
   "source": [
    "ConfusionMatrixDisplay(confusion_matrix(y_test, lr_tuned_test_predictions_tfidf)).plot()"
   ]
  },
  {
   "cell_type": "markdown",
   "id": "a8cfb9ad",
   "metadata": {},
   "source": [
    "#### Evaluation"
   ]
  },
  {
   "cell_type": "code",
   "execution_count": null,
   "id": "8ae7669c",
   "metadata": {},
   "outputs": [],
   "source": [
    "accuracy, f1_micro_average, f1_macro_average, hamming_loss_score = scores (y_test, lr_test_predictions_tfidf)    \n",
    "\n",
    "temp_scores = {\n",
    "    'Model' : 'Logistic Regression',\n",
    "    'Vectorizer' : 'TF-IDF Vectorizer',\n",
    "    'Accuracy' : accuracy,\n",
    "    'F1 Micro Average' : f1_micro_average,\n",
    "    'F1 Macro Average' : f1_macro_average,\n",
    "    'Hamming Loss' : hamming_loss_score\n",
    "}  \n",
    "\n",
    "scores_list.append(temp_scores)\n",
    "\n",
    "print_scores (accuracy, f1_micro_average, f1_macro_average, hamming_loss_score)"
   ]
  },
  {
   "cell_type": "markdown",
   "id": "aca8a21f",
   "metadata": {},
   "source": [
    "#### Feature Importance"
   ]
  },
  {
   "cell_type": "code",
   "execution_count": null,
   "id": "e889ae5f",
   "metadata": {},
   "outputs": [],
   "source": []
  },
  {
   "cell_type": "markdown",
   "id": "e66dc533",
   "metadata": {},
   "source": [
    "### Logistic Regression (Count Vectorizer)"
   ]
  },
  {
   "cell_type": "markdown",
   "id": "2ca81a8f",
   "metadata": {},
   "source": [
    "#### Model Training "
   ]
  },
  {
   "cell_type": "code",
   "execution_count": null,
   "id": "885a09dd",
   "metadata": {},
   "outputs": [],
   "source": [
    "log_reg = LogisticRegression(n_jobs = -1)"
   ]
  },
  {
   "cell_type": "code",
   "execution_count": null,
   "id": "8dcf87b9",
   "metadata": {},
   "outputs": [],
   "source": [
    "log_reg_count, lr_test_predictions_count = train_model (log_reg, \n",
    "                                                        count_train, y_train, \n",
    "                                                        count_test, y_test, \n",
    "                                                        'logreg', 'count')"
   ]
  },
  {
   "cell_type": "code",
   "execution_count": null,
   "id": "dc3ae8b9",
   "metadata": {},
   "outputs": [],
   "source": [
    "ConfusionMatrixDisplay(confusion_matrix(y_test, lr_test_predictions_count)).plot()"
   ]
  },
  {
   "cell_type": "code",
   "execution_count": null,
   "id": "84a9a160",
   "metadata": {},
   "outputs": [],
   "source": [
    "accuracy, f1_micro_average, f1_macro_average, hamming_loss_score = scores (y_test, lr_test_predictions_count)   \n",
    "print_scores (accuracy, f1_micro_average, f1_macro_average, hamming_loss_score)"
   ]
  },
  {
   "cell_type": "markdown",
   "id": "48ee10a3",
   "metadata": {},
   "source": [
    "#### Hyperparameter Tuning"
   ]
  },
  {
   "cell_type": "code",
   "execution_count": null,
   "id": "1934b99c",
   "metadata": {},
   "outputs": [],
   "source": [
    "log_reg = LogisticRegression(n_jobs = -1)"
   ]
  },
  {
   "cell_type": "code",
   "execution_count": null,
   "id": "dcae26a8",
   "metadata": {},
   "outputs": [],
   "source": [
    "lr_tuned_model_count, lr_tuned_test_predictions_count = tune_and_train_model (log_reg, lr_hp_space, \n",
    "                                                                              count_train, y_train, \n",
    "                                                                              count_test, y_test,\n",
    "                                                                              'logreg_tuned', 'count')"
   ]
  },
  {
   "cell_type": "code",
   "execution_count": null,
   "id": "e0cb55e9",
   "metadata": {},
   "outputs": [],
   "source": [
    "lr_tuned_model_count"
   ]
  },
  {
   "cell_type": "code",
   "execution_count": null,
   "id": "8571c8bd",
   "metadata": {},
   "outputs": [],
   "source": [
    "ConfusionMatrixDisplay(confusion_matrix(y_test, lr_tuned_test_predictions_count)).plot()"
   ]
  },
  {
   "cell_type": "markdown",
   "id": "0fca6a24",
   "metadata": {},
   "source": [
    "#### Evaluation"
   ]
  },
  {
   "cell_type": "code",
   "execution_count": null,
   "id": "e6228b74",
   "metadata": {},
   "outputs": [],
   "source": [
    "accuracy, f1_micro_average, f1_macro_average, hamming_loss_score = scores (y_test, lr_test_predictions_count)    \n",
    "\n",
    "temp_scores = {\n",
    "    'Model' : 'Logistic Regression',\n",
    "    'Vectorizer' : 'Count Vectorizer',\n",
    "    'Accuracy' : accuracy,\n",
    "    'F1 Micro Average' : f1_micro_average,\n",
    "    'F1 Macro Average' : f1_macro_average,\n",
    "    'Hamming Loss' : hamming_loss_score\n",
    "}  \n",
    "\n",
    "scores_list.append(temp_scores)\n",
    "\n",
    "print_scores (accuracy, f1_micro_average, f1_macro_average, hamming_loss_score)"
   ]
  },
  {
   "cell_type": "markdown",
   "id": "1a6983b9",
   "metadata": {},
   "source": [
    "#### Feature Importance"
   ]
  },
  {
   "cell_type": "code",
   "execution_count": null,
   "id": "79493480",
   "metadata": {},
   "outputs": [],
   "source": []
  },
  {
   "cell_type": "markdown",
   "id": "2979bfad",
   "metadata": {},
   "source": [
    "### Multinomial Naive Bayes (TF-IDF Vectorizer)"
   ]
  },
  {
   "cell_type": "markdown",
   "id": "0606c404",
   "metadata": {},
   "source": [
    "#### Model Training "
   ]
  },
  {
   "cell_type": "code",
   "execution_count": null,
   "id": "aa9e7f32",
   "metadata": {},
   "outputs": [],
   "source": [
    "multinomial_nb = MultinomialNB ()"
   ]
  },
  {
   "cell_type": "code",
   "execution_count": null,
   "id": "3820d796",
   "metadata": {},
   "outputs": [],
   "source": [
    "mnb_tfidf, mnb_test_predictions_tfidf = train_model (multinomial_nb, \n",
    "                                                     tfidf_train, y_train, \n",
    "                                                     tfidf_test, y_test, \n",
    "                                                     'mnb', 'tfidf')"
   ]
  },
  {
   "cell_type": "code",
   "execution_count": null,
   "id": "27d3cac9",
   "metadata": {},
   "outputs": [],
   "source": [
    "ConfusionMatrixDisplay(confusion_matrix(y_test, mnb_test_predictions_tfidf)).plot()"
   ]
  },
  {
   "cell_type": "code",
   "execution_count": null,
   "id": "8f3cca8e",
   "metadata": {},
   "outputs": [],
   "source": [
    "accuracy, f1_micro_average, f1_macro_average, hamming_loss_score = scores (y_test, mnb_test_predictions_tfidf)   \n",
    "print_scores (accuracy, f1_micro_average, f1_macro_average, hamming_loss_score)"
   ]
  },
  {
   "cell_type": "markdown",
   "id": "94c42f74",
   "metadata": {},
   "source": [
    "#### Hyperparameter Tuning"
   ]
  },
  {
   "cell_type": "code",
   "execution_count": null,
   "id": "48582354",
   "metadata": {},
   "outputs": [],
   "source": [
    "multinomial_nb = MultinomialNB ()"
   ]
  },
  {
   "cell_type": "code",
   "execution_count": null,
   "id": "cf67935e",
   "metadata": {},
   "outputs": [],
   "source": [
    "mnb_tuned_model_tfidf, mnb_tuned_test_predictions_tfidf = tune_and_train_model (multinomial_nb, mnb_hp_space, \n",
    "                                                                                tfidf_train, y_train, \n",
    "                                                                                tfidf_test, y_test,\n",
    "                                                                                'mnb_tuned', 'tfidf')"
   ]
  },
  {
   "cell_type": "code",
   "execution_count": null,
   "id": "ba36005d",
   "metadata": {},
   "outputs": [],
   "source": [
    "mnb_tuned_model_tfidf"
   ]
  },
  {
   "cell_type": "code",
   "execution_count": null,
   "id": "63957275",
   "metadata": {},
   "outputs": [],
   "source": [
    "ConfusionMatrixDisplay(confusion_matrix(y_test, mnb_tuned_test_predictions_tfidf)).plot()"
   ]
  },
  {
   "cell_type": "markdown",
   "id": "3db633e9",
   "metadata": {},
   "source": [
    "#### Evaluation"
   ]
  },
  {
   "cell_type": "code",
   "execution_count": null,
   "id": "9f6f68bd",
   "metadata": {},
   "outputs": [],
   "source": [
    "accuracy, f1_micro_average, f1_macro_average, hamming_loss_score = scores (y_test, mnb_test_predictions_tfidf)    \n",
    "\n",
    "temp_scores = {\n",
    "    'Model' : 'Multinomial Naive Bayes',\n",
    "    'Vectorizer' : 'TF-IDF Vectorizer',\n",
    "    'Accuracy' : accuracy,\n",
    "    'F1 Micro Average' : f1_micro_average,\n",
    "    'F1 Macro Average' : f1_macro_average,\n",
    "    'Hamming Loss' : hamming_loss_score\n",
    "}  \n",
    "\n",
    "scores_list.append(temp_scores)\n",
    "\n",
    "print_scores (accuracy, f1_micro_average, f1_macro_average, hamming_loss_score)"
   ]
  },
  {
   "cell_type": "markdown",
   "id": "92832a95",
   "metadata": {},
   "source": [
    "#### Feature Importance"
   ]
  },
  {
   "cell_type": "code",
   "execution_count": null,
   "id": "1d95bd24",
   "metadata": {},
   "outputs": [],
   "source": []
  },
  {
   "cell_type": "markdown",
   "id": "ad0bb731",
   "metadata": {},
   "source": [
    "### Multinomial Naive Bayes (Count Vectorizer)\n"
   ]
  },
  {
   "cell_type": "markdown",
   "id": "8d253b30",
   "metadata": {},
   "source": [
    "#### Model Training "
   ]
  },
  {
   "cell_type": "code",
   "execution_count": null,
   "id": "74dab77d",
   "metadata": {},
   "outputs": [],
   "source": [
    "multinomial_nb = MultinomialNB ()"
   ]
  },
  {
   "cell_type": "code",
   "execution_count": null,
   "id": "fcc9a1d7",
   "metadata": {},
   "outputs": [],
   "source": [
    "mnb_count, mnb_test_predictions_count = train_model (multinomial_nb, \n",
    "                                                     count_train, y_train, \n",
    "                                                     count_test, y_test, \n",
    "                                                     'mnb', 'count')"
   ]
  },
  {
   "cell_type": "code",
   "execution_count": null,
   "id": "5d5ce3cf",
   "metadata": {},
   "outputs": [],
   "source": [
    "ConfusionMatrixDisplay(confusion_matrix(y_test, mnb_test_predictions_count)).plot()"
   ]
  },
  {
   "cell_type": "code",
   "execution_count": null,
   "id": "23d507bc",
   "metadata": {},
   "outputs": [],
   "source": [
    "accuracy, f1_micro_average, f1_macro_average, hamming_loss_score = scores (y_test, mnb_test_predictions_count)   \n",
    "print_scores (accuracy, f1_micro_average, f1_macro_average, hamming_loss_score)"
   ]
  },
  {
   "cell_type": "markdown",
   "id": "f6d43757",
   "metadata": {},
   "source": [
    "#### Hyperparameter Tuning"
   ]
  },
  {
   "cell_type": "code",
   "execution_count": null,
   "id": "839af927",
   "metadata": {},
   "outputs": [],
   "source": [
    "multinomial_nb = MultinomialNB ()"
   ]
  },
  {
   "cell_type": "code",
   "execution_count": null,
   "id": "da74d881",
   "metadata": {},
   "outputs": [],
   "source": [
    "mnb_tuned_model_count, mnb_tuned_test_predictions_count = tune_and_train_model (multinomial_nb, mnb_hp_space, \n",
    "                                                                                count_train, y_train, \n",
    "                                                                                count_test, y_test,\n",
    "                                                                                'mnb_tuned', 'count')"
   ]
  },
  {
   "cell_type": "code",
   "execution_count": null,
   "id": "813bc371",
   "metadata": {},
   "outputs": [],
   "source": [
    "mnb_tuned_model_count"
   ]
  },
  {
   "cell_type": "code",
   "execution_count": null,
   "id": "3443449d",
   "metadata": {},
   "outputs": [],
   "source": [
    "ConfusionMatrixDisplay(confusion_matrix(y_test, mnb_tuned_test_predictions_count)).plot()"
   ]
  },
  {
   "cell_type": "markdown",
   "id": "43058b61",
   "metadata": {},
   "source": [
    "#### Evaluation"
   ]
  },
  {
   "cell_type": "code",
   "execution_count": null,
   "id": "0301f3cd",
   "metadata": {},
   "outputs": [],
   "source": [
    "accuracy, f1_micro_average, f1_macro_average, hamming_loss_score = scores (y_test, mnb_test_predictions_count)    \n",
    "\n",
    "temp_scores = {\n",
    "    'Model' : 'Multinomial Naive Bayes',\n",
    "    'Vectorizer' : 'Count Vectorizer',\n",
    "    'Accuracy' : accuracy,\n",
    "    'F1 Micro Average' : f1_micro_average,\n",
    "    'F1 Macro Average' : f1_macro_average,\n",
    "    'Hamming Loss' : hamming_loss_score\n",
    "}  \n",
    "\n",
    "scores_list.append(temp_scores)\n",
    "\n",
    "print_scores (accuracy, f1_micro_average, f1_macro_average, hamming_loss_score)"
   ]
  },
  {
   "cell_type": "markdown",
   "id": "6a8f8711",
   "metadata": {},
   "source": [
    "#### Feature Importance"
   ]
  },
  {
   "cell_type": "code",
   "execution_count": null,
   "id": "32a30c33",
   "metadata": {},
   "outputs": [],
   "source": []
  },
  {
   "cell_type": "markdown",
   "id": "15025c92",
   "metadata": {},
   "source": [
    "### Random Forest Classifier (TF-IDF Vectorizer)"
   ]
  },
  {
   "cell_type": "markdown",
   "id": "48dc87c0",
   "metadata": {},
   "source": [
    "#### Model Training "
   ]
  },
  {
   "cell_type": "code",
   "execution_count": null,
   "id": "9b1568e3",
   "metadata": {},
   "outputs": [],
   "source": [
    "rf_classifier = RandomForestClassifier(n_jobs = -1)"
   ]
  },
  {
   "cell_type": "code",
   "execution_count": null,
   "id": "d10f6349",
   "metadata": {},
   "outputs": [],
   "source": [
    "rf_tfidf, rf_test_predictions_tfidf = train_model (rf_classifier,\n",
    "                                                   tfidf_train, y_train, \n",
    "                                                   tfidf_test, y_test, \n",
    "                                                   'rf', 'tfidf')"
   ]
  },
  {
   "cell_type": "code",
   "execution_count": null,
   "id": "35687d59",
   "metadata": {},
   "outputs": [],
   "source": [
    "ConfusionMatrixDisplay(confusion_matrix(y_test, rf_test_predictions_tfidf)).plot()"
   ]
  },
  {
   "cell_type": "code",
   "execution_count": null,
   "id": "3bf19009",
   "metadata": {},
   "outputs": [],
   "source": [
    "accuracy, f1_micro_average, f1_macro_average, hamming_loss_score = scores (y_test, rf_test_predictions_tfidf)   \n",
    "print_scores (accuracy, f1_micro_average, f1_macro_average, hamming_loss_score)"
   ]
  },
  {
   "cell_type": "markdown",
   "id": "907adc08",
   "metadata": {},
   "source": [
    "#### Hyperparameter Tuning"
   ]
  },
  {
   "cell_type": "code",
   "execution_count": null,
   "id": "e166b153",
   "metadata": {},
   "outputs": [],
   "source": [
    "rf_classifier = RandomForestClassifier(n_jobs = -1)"
   ]
  },
  {
   "cell_type": "code",
   "execution_count": null,
   "id": "228c0252",
   "metadata": {},
   "outputs": [],
   "source": [
    "rf_tuned_model_tfidf, rf_tuned_test_predictions_tfidf = tune_and_train_model (rf_classifier, rf_hp_space, \n",
    "                                                                              tfidf_train, y_train,\n",
    "                                                                              tfidf_test, y_test,\n",
    "                                                                              'rf_tuned', 'tfidf')"
   ]
  },
  {
   "cell_type": "code",
   "execution_count": null,
   "id": "540df367",
   "metadata": {},
   "outputs": [],
   "source": [
    "rf_tuned_model_tfidf"
   ]
  },
  {
   "cell_type": "code",
   "execution_count": null,
   "id": "62f8d646",
   "metadata": {},
   "outputs": [],
   "source": [
    "ConfusionMatrixDisplay(confusion_matrix(y_test, rf_tuned_test_predictions_tfidf)).plot()"
   ]
  },
  {
   "cell_type": "markdown",
   "id": "455d8c55",
   "metadata": {},
   "source": [
    "#### Evaluation"
   ]
  },
  {
   "cell_type": "code",
   "execution_count": null,
   "id": "ef59c58a",
   "metadata": {},
   "outputs": [],
   "source": [
    "accuracy, f1_micro_average, f1_macro_average, hamming_loss_score = scores (y_test, rf_test_predictions_tfidf)    \n",
    "\n",
    "temp_scores = {\n",
    "    'Model' : 'Random Forest Classifier',\n",
    "    'Vectorizer' : 'TF-IDF Vectorizer',\n",
    "    'Accuracy' : accuracy,\n",
    "    'F1 Micro Average' : f1_micro_average,\n",
    "    'F1 Macro Average' : f1_macro_average,\n",
    "    'Hamming Loss' : hamming_loss_score\n",
    "}  \n",
    "\n",
    "scores_list.append(temp_scores)\n",
    "\n",
    "print_scores (accuracy, f1_micro_average, f1_macro_average, hamming_loss_score)"
   ]
  },
  {
   "cell_type": "markdown",
   "id": "8d1b8945",
   "metadata": {},
   "source": [
    "#### Feature Importance"
   ]
  },
  {
   "cell_type": "code",
   "execution_count": null,
   "id": "5049231f",
   "metadata": {},
   "outputs": [],
   "source": []
  },
  {
   "cell_type": "markdown",
   "id": "c6d7bb29",
   "metadata": {},
   "source": [
    "### Random Forest Classifier (Count Vectorizer)"
   ]
  },
  {
   "cell_type": "markdown",
   "id": "e416aa19",
   "metadata": {},
   "source": [
    "#### Model Training "
   ]
  },
  {
   "cell_type": "code",
   "execution_count": null,
   "id": "f0c790c8",
   "metadata": {},
   "outputs": [],
   "source": [
    "rf_classifier = RandomForestClassifier(n_jobs = -1)"
   ]
  },
  {
   "cell_type": "code",
   "execution_count": null,
   "id": "a12f609a",
   "metadata": {},
   "outputs": [],
   "source": [
    "rf_count, rf_test_predictions_count = train_model (rf_classifier,\n",
    "                                                   count_train, y_train, \n",
    "                                                   count_test, y_test, \n",
    "                                                   'rf', 'count')"
   ]
  },
  {
   "cell_type": "code",
   "execution_count": null,
   "id": "135fbed3",
   "metadata": {},
   "outputs": [],
   "source": [
    "ConfusionMatrixDisplay(confusion_matrix(y_test, rf_test_predictions_count)).plot()"
   ]
  },
  {
   "cell_type": "code",
   "execution_count": null,
   "id": "d9a7e575",
   "metadata": {},
   "outputs": [],
   "source": [
    "accuracy, f1_micro_average, f1_macro_average, hamming_loss_score = scores (y_test, rf_test_predictions_count)   \n",
    "print_scores (accuracy, f1_micro_average, f1_macro_average, hamming_loss_score)"
   ]
  },
  {
   "cell_type": "markdown",
   "id": "f867c94d",
   "metadata": {},
   "source": [
    "#### Hyperparameter Tuning"
   ]
  },
  {
   "cell_type": "code",
   "execution_count": null,
   "id": "7a4e1c59",
   "metadata": {},
   "outputs": [],
   "source": [
    "rf_classifier = RandomForestClassifier(n_jobs = -1)"
   ]
  },
  {
   "cell_type": "code",
   "execution_count": null,
   "id": "190fcc84",
   "metadata": {},
   "outputs": [],
   "source": [
    "rf_tuned_model_count, rf_tuned_test_predictions_count = tune_and_train_model (rf_classifier, rf_hp_space, \n",
    "                                                                              count_train, y_train,\n",
    "                                                                              count_test, y_test,\n",
    "                                                                              'rf_tuned', 'count')"
   ]
  },
  {
   "cell_type": "code",
   "execution_count": null,
   "id": "87336f0c",
   "metadata": {},
   "outputs": [],
   "source": [
    "rf_tuned_model_count"
   ]
  },
  {
   "cell_type": "code",
   "execution_count": null,
   "id": "7ac0a41b",
   "metadata": {},
   "outputs": [],
   "source": [
    "ConfusionMatrixDisplay(confusion_matrix(y_test, rf_tuned_test_predictions_count)).plot()"
   ]
  },
  {
   "cell_type": "markdown",
   "id": "bc4796b6",
   "metadata": {},
   "source": [
    "#### Evaluation"
   ]
  },
  {
   "cell_type": "code",
   "execution_count": null,
   "id": "30a5280a",
   "metadata": {},
   "outputs": [],
   "source": [
    "accuracy, f1_micro_average, f1_macro_average, hamming_loss_score = scores (y_test, rf_test_predictions_count)    \n",
    "\n",
    "temp_scores = {\n",
    "    'Model' : 'Random Forest Classifier',\n",
    "    'Vectorizer' : 'Count Vectorizer',\n",
    "    'Accuracy' : accuracy,\n",
    "    'F1 Micro Average' : f1_micro_average,\n",
    "    'F1 Macro Average' : f1_macro_average,\n",
    "    'Hamming Loss' : hamming_loss_score\n",
    "}  \n",
    "\n",
    "scores_list.append(temp_scores)\n",
    "\n",
    "print_scores (accuracy, f1_micro_average, f1_macro_average, hamming_loss_score)"
   ]
  },
  {
   "cell_type": "markdown",
   "id": "84b5a227",
   "metadata": {},
   "source": [
    "#### Feature Importance"
   ]
  },
  {
   "cell_type": "code",
   "execution_count": null,
   "id": "f79a9f01",
   "metadata": {},
   "outputs": [],
   "source": []
  },
  {
   "cell_type": "markdown",
   "id": "e36c6680",
   "metadata": {},
   "source": [
    "## Summary of Model Scores"
   ]
  },
  {
   "cell_type": "code",
   "execution_count": null,
   "id": "0c0c97b4",
   "metadata": {},
   "outputs": [],
   "source": [
    "pd.DataFrame(scores_list).sort_values(['Accuracy', 'F1 Micro Average', 'F1 Macro Average', 'Hamming Loss'], ascending = False).reset_index(drop = True)"
   ]
  }
 ],
 "metadata": {
  "kernelspec": {
   "display_name": "Python 3 (ipykernel)",
   "language": "python",
   "name": "python3"
  },
  "language_info": {
   "codemirror_mode": {
    "name": "ipython",
    "version": 3
   },
   "file_extension": ".py",
   "mimetype": "text/x-python",
   "name": "python",
   "nbconvert_exporter": "python",
   "pygments_lexer": "ipython3",
   "version": "3.9.16"
  }
 },
 "nbformat": 4,
 "nbformat_minor": 5
}
